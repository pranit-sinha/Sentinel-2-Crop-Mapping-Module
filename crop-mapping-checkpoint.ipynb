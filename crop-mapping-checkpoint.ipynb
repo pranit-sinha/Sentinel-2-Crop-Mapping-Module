{
 "cells": [
  {
   "cell_type": "code",
   "execution_count": 1,
   "id": "bc29d7f8",
   "metadata": {},
   "outputs": [
    {
     "name": "stdout",
     "output_type": "stream",
     "text": [
      "Current working directory: C:\\Users\\prani\\Documents\\Crop-Mapping\n",
      "Python path: ['C:\\\\Users\\\\prani\\\\Documents\\\\Crop-Mapping', 'C:\\\\Users\\\\prani\\\\anaconda3\\\\envs\\\\cv\\\\python38.zip', 'C:\\\\Users\\\\prani\\\\anaconda3\\\\envs\\\\cv\\\\DLLs', 'C:\\\\Users\\\\prani\\\\anaconda3\\\\envs\\\\cv\\\\lib', 'C:\\\\Users\\\\prani\\\\anaconda3\\\\envs\\\\cv', '', 'C:\\\\Users\\\\prani\\\\anaconda3\\\\envs\\\\cv\\\\lib\\\\site-packages', 'C:\\\\Users\\\\prani\\\\anaconda3\\\\envs\\\\cv\\\\lib\\\\site-packages\\\\win32', 'C:\\\\Users\\\\prani\\\\anaconda3\\\\envs\\\\cv\\\\lib\\\\site-packages\\\\win32\\\\lib', 'C:\\\\Users\\\\prani\\\\anaconda3\\\\envs\\\\cv\\\\lib\\\\site-packages\\\\Pythonwin', 'C:/Users/prani/Documents/Crop-Mapping/eetc']\n"
     ]
    }
   ],
   "source": [
    "import sys\n",
    "sys.path.append('C:/Users/prani/Documents/Crop-Mapping/eetc')\n",
    "print(\"Current working directory:\", sys.path[0])\n",
    "print(\"Python path:\", sys.path)"
   ]
  },
  {
   "cell_type": "code",
   "execution_count": 2,
   "id": "6024d382",
   "metadata": {},
   "outputs": [],
   "source": [
    "import geemap.foliumap, ee\n",
    "import pandas as pd\n",
    "import geopandas as gpd"
   ]
  },
  {
   "cell_type": "code",
   "execution_count": 3,
   "id": "2ab1ff50",
   "metadata": {},
   "outputs": [
    {
     "data": {
      "text/html": [
       "\n",
       "            <style>\n",
       "                .geemap-dark {\n",
       "                    --jp-widgets-color: white;\n",
       "                    --jp-widgets-label-color: white;\n",
       "                    --jp-ui-font-color1: white;\n",
       "                    --jp-layout-color2: #454545;\n",
       "                    background-color: #383838;\n",
       "                }\n",
       "                    \n",
       "                .geemap-dark .jupyter-button {\n",
       "                    --jp-layout-color3: #383838;\n",
       "                }\n",
       "                \n",
       "                .geemap-colab {\n",
       "                    background-color: var(--colab-primary-surface-color, white);\n",
       "                }\n",
       "                    \n",
       "                .geemap-colab .jupyter-button {\n",
       "                    --jp-layout-color3: var(--colab-primary-surface-color, white);\n",
       "                }\n",
       "            </style>\n",
       "            "
      ],
      "text/plain": [
       "<IPython.core.display.HTML object>"
      ]
     },
     "metadata": {},
     "output_type": "display_data"
    }
   ],
   "source": [
    "ee.Initialize()"
   ]
  },
  {
   "cell_type": "markdown",
   "id": "6477a978",
   "metadata": {},
   "source": [
    "We first visualise a basic map by obtaining national level boundaries for India and converting this to a 'geometry', a type provided by earth engine"
   ]
  },
  {
   "cell_type": "code",
   "execution_count": 24,
   "id": "11ec1838",
   "metadata": {
    "scrolled": true
   },
   "outputs": [
    {
     "data": {
      "text/html": [
       "\n",
       "            <style>\n",
       "                .geemap-dark {\n",
       "                    --jp-widgets-color: white;\n",
       "                    --jp-widgets-label-color: white;\n",
       "                    --jp-ui-font-color1: white;\n",
       "                    --jp-layout-color2: #454545;\n",
       "                    background-color: #383838;\n",
       "                }\n",
       "                    \n",
       "                .geemap-dark .jupyter-button {\n",
       "                    --jp-layout-color3: #383838;\n",
       "                }\n",
       "                \n",
       "                .geemap-colab {\n",
       "                    background-color: var(--colab-primary-surface-color, white);\n",
       "                }\n",
       "                    \n",
       "                .geemap-colab .jupyter-button {\n",
       "                    --jp-layout-color3: var(--colab-primary-surface-color, white);\n",
       "                }\n",
       "            </style>\n",
       "            "
      ],
      "text/plain": [
       "<IPython.core.display.HTML object>"
      ]
     },
     "metadata": {},
     "output_type": "display_data"
    },
    {
     "data": {
      "text/html": [
       "<iframe srcdoc=\"&lt;!DOCTYPE html&gt;\n",
       "&lt;html&gt;\n",
       "&lt;head&gt;\n",
       "    \n",
       "    &lt;meta http-equiv=&quot;content-type&quot; content=&quot;text/html; charset=UTF-8&quot; /&gt;\n",
       "    \n",
       "        &lt;script&gt;\n",
       "            L_NO_TOUCH = false;\n",
       "            L_DISABLE_3D = false;\n",
       "        &lt;/script&gt;\n",
       "    \n",
       "    &lt;style&gt;html, body {width: 100%;height: 100%;margin: 0;padding: 0;}&lt;/style&gt;\n",
       "    &lt;style&gt;#map {position:absolute;top:0;bottom:0;right:0;left:0;}&lt;/style&gt;\n",
       "    &lt;script src=&quot;https://cdn.jsdelivr.net/npm/leaflet@1.9.3/dist/leaflet.js&quot;&gt;&lt;/script&gt;\n",
       "    &lt;script src=&quot;https://code.jquery.com/jquery-3.7.1.min.js&quot;&gt;&lt;/script&gt;\n",
       "    &lt;script src=&quot;https://cdn.jsdelivr.net/npm/bootstrap@5.2.2/dist/js/bootstrap.bundle.min.js&quot;&gt;&lt;/script&gt;\n",
       "    &lt;script src=&quot;https://cdnjs.cloudflare.com/ajax/libs/Leaflet.awesome-markers/2.0.2/leaflet.awesome-markers.js&quot;&gt;&lt;/script&gt;\n",
       "    &lt;link rel=&quot;stylesheet&quot; href=&quot;https://cdn.jsdelivr.net/npm/leaflet@1.9.3/dist/leaflet.css&quot;/&gt;\n",
       "    &lt;link rel=&quot;stylesheet&quot; href=&quot;https://cdn.jsdelivr.net/npm/bootstrap@5.2.2/dist/css/bootstrap.min.css&quot;/&gt;\n",
       "    &lt;link rel=&quot;stylesheet&quot; href=&quot;https://netdna.bootstrapcdn.com/bootstrap/3.0.0/css/bootstrap.min.css&quot;/&gt;\n",
       "    &lt;link rel=&quot;stylesheet&quot; href=&quot;https://cdn.jsdelivr.net/npm/@fortawesome/fontawesome-free@6.2.0/css/all.min.css&quot;/&gt;\n",
       "    &lt;link rel=&quot;stylesheet&quot; href=&quot;https://cdnjs.cloudflare.com/ajax/libs/Leaflet.awesome-markers/2.0.2/leaflet.awesome-markers.css&quot;/&gt;\n",
       "    &lt;link rel=&quot;stylesheet&quot; href=&quot;https://cdn.jsdelivr.net/gh/python-visualization/folium/folium/templates/leaflet.awesome.rotate.min.css&quot;/&gt;\n",
       "    \n",
       "            &lt;meta name=&quot;viewport&quot; content=&quot;width=device-width,\n",
       "                initial-scale=1.0, maximum-scale=1.0, user-scalable=no&quot; /&gt;\n",
       "            &lt;style&gt;\n",
       "                #map_fd4a28424ed39da88b4b8067902fab44 {\n",
       "                    position: relative;\n",
       "                    width: 100.0%;\n",
       "                    height: 100.0%;\n",
       "                    left: 0.0%;\n",
       "                    top: 0.0%;\n",
       "                }\n",
       "                .leaflet-container { font-size: 1rem; }\n",
       "            &lt;/style&gt;\n",
       "        \n",
       "    &lt;script src=&quot;https://cdn.jsdelivr.net/npm/leaflet.fullscreen@3.0.0/Control.FullScreen.min.js&quot;&gt;&lt;/script&gt;\n",
       "    &lt;link rel=&quot;stylesheet&quot; href=&quot;https://cdn.jsdelivr.net/npm/leaflet.fullscreen@3.0.0/Control.FullScreen.css&quot;/&gt;\n",
       "    &lt;script src=&quot;https://cdnjs.cloudflare.com/ajax/libs/leaflet.draw/1.0.2/leaflet.draw.js&quot;&gt;&lt;/script&gt;\n",
       "    &lt;link rel=&quot;stylesheet&quot; href=&quot;https://cdnjs.cloudflare.com/ajax/libs/leaflet.draw/1.0.2/leaflet.draw.css&quot;/&gt;\n",
       "    &lt;script src=&quot;https://unpkg.com/leaflet-control-geocoder/dist/Control.Geocoder.js&quot;&gt;&lt;/script&gt;\n",
       "    &lt;link rel=&quot;stylesheet&quot; href=&quot;https://unpkg.com/leaflet-control-geocoder/dist/Control.Geocoder.css&quot;/&gt;\n",
       "&lt;/head&gt;\n",
       "&lt;body&gt;\n",
       "    \n",
       "    \n",
       "            &lt;div class=&quot;folium-map&quot; id=&quot;map_fd4a28424ed39da88b4b8067902fab44&quot; &gt;&lt;/div&gt;\n",
       "        \n",
       "&lt;/body&gt;\n",
       "&lt;script&gt;\n",
       "    \n",
       "    \n",
       "            var map_fd4a28424ed39da88b4b8067902fab44 = L.map(\n",
       "                &quot;map_fd4a28424ed39da88b4b8067902fab44&quot;,\n",
       "                {\n",
       "                    center: [28.946583, 77.101493],\n",
       "                    crs: L.CRS.EPSG3857,\n",
       "                    zoom: 6,\n",
       "                    zoomControl: true,\n",
       "                    preferCanvas: false,\n",
       "                    eeInitialize: true,\n",
       "                    addGoogleMap: false,\n",
       "                    pluginLatlngpopup: false,\n",
       "                    pluginFullscreen: true,\n",
       "                    pluginDraw: true,\n",
       "                    DrawExport: false,\n",
       "                    pluginMinimap: false,\n",
       "                    locateControl: false,\n",
       "                    searchControl: true,\n",
       "                    layersControl: true,\n",
       "                }\n",
       "            );\n",
       "\n",
       "            \n",
       "\n",
       "        \n",
       "    \n",
       "            var tile_layer_a5647499af153d896174543be2b401e4 = L.tileLayer(\n",
       "                &quot;https://tile.openstreetmap.org/{z}/{x}/{y}.png&quot;,\n",
       "                {&quot;attribution&quot;: &quot;\\u0026copy; \\u003ca href=\\&quot;https://www.openstreetmap.org/copyright\\&quot;\\u003eOpenStreetMap\\u003c/a\\u003e contributors&quot;, &quot;detectRetina&quot;: false, &quot;maxNativeZoom&quot;: 19, &quot;maxZoom&quot;: 19, &quot;minZoom&quot;: 0, &quot;noWrap&quot;: false, &quot;opacity&quot;: 1, &quot;subdomains&quot;: &quot;abc&quot;, &quot;tms&quot;: false}\n",
       "            );\n",
       "        \n",
       "    \n",
       "            tile_layer_a5647499af153d896174543be2b401e4.addTo(map_fd4a28424ed39da88b4b8067902fab44);\n",
       "        \n",
       "    \n",
       "            L.control.fullscreen(\n",
       "                {&quot;forceSeparateButton&quot;: false, &quot;position&quot;: &quot;topleft&quot;, &quot;title&quot;: &quot;Full Screen&quot;, &quot;titleCancel&quot;: &quot;Exit Full Screen&quot;}\n",
       "            ).addTo(map_fd4a28424ed39da88b4b8067902fab44);\n",
       "        \n",
       "    \n",
       "            var options = {\n",
       "              position: &quot;topleft&quot;,\n",
       "              draw: {},\n",
       "              edit: {},\n",
       "            }\n",
       "            // FeatureGroup is to store editable layers.\n",
       "            var drawnItems_draw_control_58488f8035f8796c42686f1aa220b1fe = new L.featureGroup().addTo(\n",
       "                map_fd4a28424ed39da88b4b8067902fab44\n",
       "            );\n",
       "            options.edit.featureGroup = drawnItems_draw_control_58488f8035f8796c42686f1aa220b1fe;\n",
       "            var draw_control_58488f8035f8796c42686f1aa220b1fe = new L.Control.Draw(\n",
       "                options\n",
       "            ).addTo( map_fd4a28424ed39da88b4b8067902fab44 );\n",
       "            map_fd4a28424ed39da88b4b8067902fab44.on(L.Draw.Event.CREATED, function(e) {\n",
       "                var layer = e.layer,\n",
       "                    type = e.layerType;\n",
       "                var coords = JSON.stringify(layer.toGeoJSON());\n",
       "                layer.on(&#x27;click&#x27;, function() {\n",
       "                    alert(coords);\n",
       "                    console.log(coords);\n",
       "                });\n",
       "                drawnItems_draw_control_58488f8035f8796c42686f1aa220b1fe.addLayer(layer);\n",
       "             });\n",
       "            map_fd4a28424ed39da88b4b8067902fab44.on(&#x27;draw:created&#x27;, function(e) {\n",
       "                drawnItems_draw_control_58488f8035f8796c42686f1aa220b1fe.addLayer(e.layer);\n",
       "            });\n",
       "            \n",
       "        \n",
       "    \n",
       "            L.Control.geocoder(\n",
       "                {&quot;collapsed&quot;: true, &quot;defaultMarkGeocode&quot;: true, &quot;position&quot;: &quot;topleft&quot;}\n",
       "            ).on(&#x27;markgeocode&#x27;, function(e) {\n",
       "                map_fd4a28424ed39da88b4b8067902fab44.setView(e.geocode.center, 11);\n",
       "            }).addTo(map_fd4a28424ed39da88b4b8067902fab44);\n",
       "\n",
       "        \n",
       "    \n",
       "            map_fd4a28424ed39da88b4b8067902fab44.fitBounds(\n",
       "                [[28.946583, 77.101493], [28.946583, 77.101493]],\n",
       "                {&quot;maxZoom&quot;: 6}\n",
       "            );\n",
       "        \n",
       "    \n",
       "            var tile_layer_f9d9977ffa22411500862fbe1dc65791 = L.tileLayer(\n",
       "                &quot;https://server.arcgisonline.com/ArcGIS/rest/services/World_Imagery/MapServer/tile/{z}/{y}/{x}&quot;,\n",
       "                {&quot;attribution&quot;: &quot;Esri&quot;, &quot;detectRetina&quot;: false, &quot;maxNativeZoom&quot;: 22, &quot;maxZoom&quot;: 22, &quot;minZoom&quot;: 0, &quot;noWrap&quot;: false, &quot;opacity&quot;: 1, &quot;subdomains&quot;: &quot;abc&quot;, &quot;tms&quot;: false}\n",
       "            );\n",
       "        \n",
       "    \n",
       "            tile_layer_f9d9977ffa22411500862fbe1dc65791.addTo(map_fd4a28424ed39da88b4b8067902fab44);\n",
       "        \n",
       "    \n",
       "            var tile_layer_4838c007dd045e7b32f47e55591347f7 = L.tileLayer(\n",
       "                &quot;https://earthengine.googleapis.com/v1/projects/earthengine-legacy/maps/6b5904d53056961e16be43a79cae14a6-2f02d2a9f3e91057813eef7a32381499/tiles/{z}/{x}/{y}&quot;,\n",
       "                {&quot;attribution&quot;: &quot;Google Earth Engine&quot;, &quot;detectRetina&quot;: false, &quot;maxNativeZoom&quot;: 24, &quot;maxZoom&quot;: 24, &quot;minZoom&quot;: 0, &quot;noWrap&quot;: false, &quot;opacity&quot;: 0.8, &quot;subdomains&quot;: &quot;abc&quot;, &quot;tms&quot;: false}\n",
       "            );\n",
       "        \n",
       "    \n",
       "            tile_layer_4838c007dd045e7b32f47e55591347f7.addTo(map_fd4a28424ed39da88b4b8067902fab44);\n",
       "        \n",
       "    \n",
       "            var layer_control_7436c879ec31d77dd7f41f99ba1c9a5f_layers = {\n",
       "                base_layers : {\n",
       "                    &quot;openstreetmap&quot; : tile_layer_a5647499af153d896174543be2b401e4,\n",
       "                },\n",
       "                overlays :  {\n",
       "                    &quot;Esri.WorldImagery&quot; : tile_layer_f9d9977ffa22411500862fbe1dc65791,\n",
       "                    &quot;Layer untitled&quot; : tile_layer_4838c007dd045e7b32f47e55591347f7,\n",
       "                },\n",
       "            };\n",
       "            let layer_control_7436c879ec31d77dd7f41f99ba1c9a5f = L.control.layers(\n",
       "                layer_control_7436c879ec31d77dd7f41f99ba1c9a5f_layers.base_layers,\n",
       "                layer_control_7436c879ec31d77dd7f41f99ba1c9a5f_layers.overlays,\n",
       "                {&quot;autoZIndex&quot;: true, &quot;collapsed&quot;: true, &quot;position&quot;: &quot;topright&quot;}\n",
       "            ).addTo(map_fd4a28424ed39da88b4b8067902fab44);\n",
       "\n",
       "        \n",
       "&lt;/script&gt;\n",
       "&lt;/html&gt;\" width=\"100%\" height=\"600\"style=\"border:none !important;\" \"allowfullscreen\" \"webkitallowfullscreen\" \"mozallowfullscreen\"></iframe>"
      ],
      "text/plain": [
       "<geemap.foliumap.Map at 0x1bc2d0865e0>"
      ]
     },
     "execution_count": 24,
     "metadata": {},
     "output_type": "execute_result"
    }
   ],
   "source": [
    "# Obtain national level boundaries, filter for India, convert to geometry\n",
    "india_geom = ee.Feature(ee.FeatureCollection(\"FAO/GAUL/2015/level0\").filter(ee.Filter.eq('ADM0_NAME', 'India')).geometry())\n",
    "\n",
    "# Visualize the area of india we created\n",
    "center_lat = 28.946583\n",
    "center_lon = 77.101493\n",
    "\n",
    "map_india = geemap.foliumap.Map(center=[center_lat,center_lon],zoom=6)\n",
    "map_india.add_basemap('SATELLITE')\n",
    "map_india.addLayer(india_geom,vis_params={'color':'a4c639'},opacity=0.8)\n",
    "map_india"
   ]
  },
  {
   "cell_type": "code",
   "execution_count": 92,
   "id": "c6e55b12",
   "metadata": {},
   "outputs": [
    {
     "data": {
      "text/html": [
       "\n",
       "            <style>\n",
       "                .geemap-dark {\n",
       "                    --jp-widgets-color: white;\n",
       "                    --jp-widgets-label-color: white;\n",
       "                    --jp-ui-font-color1: white;\n",
       "                    --jp-layout-color2: #454545;\n",
       "                    background-color: #383838;\n",
       "                }\n",
       "                    \n",
       "                .geemap-dark .jupyter-button {\n",
       "                    --jp-layout-color3: #383838;\n",
       "                }\n",
       "                \n",
       "                .geemap-colab {\n",
       "                    background-color: var(--colab-primary-surface-color, white);\n",
       "                }\n",
       "                    \n",
       "                .geemap-colab .jupyter-button {\n",
       "                    --jp-layout-color3: var(--colab-primary-surface-color, white);\n",
       "                }\n",
       "            </style>\n",
       "            "
      ],
      "text/plain": [
       "<IPython.core.display.HTML object>"
      ]
     },
     "metadata": {},
     "output_type": "display_data"
    }
   ],
   "source": [
    "from eetc import gee_tools\n",
    "import gee_tools.datasources.sentinel2_2a as s2_2a"
   ]
  },
  {
   "cell_type": "markdown",
   "id": "1aef2534",
   "metadata": {},
   "source": [
    "We obtain a set of images for our region of interest between a specified start and end date. The Sentinel-2 Level 2-A imagery has been orthorectified."
   ]
  },
  {
   "cell_type": "code",
   "execution_count": 17,
   "id": "aa37078f",
   "metadata": {},
   "outputs": [
    {
     "data": {
      "text/html": [
       "\n",
       "            <style>\n",
       "                .geemap-dark {\n",
       "                    --jp-widgets-color: white;\n",
       "                    --jp-widgets-label-color: white;\n",
       "                    --jp-ui-font-color1: white;\n",
       "                    --jp-layout-color2: #454545;\n",
       "                    background-color: #383838;\n",
       "                }\n",
       "                    \n",
       "                .geemap-dark .jupyter-button {\n",
       "                    --jp-layout-color3: #383838;\n",
       "                }\n",
       "                \n",
       "                .geemap-colab {\n",
       "                    background-color: var(--colab-primary-surface-color, white);\n",
       "                }\n",
       "                    \n",
       "                .geemap-colab .jupyter-button {\n",
       "                    --jp-layout-color3: var(--colab-primary-surface-color, white);\n",
       "                }\n",
       "            </style>\n",
       "            "
      ],
      "text/plain": [
       "<IPython.core.display.HTML object>"
      ]
     },
     "metadata": {},
     "output_type": "display_data"
    }
   ],
   "source": [
    "s2coll_2a = s2_2a.Sentinel2SR(india_geom.geometry(), start_date = ee.Date('2018-11-20'), end_date = ee.Date('2019-09-20'), addVIs=True, addCloudMasks=False).get_img_coll()"
   ]
  },
  {
   "cell_type": "markdown",
   "id": "11624ee6",
   "metadata": {},
   "source": [
    "We can see the multispectral data available to us from Sentinel-2. Some of these are spectral indices, which are computed using information from multiple bands e.g,\n",
    "$$GCVI = \\frac{NIR}{GREEN} - 1$$\n",
    "\n",
    "$$NDVI = \\frac{NIR-RED}{NIR+RED}$$\n",
    "\n",
    "$$SNDVI = \\frac{NIR-RED}{NIR+RED+0.16}$$"
   ]
  },
  {
   "cell_type": "code",
   "execution_count": 70,
   "id": "2418712b",
   "metadata": {},
   "outputs": [
    {
     "data": {
      "text/html": [
       "\n",
       "            <style>\n",
       "                .geemap-dark {\n",
       "                    --jp-widgets-color: white;\n",
       "                    --jp-widgets-label-color: white;\n",
       "                    --jp-ui-font-color1: white;\n",
       "                    --jp-layout-color2: #454545;\n",
       "                    background-color: #383838;\n",
       "                }\n",
       "                    \n",
       "                .geemap-dark .jupyter-button {\n",
       "                    --jp-layout-color3: #383838;\n",
       "                }\n",
       "                \n",
       "                .geemap-colab {\n",
       "                    background-color: var(--colab-primary-surface-color, white);\n",
       "                }\n",
       "                    \n",
       "                .geemap-colab .jupyter-button {\n",
       "                    --jp-layout-color3: var(--colab-primary-surface-color, white);\n",
       "                }\n",
       "            </style>\n",
       "            "
      ],
      "text/plain": [
       "<IPython.core.display.HTML object>"
      ]
     },
     "metadata": {},
     "output_type": "display_data"
    },
    {
     "name": "stdout",
     "output_type": "stream",
     "text": [
      "AEROS\n",
      "BLUE\n",
      "GREEN\n",
      "RED\n",
      "RDED1\n",
      "RDED2\n",
      "RDED3\n",
      "NIR\n",
      "RDED4\n",
      "VAPOR\n",
      "SWIR1\n",
      "SWIR2\n",
      "AOT\n",
      "WVP\n",
      "SCL\n",
      "TCI_R\n",
      "TCI_G\n",
      "TCI_B\n",
      "MSK_CLDPRB\n",
      "MSK_SNWPRB\n",
      "QA10\n",
      "QA20\n",
      "QA60\n",
      "NBR1\n",
      "NBR2\n",
      "STI\n",
      "NDTI\n",
      "CRC\n",
      "REIP\n",
      "GCVI\n",
      "RDGCVI1\n",
      "RDGCVI2\n",
      "MTCI\n",
      "MTCI2\n",
      "WDRVI\n",
      "GRWDRVI\n",
      "RDWDRVI\n",
      "RDNDVI1\n",
      "RDNDVI2\n",
      "NDVI\n",
      "SNDVI\n"
     ]
    }
   ],
   "source": [
    "for band in s2coll_2a.first().getInfo()['bands']:\n",
    "    print(band['id'])"
   ]
  },
  {
   "cell_type": "markdown",
   "id": "51d35fc0",
   "metadata": {},
   "source": [
    "### Data Preprocessing"
   ]
  },
  {
   "cell_type": "markdown",
   "id": "867a24c4",
   "metadata": {},
   "source": [
    "Our satellite imagery needs to be pre-processed so as to mask pixels with clouds, haze etc. so they don't influence our predictions. A mask makes pixels transparent and unused in later operations."
   ]
  },
  {
   "cell_type": "code",
   "execution_count": 7,
   "id": "86ec80dc",
   "metadata": {},
   "outputs": [
    {
     "data": {
      "text/html": [
       "\n",
       "            <style>\n",
       "                .geemap-dark {\n",
       "                    --jp-widgets-color: white;\n",
       "                    --jp-widgets-label-color: white;\n",
       "                    --jp-ui-font-color1: white;\n",
       "                    --jp-layout-color2: #454545;\n",
       "                    background-color: #383838;\n",
       "                }\n",
       "                    \n",
       "                .geemap-dark .jupyter-button {\n",
       "                    --jp-layout-color3: #383838;\n",
       "                }\n",
       "                \n",
       "                .geemap-colab {\n",
       "                    background-color: var(--colab-primary-surface-color, white);\n",
       "                }\n",
       "                    \n",
       "                .geemap-colab .jupyter-button {\n",
       "                    --jp-layout-color3: var(--colab-primary-surface-color, white);\n",
       "                }\n",
       "            </style>\n",
       "            "
      ],
      "text/plain": [
       "<IPython.core.display.HTML object>"
      ]
     },
     "metadata": {},
     "output_type": "display_data"
    }
   ],
   "source": [
    "def MaskClouds(img, bandnames):\n",
    "    scl = img.select(['SCL'])\n",
    "    clear = scl.updateMask(scl.eq(4) or (scl.eq(5)))\n",
    "    img = img.updateMask(clear)\n",
    "    return img.select(bandnames)"
   ]
  },
  {
   "cell_type": "markdown",
   "id": "b224d8a0",
   "metadata": {},
   "source": [
    "Scene classification (SCL) is a descriptor produced by the Scene classification algorithm (run by ESA) which distinguishes between cloudy pixels, clear pixels and water pixels of Sentinel-2 data. Twelve different classes exist - 4 =Vegetation, 5 = Not-vegetated. The remaining are cloud, snow, water, unclassified etc. We can thereby convert the top of atmosphere reflectance to surface reflectance."
   ]
  },
  {
   "cell_type": "code",
   "execution_count": 8,
   "id": "44511582",
   "metadata": {},
   "outputs": [
    {
     "data": {
      "text/html": [
       "\n",
       "            <style>\n",
       "                .geemap-dark {\n",
       "                    --jp-widgets-color: white;\n",
       "                    --jp-widgets-label-color: white;\n",
       "                    --jp-ui-font-color1: white;\n",
       "                    --jp-layout-color2: #454545;\n",
       "                    background-color: #383838;\n",
       "                }\n",
       "                    \n",
       "                .geemap-dark .jupyter-button {\n",
       "                    --jp-layout-color3: #383838;\n",
       "                }\n",
       "                \n",
       "                .geemap-colab {\n",
       "                    background-color: var(--colab-primary-surface-color, white);\n",
       "                }\n",
       "                    \n",
       "                .geemap-colab .jupyter-button {\n",
       "                    --jp-layout-color3: var(--colab-primary-surface-color, white);\n",
       "                }\n",
       "            </style>\n",
       "            "
      ],
      "text/plain": [
       "<IPython.core.display.HTML object>"
      ]
     },
     "metadata": {},
     "output_type": "display_data"
    }
   ],
   "source": [
    "bandnames = ['AEROS', 'BLUE', 'GREEN', 'RED', 'RDED1','RDED2','RDED3','NIR','RDED4','VAPOR','SWIR1','SWIR2','NBR1','NDTI','GCVI','NDVI','SNDVI']\n",
    "\n",
    "s2coll_2a = s2coll_2a.map(lambda img: MaskClouds(img, bandnames))"
   ]
  },
  {
   "cell_type": "markdown",
   "id": "e1f5c165",
   "metadata": {},
   "source": [
    "We now have an image collection and we can visualise an index such as GCVI below (depicted for a region around our central point)"
   ]
  },
  {
   "cell_type": "code",
   "execution_count": 160,
   "id": "4b41c692",
   "metadata": {},
   "outputs": [
    {
     "data": {
      "text/html": [
       "\n",
       "            <style>\n",
       "                .geemap-dark {\n",
       "                    --jp-widgets-color: white;\n",
       "                    --jp-widgets-label-color: white;\n",
       "                    --jp-ui-font-color1: white;\n",
       "                    --jp-layout-color2: #454545;\n",
       "                    background-color: #383838;\n",
       "                }\n",
       "                    \n",
       "                .geemap-dark .jupyter-button {\n",
       "                    --jp-layout-color3: #383838;\n",
       "                }\n",
       "                \n",
       "                .geemap-colab {\n",
       "                    background-color: var(--colab-primary-surface-color, white);\n",
       "                }\n",
       "                    \n",
       "                .geemap-colab .jupyter-button {\n",
       "                    --jp-layout-color3: var(--colab-primary-surface-color, white);\n",
       "                }\n",
       "            </style>\n",
       "            "
      ],
      "text/plain": [
       "<IPython.core.display.HTML object>"
      ]
     },
     "metadata": {},
     "output_type": "display_data"
    },
    {
     "data": {
      "text/html": [
       "<iframe srcdoc=\"&lt;!DOCTYPE html&gt;\n",
       "&lt;html&gt;\n",
       "&lt;head&gt;\n",
       "    \n",
       "    &lt;meta http-equiv=&quot;content-type&quot; content=&quot;text/html; charset=UTF-8&quot; /&gt;\n",
       "    \n",
       "        &lt;script&gt;\n",
       "            L_NO_TOUCH = false;\n",
       "            L_DISABLE_3D = false;\n",
       "        &lt;/script&gt;\n",
       "    \n",
       "    &lt;style&gt;html, body {width: 100%;height: 100%;margin: 0;padding: 0;}&lt;/style&gt;\n",
       "    &lt;style&gt;#map {position:absolute;top:0;bottom:0;right:0;left:0;}&lt;/style&gt;\n",
       "    &lt;script src=&quot;https://cdn.jsdelivr.net/npm/leaflet@1.9.3/dist/leaflet.js&quot;&gt;&lt;/script&gt;\n",
       "    &lt;script src=&quot;https://code.jquery.com/jquery-3.7.1.min.js&quot;&gt;&lt;/script&gt;\n",
       "    &lt;script src=&quot;https://cdn.jsdelivr.net/npm/bootstrap@5.2.2/dist/js/bootstrap.bundle.min.js&quot;&gt;&lt;/script&gt;\n",
       "    &lt;script src=&quot;https://cdnjs.cloudflare.com/ajax/libs/Leaflet.awesome-markers/2.0.2/leaflet.awesome-markers.js&quot;&gt;&lt;/script&gt;\n",
       "    &lt;link rel=&quot;stylesheet&quot; href=&quot;https://cdn.jsdelivr.net/npm/leaflet@1.9.3/dist/leaflet.css&quot;/&gt;\n",
       "    &lt;link rel=&quot;stylesheet&quot; href=&quot;https://cdn.jsdelivr.net/npm/bootstrap@5.2.2/dist/css/bootstrap.min.css&quot;/&gt;\n",
       "    &lt;link rel=&quot;stylesheet&quot; href=&quot;https://netdna.bootstrapcdn.com/bootstrap/3.0.0/css/bootstrap.min.css&quot;/&gt;\n",
       "    &lt;link rel=&quot;stylesheet&quot; href=&quot;https://cdn.jsdelivr.net/npm/@fortawesome/fontawesome-free@6.2.0/css/all.min.css&quot;/&gt;\n",
       "    &lt;link rel=&quot;stylesheet&quot; href=&quot;https://cdnjs.cloudflare.com/ajax/libs/Leaflet.awesome-markers/2.0.2/leaflet.awesome-markers.css&quot;/&gt;\n",
       "    &lt;link rel=&quot;stylesheet&quot; href=&quot;https://cdn.jsdelivr.net/gh/python-visualization/folium/folium/templates/leaflet.awesome.rotate.min.css&quot;/&gt;\n",
       "    \n",
       "            &lt;meta name=&quot;viewport&quot; content=&quot;width=device-width,\n",
       "                initial-scale=1.0, maximum-scale=1.0, user-scalable=no&quot; /&gt;\n",
       "            &lt;style&gt;\n",
       "                #map_e63abb34001686e881bcaca8ba23bfc2 {\n",
       "                    position: relative;\n",
       "                    width: 100.0%;\n",
       "                    height: 100.0%;\n",
       "                    left: 0.0%;\n",
       "                    top: 0.0%;\n",
       "                }\n",
       "                .leaflet-container { font-size: 1rem; }\n",
       "            &lt;/style&gt;\n",
       "        \n",
       "    &lt;script src=&quot;https://cdn.jsdelivr.net/npm/leaflet.fullscreen@3.0.0/Control.FullScreen.min.js&quot;&gt;&lt;/script&gt;\n",
       "    &lt;link rel=&quot;stylesheet&quot; href=&quot;https://cdn.jsdelivr.net/npm/leaflet.fullscreen@3.0.0/Control.FullScreen.css&quot;/&gt;\n",
       "    &lt;script src=&quot;https://cdnjs.cloudflare.com/ajax/libs/leaflet.draw/1.0.2/leaflet.draw.js&quot;&gt;&lt;/script&gt;\n",
       "    &lt;link rel=&quot;stylesheet&quot; href=&quot;https://cdnjs.cloudflare.com/ajax/libs/leaflet.draw/1.0.2/leaflet.draw.css&quot;/&gt;\n",
       "    &lt;script src=&quot;https://unpkg.com/leaflet-control-geocoder/dist/Control.Geocoder.js&quot;&gt;&lt;/script&gt;\n",
       "    &lt;link rel=&quot;stylesheet&quot; href=&quot;https://unpkg.com/leaflet-control-geocoder/dist/Control.Geocoder.css&quot;/&gt;\n",
       "&lt;/head&gt;\n",
       "&lt;body&gt;\n",
       "    \n",
       "    \n",
       "            &lt;div class=&quot;folium-map&quot; id=&quot;map_e63abb34001686e881bcaca8ba23bfc2&quot; &gt;&lt;/div&gt;\n",
       "        \n",
       "&lt;/body&gt;\n",
       "&lt;script&gt;\n",
       "    \n",
       "    \n",
       "            var map_e63abb34001686e881bcaca8ba23bfc2 = L.map(\n",
       "                &quot;map_e63abb34001686e881bcaca8ba23bfc2&quot;,\n",
       "                {\n",
       "                    center: [28.946583, 77.101493],\n",
       "                    crs: L.CRS.EPSG3857,\n",
       "                    zoom: 11,\n",
       "                    zoomControl: true,\n",
       "                    preferCanvas: false,\n",
       "                    eeInitialize: true,\n",
       "                    addGoogleMap: false,\n",
       "                    pluginLatlngpopup: false,\n",
       "                    pluginFullscreen: true,\n",
       "                    pluginDraw: true,\n",
       "                    DrawExport: false,\n",
       "                    pluginMinimap: false,\n",
       "                    locateControl: false,\n",
       "                    searchControl: true,\n",
       "                    layersControl: true,\n",
       "                }\n",
       "            );\n",
       "\n",
       "            \n",
       "\n",
       "        \n",
       "    \n",
       "            var tile_layer_d8d447203bb4a3ac63f4ba61dfc01073 = L.tileLayer(\n",
       "                &quot;https://tile.openstreetmap.org/{z}/{x}/{y}.png&quot;,\n",
       "                {&quot;attribution&quot;: &quot;\\u0026copy; \\u003ca href=\\&quot;https://www.openstreetmap.org/copyright\\&quot;\\u003eOpenStreetMap\\u003c/a\\u003e contributors&quot;, &quot;detectRetina&quot;: false, &quot;maxNativeZoom&quot;: 19, &quot;maxZoom&quot;: 19, &quot;minZoom&quot;: 0, &quot;noWrap&quot;: false, &quot;opacity&quot;: 1, &quot;subdomains&quot;: &quot;abc&quot;, &quot;tms&quot;: false}\n",
       "            );\n",
       "        \n",
       "    \n",
       "            tile_layer_d8d447203bb4a3ac63f4ba61dfc01073.addTo(map_e63abb34001686e881bcaca8ba23bfc2);\n",
       "        \n",
       "    \n",
       "            L.control.fullscreen(\n",
       "                {&quot;forceSeparateButton&quot;: false, &quot;position&quot;: &quot;topleft&quot;, &quot;title&quot;: &quot;Full Screen&quot;, &quot;titleCancel&quot;: &quot;Exit Full Screen&quot;}\n",
       "            ).addTo(map_e63abb34001686e881bcaca8ba23bfc2);\n",
       "        \n",
       "    \n",
       "            var options = {\n",
       "              position: &quot;topleft&quot;,\n",
       "              draw: {},\n",
       "              edit: {},\n",
       "            }\n",
       "            // FeatureGroup is to store editable layers.\n",
       "            var drawnItems_draw_control_71562a55935e5144d563e6d4ff555b76 = new L.featureGroup().addTo(\n",
       "                map_e63abb34001686e881bcaca8ba23bfc2\n",
       "            );\n",
       "            options.edit.featureGroup = drawnItems_draw_control_71562a55935e5144d563e6d4ff555b76;\n",
       "            var draw_control_71562a55935e5144d563e6d4ff555b76 = new L.Control.Draw(\n",
       "                options\n",
       "            ).addTo( map_e63abb34001686e881bcaca8ba23bfc2 );\n",
       "            map_e63abb34001686e881bcaca8ba23bfc2.on(L.Draw.Event.CREATED, function(e) {\n",
       "                var layer = e.layer,\n",
       "                    type = e.layerType;\n",
       "                var coords = JSON.stringify(layer.toGeoJSON());\n",
       "                layer.on(&#x27;click&#x27;, function() {\n",
       "                    alert(coords);\n",
       "                    console.log(coords);\n",
       "                });\n",
       "                drawnItems_draw_control_71562a55935e5144d563e6d4ff555b76.addLayer(layer);\n",
       "             });\n",
       "            map_e63abb34001686e881bcaca8ba23bfc2.on(&#x27;draw:created&#x27;, function(e) {\n",
       "                drawnItems_draw_control_71562a55935e5144d563e6d4ff555b76.addLayer(e.layer);\n",
       "            });\n",
       "            \n",
       "        \n",
       "    \n",
       "            L.Control.geocoder(\n",
       "                {&quot;collapsed&quot;: true, &quot;defaultMarkGeocode&quot;: true, &quot;position&quot;: &quot;topleft&quot;}\n",
       "            ).on(&#x27;markgeocode&#x27;, function(e) {\n",
       "                map_e63abb34001686e881bcaca8ba23bfc2.setView(e.geocode.center, 11);\n",
       "            }).addTo(map_e63abb34001686e881bcaca8ba23bfc2);\n",
       "\n",
       "        \n",
       "    \n",
       "            map_e63abb34001686e881bcaca8ba23bfc2.fitBounds(\n",
       "                [[28.946583, 77.101493], [28.946583, 77.101493]],\n",
       "                {&quot;maxZoom&quot;: 11}\n",
       "            );\n",
       "        \n",
       "    \n",
       "            var tile_layer_fa1637018b2e01e4e880b24e3b2ebe3d = L.tileLayer(\n",
       "                &quot;https://server.arcgisonline.com/ArcGIS/rest/services/World_Imagery/MapServer/tile/{z}/{y}/{x}&quot;,\n",
       "                {&quot;attribution&quot;: &quot;Esri&quot;, &quot;detectRetina&quot;: false, &quot;maxNativeZoom&quot;: 22, &quot;maxZoom&quot;: 22, &quot;minZoom&quot;: 0, &quot;noWrap&quot;: false, &quot;opacity&quot;: 1, &quot;subdomains&quot;: &quot;abc&quot;, &quot;tms&quot;: false}\n",
       "            );\n",
       "        \n",
       "    \n",
       "            tile_layer_fa1637018b2e01e4e880b24e3b2ebe3d.addTo(map_e63abb34001686e881bcaca8ba23bfc2);\n",
       "        \n",
       "    \n",
       "            var tile_layer_8a77040a539b410b9c8d1d305203b07f = L.tileLayer(\n",
       "                &quot;https://earthengine.googleapis.com/v1/projects/earthengine-legacy/maps/4d3a116c10743dfed60047a74cf25f79-888ba61365f413c20836771dcf9fdfc6/tiles/{z}/{x}/{y}&quot;,\n",
       "                {&quot;attribution&quot;: &quot;Google Earth Engine&quot;, &quot;detectRetina&quot;: false, &quot;maxNativeZoom&quot;: 24, &quot;maxZoom&quot;: 24, &quot;minZoom&quot;: 0, &quot;noWrap&quot;: false, &quot;opacity&quot;: 1.0, &quot;subdomains&quot;: &quot;abc&quot;, &quot;tms&quot;: false}\n",
       "            );\n",
       "        \n",
       "    \n",
       "            tile_layer_8a77040a539b410b9c8d1d305203b07f.addTo(map_e63abb34001686e881bcaca8ba23bfc2);\n",
       "        \n",
       "    \n",
       "            var layer_control_81d3528564f4469e29467ffe18675b5e_layers = {\n",
       "                base_layers : {\n",
       "                    &quot;openstreetmap&quot; : tile_layer_d8d447203bb4a3ac63f4ba61dfc01073,\n",
       "                },\n",
       "                overlays :  {\n",
       "                    &quot;Esri.WorldImagery&quot; : tile_layer_fa1637018b2e01e4e880b24e3b2ebe3d,\n",
       "                    &quot;Layer untitled&quot; : tile_layer_8a77040a539b410b9c8d1d305203b07f,\n",
       "                },\n",
       "            };\n",
       "            let layer_control_81d3528564f4469e29467ffe18675b5e = L.control.layers(\n",
       "                layer_control_81d3528564f4469e29467ffe18675b5e_layers.base_layers,\n",
       "                layer_control_81d3528564f4469e29467ffe18675b5e_layers.overlays,\n",
       "                {&quot;autoZIndex&quot;: true, &quot;collapsed&quot;: true, &quot;position&quot;: &quot;topright&quot;}\n",
       "            ).addTo(map_e63abb34001686e881bcaca8ba23bfc2);\n",
       "\n",
       "        \n",
       "&lt;/script&gt;\n",
       "&lt;/html&gt;\" width=\"100%\" height=\"600\"style=\"border:none !important;\" \"allowfullscreen\" \"webkitallowfullscreen\" \"mozallowfullscreen\"></iframe>"
      ],
      "text/plain": [
       "<geemap.foliumap.Map at 0x27cffde8670>"
      ]
     },
     "execution_count": 160,
     "metadata": {},
     "output_type": "execute_result"
    }
   ],
   "source": [
    "center_lat = 28.946583\n",
    "center_lon = 77.101493\n",
    "\n",
    "gcvi_samp = s2coll_2a.select('GCVI').filterBounds(ee.Geometry.Point([center_lon,center_lat]).buffer(2000))\n",
    "\n",
    "map_point_g = geemap.foliumap.Map(center=[center_lat,center_lon],zoom=11)\n",
    "map_point_g.add_basemap('SATELLITE')\n",
    "# set color range to use for GCVI levels: black is lowest, beginning at 0, through green as the highest, ending at 5\n",
    "gcvi_params = {'min': 0, 'max': 5, 'palette': ['black','red', 'orange', 'yellow', 'green']}\n",
    "\n",
    "map_point_g.addLayer(gcvi_samp, gcvi_params)\n",
    "map_point_g"
   ]
  },
  {
   "cell_type": "markdown",
   "id": "a94cf226",
   "metadata": {},
   "source": [
    "It is possible to obtain S2 imagery for an entire growing season, and this is of interest to us since the values of our indices change throughout the lifetime of a crop. The temporal resolution of S2 satellites is 5 days."
   ]
  },
  {
   "cell_type": "code",
   "execution_count": 161,
   "id": "bba2f486",
   "metadata": {
    "scrolled": true
   },
   "outputs": [
    {
     "data": {
      "text/html": [
       "\n",
       "            <style>\n",
       "                .geemap-dark {\n",
       "                    --jp-widgets-color: white;\n",
       "                    --jp-widgets-label-color: white;\n",
       "                    --jp-ui-font-color1: white;\n",
       "                    --jp-layout-color2: #454545;\n",
       "                    background-color: #383838;\n",
       "                }\n",
       "                    \n",
       "                .geemap-dark .jupyter-button {\n",
       "                    --jp-layout-color3: #383838;\n",
       "                }\n",
       "                \n",
       "                .geemap-colab {\n",
       "                    background-color: var(--colab-primary-surface-color, white);\n",
       "                }\n",
       "                    \n",
       "                .geemap-colab .jupyter-button {\n",
       "                    --jp-layout-color3: var(--colab-primary-surface-color, white);\n",
       "                }\n",
       "            </style>\n",
       "            "
      ],
      "text/plain": [
       "<IPython.core.display.HTML object>"
      ]
     },
     "metadata": {},
     "output_type": "display_data"
    },
    {
     "data": {
      "text/html": [
       "<iframe srcdoc=\"&lt;!DOCTYPE html&gt;\n",
       "&lt;html&gt;\n",
       "&lt;head&gt;\n",
       "    \n",
       "    &lt;meta http-equiv=&quot;content-type&quot; content=&quot;text/html; charset=UTF-8&quot; /&gt;\n",
       "    \n",
       "        &lt;script&gt;\n",
       "            L_NO_TOUCH = false;\n",
       "            L_DISABLE_3D = false;\n",
       "        &lt;/script&gt;\n",
       "    \n",
       "    &lt;style&gt;html, body {width: 100%;height: 100%;margin: 0;padding: 0;}&lt;/style&gt;\n",
       "    &lt;style&gt;#map {position:absolute;top:0;bottom:0;right:0;left:0;}&lt;/style&gt;\n",
       "    &lt;script src=&quot;https://cdn.jsdelivr.net/npm/leaflet@1.9.3/dist/leaflet.js&quot;&gt;&lt;/script&gt;\n",
       "    &lt;script src=&quot;https://code.jquery.com/jquery-3.7.1.min.js&quot;&gt;&lt;/script&gt;\n",
       "    &lt;script src=&quot;https://cdn.jsdelivr.net/npm/bootstrap@5.2.2/dist/js/bootstrap.bundle.min.js&quot;&gt;&lt;/script&gt;\n",
       "    &lt;script src=&quot;https://cdnjs.cloudflare.com/ajax/libs/Leaflet.awesome-markers/2.0.2/leaflet.awesome-markers.js&quot;&gt;&lt;/script&gt;\n",
       "    &lt;link rel=&quot;stylesheet&quot; href=&quot;https://cdn.jsdelivr.net/npm/leaflet@1.9.3/dist/leaflet.css&quot;/&gt;\n",
       "    &lt;link rel=&quot;stylesheet&quot; href=&quot;https://cdn.jsdelivr.net/npm/bootstrap@5.2.2/dist/css/bootstrap.min.css&quot;/&gt;\n",
       "    &lt;link rel=&quot;stylesheet&quot; href=&quot;https://netdna.bootstrapcdn.com/bootstrap/3.0.0/css/bootstrap.min.css&quot;/&gt;\n",
       "    &lt;link rel=&quot;stylesheet&quot; href=&quot;https://cdn.jsdelivr.net/npm/@fortawesome/fontawesome-free@6.2.0/css/all.min.css&quot;/&gt;\n",
       "    &lt;link rel=&quot;stylesheet&quot; href=&quot;https://cdnjs.cloudflare.com/ajax/libs/Leaflet.awesome-markers/2.0.2/leaflet.awesome-markers.css&quot;/&gt;\n",
       "    &lt;link rel=&quot;stylesheet&quot; href=&quot;https://cdn.jsdelivr.net/gh/python-visualization/folium/folium/templates/leaflet.awesome.rotate.min.css&quot;/&gt;\n",
       "    \n",
       "            &lt;meta name=&quot;viewport&quot; content=&quot;width=device-width,\n",
       "                initial-scale=1.0, maximum-scale=1.0, user-scalable=no&quot; /&gt;\n",
       "            &lt;style&gt;\n",
       "                #map_ee87f21134457281600faa6452408254 {\n",
       "                    position: relative;\n",
       "                    width: 100.0%;\n",
       "                    height: 100.0%;\n",
       "                    left: 0.0%;\n",
       "                    top: 0.0%;\n",
       "                }\n",
       "                .leaflet-container { font-size: 1rem; }\n",
       "            &lt;/style&gt;\n",
       "        \n",
       "    &lt;script src=&quot;https://cdn.jsdelivr.net/npm/leaflet.fullscreen@3.0.0/Control.FullScreen.min.js&quot;&gt;&lt;/script&gt;\n",
       "    &lt;link rel=&quot;stylesheet&quot; href=&quot;https://cdn.jsdelivr.net/npm/leaflet.fullscreen@3.0.0/Control.FullScreen.css&quot;/&gt;\n",
       "    &lt;script src=&quot;https://cdnjs.cloudflare.com/ajax/libs/leaflet.draw/1.0.2/leaflet.draw.js&quot;&gt;&lt;/script&gt;\n",
       "    &lt;link rel=&quot;stylesheet&quot; href=&quot;https://cdnjs.cloudflare.com/ajax/libs/leaflet.draw/1.0.2/leaflet.draw.css&quot;/&gt;\n",
       "    &lt;script src=&quot;https://unpkg.com/leaflet-control-geocoder/dist/Control.Geocoder.js&quot;&gt;&lt;/script&gt;\n",
       "    &lt;link rel=&quot;stylesheet&quot; href=&quot;https://unpkg.com/leaflet-control-geocoder/dist/Control.Geocoder.css&quot;/&gt;\n",
       "&lt;/head&gt;\n",
       "&lt;body&gt;\n",
       "    \n",
       "    \n",
       "            &lt;div class=&quot;folium-map&quot; id=&quot;map_ee87f21134457281600faa6452408254&quot; &gt;&lt;/div&gt;\n",
       "        \n",
       "&lt;/body&gt;\n",
       "&lt;script&gt;\n",
       "    \n",
       "    \n",
       "            var map_ee87f21134457281600faa6452408254 = L.map(\n",
       "                &quot;map_ee87f21134457281600faa6452408254&quot;,\n",
       "                {\n",
       "                    center: [28.946583, 77.101493],\n",
       "                    crs: L.CRS.EPSG3857,\n",
       "                    zoom: 14,\n",
       "                    zoomControl: true,\n",
       "                    preferCanvas: false,\n",
       "                    eeInitialize: true,\n",
       "                    addGoogleMap: false,\n",
       "                    pluginLatlngpopup: false,\n",
       "                    pluginFullscreen: true,\n",
       "                    pluginDraw: true,\n",
       "                    DrawExport: false,\n",
       "                    pluginMinimap: false,\n",
       "                    locateControl: false,\n",
       "                    searchControl: true,\n",
       "                    layersControl: true,\n",
       "                }\n",
       "            );\n",
       "\n",
       "            \n",
       "\n",
       "        \n",
       "    \n",
       "            var tile_layer_caa16394d5776bdc563dd92fe98020b1 = L.tileLayer(\n",
       "                &quot;https://tile.openstreetmap.org/{z}/{x}/{y}.png&quot;,\n",
       "                {&quot;attribution&quot;: &quot;\\u0026copy; \\u003ca href=\\&quot;https://www.openstreetmap.org/copyright\\&quot;\\u003eOpenStreetMap\\u003c/a\\u003e contributors&quot;, &quot;detectRetina&quot;: false, &quot;maxNativeZoom&quot;: 19, &quot;maxZoom&quot;: 19, &quot;minZoom&quot;: 0, &quot;noWrap&quot;: false, &quot;opacity&quot;: 1, &quot;subdomains&quot;: &quot;abc&quot;, &quot;tms&quot;: false}\n",
       "            );\n",
       "        \n",
       "    \n",
       "            tile_layer_caa16394d5776bdc563dd92fe98020b1.addTo(map_ee87f21134457281600faa6452408254);\n",
       "        \n",
       "    \n",
       "            L.control.fullscreen(\n",
       "                {&quot;forceSeparateButton&quot;: false, &quot;position&quot;: &quot;topleft&quot;, &quot;title&quot;: &quot;Full Screen&quot;, &quot;titleCancel&quot;: &quot;Exit Full Screen&quot;}\n",
       "            ).addTo(map_ee87f21134457281600faa6452408254);\n",
       "        \n",
       "    \n",
       "            var options = {\n",
       "              position: &quot;topleft&quot;,\n",
       "              draw: {},\n",
       "              edit: {},\n",
       "            }\n",
       "            // FeatureGroup is to store editable layers.\n",
       "            var drawnItems_draw_control_914e486eb4948804823f6f7a36d9e7ce = new L.featureGroup().addTo(\n",
       "                map_ee87f21134457281600faa6452408254\n",
       "            );\n",
       "            options.edit.featureGroup = drawnItems_draw_control_914e486eb4948804823f6f7a36d9e7ce;\n",
       "            var draw_control_914e486eb4948804823f6f7a36d9e7ce = new L.Control.Draw(\n",
       "                options\n",
       "            ).addTo( map_ee87f21134457281600faa6452408254 );\n",
       "            map_ee87f21134457281600faa6452408254.on(L.Draw.Event.CREATED, function(e) {\n",
       "                var layer = e.layer,\n",
       "                    type = e.layerType;\n",
       "                var coords = JSON.stringify(layer.toGeoJSON());\n",
       "                layer.on(&#x27;click&#x27;, function() {\n",
       "                    alert(coords);\n",
       "                    console.log(coords);\n",
       "                });\n",
       "                drawnItems_draw_control_914e486eb4948804823f6f7a36d9e7ce.addLayer(layer);\n",
       "             });\n",
       "            map_ee87f21134457281600faa6452408254.on(&#x27;draw:created&#x27;, function(e) {\n",
       "                drawnItems_draw_control_914e486eb4948804823f6f7a36d9e7ce.addLayer(e.layer);\n",
       "            });\n",
       "            \n",
       "        \n",
       "    \n",
       "            L.Control.geocoder(\n",
       "                {&quot;collapsed&quot;: true, &quot;defaultMarkGeocode&quot;: true, &quot;position&quot;: &quot;topleft&quot;}\n",
       "            ).on(&#x27;markgeocode&#x27;, function(e) {\n",
       "                map_ee87f21134457281600faa6452408254.setView(e.geocode.center, 11);\n",
       "            }).addTo(map_ee87f21134457281600faa6452408254);\n",
       "\n",
       "        \n",
       "    \n",
       "            map_ee87f21134457281600faa6452408254.fitBounds(\n",
       "                [[28.946583, 77.101493], [28.946583, 77.101493]],\n",
       "                {&quot;maxZoom&quot;: 14}\n",
       "            );\n",
       "        \n",
       "    \n",
       "            var tile_layer_fa1637018b2e01e4e880b24e3b2ebe3d = L.tileLayer(\n",
       "                &quot;https://server.arcgisonline.com/ArcGIS/rest/services/World_Imagery/MapServer/tile/{z}/{y}/{x}&quot;,\n",
       "                {&quot;attribution&quot;: &quot;Esri&quot;, &quot;detectRetina&quot;: false, &quot;maxNativeZoom&quot;: 22, &quot;maxZoom&quot;: 22, &quot;minZoom&quot;: 0, &quot;noWrap&quot;: false, &quot;opacity&quot;: 1, &quot;subdomains&quot;: &quot;abc&quot;, &quot;tms&quot;: false}\n",
       "            );\n",
       "        \n",
       "    \n",
       "            tile_layer_fa1637018b2e01e4e880b24e3b2ebe3d.addTo(map_ee87f21134457281600faa6452408254);\n",
       "        \n",
       "    \n",
       "            var tile_layer_95fb94e340ccc3d37dc00347dda3baf3 = L.tileLayer(\n",
       "                &quot;https://earthengine.googleapis.com/v1/projects/earthengine-legacy/maps/670ad78463d6896dc834f465bc43e999-6c08ebea73afe7e93ad97f3412862fd3/tiles/{z}/{x}/{y}&quot;,\n",
       "                {&quot;attribution&quot;: &quot;Google Earth Engine&quot;, &quot;detectRetina&quot;: false, &quot;maxNativeZoom&quot;: 24, &quot;maxZoom&quot;: 24, &quot;minZoom&quot;: 0, &quot;noWrap&quot;: false, &quot;opacity&quot;: 1.0, &quot;subdomains&quot;: &quot;abc&quot;, &quot;tms&quot;: false}\n",
       "            );\n",
       "        \n",
       "    \n",
       "            tile_layer_95fb94e340ccc3d37dc00347dda3baf3.addTo(map_ee87f21134457281600faa6452408254);\n",
       "        \n",
       "    \n",
       "            var layer_control_49d16ab0a73791398f78fb40538cafb9_layers = {\n",
       "                base_layers : {\n",
       "                    &quot;openstreetmap&quot; : tile_layer_caa16394d5776bdc563dd92fe98020b1,\n",
       "                },\n",
       "                overlays :  {\n",
       "                    &quot;Esri.WorldImagery&quot; : tile_layer_fa1637018b2e01e4e880b24e3b2ebe3d,\n",
       "                    &quot;Layer untitled&quot; : tile_layer_95fb94e340ccc3d37dc00347dda3baf3,\n",
       "                },\n",
       "            };\n",
       "            let layer_control_49d16ab0a73791398f78fb40538cafb9 = L.control.layers(\n",
       "                layer_control_49d16ab0a73791398f78fb40538cafb9_layers.base_layers,\n",
       "                layer_control_49d16ab0a73791398f78fb40538cafb9_layers.overlays,\n",
       "                {&quot;autoZIndex&quot;: true, &quot;collapsed&quot;: true, &quot;position&quot;: &quot;topright&quot;}\n",
       "            ).addTo(map_ee87f21134457281600faa6452408254);\n",
       "\n",
       "        \n",
       "&lt;/script&gt;\n",
       "&lt;/html&gt;\" width=\"100%\" height=\"600\"style=\"border:none !important;\" \"allowfullscreen\" \"webkitallowfullscreen\" \"mozallowfullscreen\"></iframe>"
      ],
      "text/plain": [
       "<geemap.foliumap.Map at 0x27ce0ac4370>"
      ]
     },
     "execution_count": 161,
     "metadata": {},
     "output_type": "execute_result"
    }
   ],
   "source": [
    "s2coll_2a_ext = s2_2a.Sentinel2SR(india_geom.geometry(), start_date = ee.Date('2019-02-22'), end_date = ee.Date('2019-12-01'), addVIs=True, addCloudMasks=False).get_img_coll()\n",
    "bandnames = ['AEROS','BLUE','GREEN','RED','RDED1','RDED2','RDED3','NIR','RDED4','VAPOR','SWIR1','SWIR2','NBR1','NDTI','GCVI','NDVI','SNDVI']\n",
    "\n",
    "s2coll_2a_ext = s2coll_2a_ext.map(lambda img: MaskClouds(img, bandnames))\n",
    "\n",
    "ee_point_g = ee.Geometry.Point(77.101493, 28.946583)\n",
    "map_point_g = geemap.foliumap.Map(center=[28.946583, 77.101493],zoom=14)\n",
    "\n",
    "map_point_g.add_basemap('SATELLITE')\n",
    "map_point_g.addLayer(ee_point_g, vis_params={'color':'a4c639'})\n",
    "map_point_g"
   ]
  },
  {
   "cell_type": "markdown",
   "id": "35e9c25d",
   "metadata": {},
   "source": [
    "We will define a point of interest (our campus) whose GCVI values we will plot over time."
   ]
  },
  {
   "cell_type": "markdown",
   "id": "c2f28c9a",
   "metadata": {},
   "source": [
    "We use functions to do the following:\n",
    "   1. Extract a single band of interest from our image collection\n",
    "   2. Filter for only the Images which contain our central point in Sonepat\n",
    "   3. Obtain a list of all the image IDs to cycle through and extract values\n",
    "   4. Obtain a list of all the Image timestamps to link with the values\n",
    "   5. Collapse the image collection into a single Image with each original Image as a band\n",
    "   6. Cycle through these bands and, if not masked, extract the GCVI value from them\n",
    "   7. Return all GCVI values with timestamps as a dataframe\n"
   ]
  },
  {
   "cell_type": "code",
   "execution_count": 166,
   "id": "a8505413",
   "metadata": {},
   "outputs": [
    {
     "data": {
      "text/html": [
       "\n",
       "            <style>\n",
       "                .geemap-dark {\n",
       "                    --jp-widgets-color: white;\n",
       "                    --jp-widgets-label-color: white;\n",
       "                    --jp-ui-font-color1: white;\n",
       "                    --jp-layout-color2: #454545;\n",
       "                    background-color: #383838;\n",
       "                }\n",
       "                    \n",
       "                .geemap-dark .jupyter-button {\n",
       "                    --jp-layout-color3: #383838;\n",
       "                }\n",
       "                \n",
       "                .geemap-colab {\n",
       "                    background-color: var(--colab-primary-surface-color, white);\n",
       "                }\n",
       "                    \n",
       "                .geemap-colab .jupyter-button {\n",
       "                    --jp-layout-color3: var(--colab-primary-surface-color, white);\n",
       "                }\n",
       "            </style>\n",
       "            "
      ],
      "text/plain": [
       "<IPython.core.display.HTML object>"
      ]
     },
     "metadata": {},
     "output_type": "display_data"
    }
   ],
   "source": [
    "def createBandList(imgcoll, suffix):\n",
    "    band_list = ee.List(imgcoll.aggregate_array('system:index')).getInfo()\n",
    "    band_list = [band + suffix for band in band_list]\n",
    "    return band_list"
   ]
  },
  {
   "cell_type": "code",
   "execution_count": 163,
   "id": "33a49352",
   "metadata": {},
   "outputs": [
    {
     "data": {
      "text/html": [
       "\n",
       "            <style>\n",
       "                .geemap-dark {\n",
       "                    --jp-widgets-color: white;\n",
       "                    --jp-widgets-label-color: white;\n",
       "                    --jp-ui-font-color1: white;\n",
       "                    --jp-layout-color2: #454545;\n",
       "                    background-color: #383838;\n",
       "                }\n",
       "                    \n",
       "                .geemap-dark .jupyter-button {\n",
       "                    --jp-layout-color3: #383838;\n",
       "                }\n",
       "                \n",
       "                .geemap-colab {\n",
       "                    background-color: var(--colab-primary-surface-color, white);\n",
       "                }\n",
       "                    \n",
       "                .geemap-colab .jupyter-button {\n",
       "                    --jp-layout-color3: var(--colab-primary-surface-color, white);\n",
       "                }\n",
       "            </style>\n",
       "            "
      ],
      "text/plain": [
       "<IPython.core.display.HTML object>"
      ]
     },
     "metadata": {},
     "output_type": "display_data"
    }
   ],
   "source": [
    "def createTimestampList(imgcoll): \n",
    "    ts_list = ee.List(imgcoll.aggregate_array('system:time_start')).map(lambda time_start: \n",
    "         ee.Date(time_start).format('Y-MM-dd HH:mm:ss')\n",
    "    ).getInfo()\n",
    "\n",
    "    return ts_list"
   ]
  },
  {
   "cell_type": "code",
   "execution_count": 167,
   "id": "2f484943",
   "metadata": {},
   "outputs": [
    {
     "data": {
      "text/html": [
       "\n",
       "            <style>\n",
       "                .geemap-dark {\n",
       "                    --jp-widgets-color: white;\n",
       "                    --jp-widgets-label-color: white;\n",
       "                    --jp-ui-font-color1: white;\n",
       "                    --jp-layout-color2: #454545;\n",
       "                    background-color: #383838;\n",
       "                }\n",
       "                    \n",
       "                .geemap-dark .jupyter-button {\n",
       "                    --jp-layout-color3: #383838;\n",
       "                }\n",
       "                \n",
       "                .geemap-colab {\n",
       "                    background-color: var(--colab-primary-surface-color, white);\n",
       "                }\n",
       "                    \n",
       "                .geemap-colab .jupyter-button {\n",
       "                    --jp-layout-color3: var(--colab-primary-surface-color, white);\n",
       "                }\n",
       "            </style>\n",
       "            "
      ],
      "text/plain": [
       "<IPython.core.display.HTML object>"
      ]
     },
     "metadata": {},
     "output_type": "display_data"
    }
   ],
   "source": [
    "def sampleLists(list, every_x):\n",
    "    list_samp = list[0::every_x]\n",
    "    # list_samp will have every xth item in list\n",
    "    return list_samp"
   ]
  },
  {
   "cell_type": "markdown",
   "id": "ffa797c7",
   "metadata": {},
   "source": [
    "To write the function below, I looked at the co"
   ]
  },
  {
   "cell_type": "code",
   "execution_count": 170,
   "id": "3536cd34",
   "metadata": {},
   "outputs": [
    {
     "data": {
      "text/html": [
       "\n",
       "            <style>\n",
       "                .geemap-dark {\n",
       "                    --jp-widgets-color: white;\n",
       "                    --jp-widgets-label-color: white;\n",
       "                    --jp-ui-font-color1: white;\n",
       "                    --jp-layout-color2: #454545;\n",
       "                    background-color: #383838;\n",
       "                }\n",
       "                    \n",
       "                .geemap-dark .jupyter-button {\n",
       "                    --jp-layout-color3: #383838;\n",
       "                }\n",
       "                \n",
       "                .geemap-colab {\n",
       "                    background-color: var(--colab-primary-surface-color, white);\n",
       "                }\n",
       "                    \n",
       "                .geemap-colab .jupyter-button {\n",
       "                    --jp-layout-color3: var(--colab-primary-surface-color, white);\n",
       "                }\n",
       "            </style>\n",
       "            "
      ],
      "text/plain": [
       "<IPython.core.display.HTML object>"
      ]
     },
     "metadata": {},
     "output_type": "display_data"
    }
   ],
   "source": [
    "def extract_pixel_vals_dates(imgcoll, band, ee_point, band_list=None, time_list=None, sample=None):\n",
    "    \n",
    "    print('selecting band of interest', band,'from imagecollection')\n",
    "    band_coll = imgcoll.select(band)\n",
    "\n",
    "    print('filtering for only images containing point')\n",
    "    point_coll = band_coll.filterBounds(ee_point)\n",
    "\n",
    "    if not band_list:\n",
    "        suffix = \"_\" + band\n",
    "        print('adding suffix',suffix,'to band name and creating list of bands')\n",
    "        band_list = createBandList(point_coll, suffix)\n",
    "    \n",
    "    if not time_list:\n",
    "        time_list = createTimestampList(point_coll)\n",
    "\n",
    "    if sample:\n",
    "        band_list = sampleLists(band_list, sample)\n",
    "        time_list = sampleLists(time_list, sample)\n",
    "\n",
    "    print('creating single image from imagecollection')\n",
    "    point_img = point_coll.toBands()\n",
    "\n",
    "    #time_pixel_vals = {}\n",
    "    time_pixel_vals = pd.DataFrame(columns=['datetime',band,'band_id'])\n",
    "    #time_pixel_vals_list = []\n",
    "    print('created empty dataframe',time_pixel_vals.head())\n",
    "\n",
    "    for idx, band_id in enumerate(band_list):\n",
    "        \n",
    "        img = point_img.select(band_id)\n",
    "        if img.mask().reduceRegion(ee.Reducer.first(),ee_point).getInfo()[band_id] != 0:\n",
    "            time_start = time_list[idx]\n",
    "            print('getting pixel values for img from',time_start,'...')\n",
    "            \n",
    "            pixel_vals = img.reduceRegion(ee.Reducer.first(),ee_point).getInfo()[band_id]\n",
    "\n",
    "            # add to dictionary with time as key and array as value\n",
    "            #time_pixel_vals_list.append({'datetime':time_start, band:pixel_vals,'band_id':band_id})\n",
    "            #print(time_pixel_vals_list)\n",
    "            row = pd.DataFrame([{'datetime':time_start, band:pixel_vals,'band_id':band_id}])\n",
    "            time_pixel_vals = pd.concat([time_pixel_vals, row], ignore_index=True)\n",
    "            #time_pixel_vals = time_pixel_vals.append({'datetime':time_start, band:pixel_vals,'band_id':band_id},ignore_index=True)\n",
    "\n",
    "        else:\n",
    "            print('masked pixel, moving on to next image')    \n",
    "    \n",
    "    return time_pixel_vals"
   ]
  },
  {
   "cell_type": "code",
   "execution_count": 15,
   "id": "73fff518",
   "metadata": {
    "scrolled": true
   },
   "outputs": [
    {
     "data": {
      "text/html": [
       "\n",
       "            <style>\n",
       "                .geemap-dark {\n",
       "                    --jp-widgets-color: white;\n",
       "                    --jp-widgets-label-color: white;\n",
       "                    --jp-ui-font-color1: white;\n",
       "                    --jp-layout-color2: #454545;\n",
       "                    background-color: #383838;\n",
       "                }\n",
       "                    \n",
       "                .geemap-dark .jupyter-button {\n",
       "                    --jp-layout-color3: #383838;\n",
       "                }\n",
       "                \n",
       "                .geemap-colab {\n",
       "                    background-color: var(--colab-primary-surface-color, white);\n",
       "                }\n",
       "                    \n",
       "                .geemap-colab .jupyter-button {\n",
       "                    --jp-layout-color3: var(--colab-primary-surface-color, white);\n",
       "                }\n",
       "            </style>\n",
       "            "
      ],
      "text/plain": [
       "<IPython.core.display.HTML object>"
      ]
     },
     "metadata": {},
     "output_type": "display_data"
    },
    {
     "name": "stdout",
     "output_type": "stream",
     "text": [
      "selecting band of interest GCVI from imagecollection\n",
      "filtering for only images containing point\n",
      "adding suffix _GCVI to band name and creating list of bands\n",
      "\n",
      "    number of ids in list:   112\n",
      "    \n",
      "    first 5 ids in list:     ['20190224T052819_20190224T053649_T43RFN_GCVI', '20190224T052819_20190224T053649_T43RGN_GCVI', '20190301T052741_20190301T053122_T43RFN_GCVI', '20190301T052741_20190301T053122_T43RGN_GCVI', '20190306T052709_20190306T053522_T43RFN_GCVI']\n",
      "    \n",
      "creating list of timestamps\n",
      "\n",
      "    number of dates in list:   112\n",
      "\n",
      "    first 5 dates in list:     ['2019-02-24 05:40:51', '2019-02-24 05:40:47', '2019-03-01 05:40:47', '2019-03-01 05:40:44', '2019-03-06 05:40:49']\n",
      "    \n",
      "creating single image from imagecollection\n",
      "created empty dataframe Empty DataFrame\n",
      "Columns: [datetime, GCVI, band_id]\n",
      "Index: []\n",
      "getting pixel values for img from 2019-02-24 05:40:51 ...\n",
      "getting pixel values for img from 2019-02-24 05:40:47 ...\n",
      "getting pixel values for img from 2019-03-01 05:40:47 ...\n",
      "getting pixel values for img from 2019-03-01 05:40:44 ...\n",
      "masked pixel, moving on to next image\n",
      "masked pixel, moving on to next image\n",
      "masked pixel, moving on to next image\n",
      "masked pixel, moving on to next image\n",
      "masked pixel, moving on to next image\n",
      "masked pixel, moving on to next image\n",
      "masked pixel, moving on to next image\n",
      "masked pixel, moving on to next image\n",
      "masked pixel, moving on to next image\n",
      "masked pixel, moving on to next image\n",
      "masked pixel, moving on to next image\n",
      "masked pixel, moving on to next image\n",
      "masked pixel, moving on to next image\n",
      "masked pixel, moving on to next image\n",
      "masked pixel, moving on to next image\n",
      "masked pixel, moving on to next image\n",
      "masked pixel, moving on to next image\n",
      "masked pixel, moving on to next image\n",
      "masked pixel, moving on to next image\n",
      "masked pixel, moving on to next image\n",
      "masked pixel, moving on to next image\n",
      "masked pixel, moving on to next image\n",
      "masked pixel, moving on to next image\n",
      "masked pixel, moving on to next image\n",
      "masked pixel, moving on to next image\n",
      "masked pixel, moving on to next image\n",
      "masked pixel, moving on to next image\n",
      "masked pixel, moving on to next image\n",
      "masked pixel, moving on to next image\n",
      "masked pixel, moving on to next image\n",
      "masked pixel, moving on to next image\n",
      "masked pixel, moving on to next image\n",
      "masked pixel, moving on to next image\n",
      "masked pixel, moving on to next image\n",
      "masked pixel, moving on to next image\n",
      "masked pixel, moving on to next image\n",
      "masked pixel, moving on to next image\n",
      "masked pixel, moving on to next image\n",
      "masked pixel, moving on to next image\n",
      "masked pixel, moving on to next image\n",
      "masked pixel, moving on to next image\n",
      "masked pixel, moving on to next image\n",
      "masked pixel, moving on to next image\n",
      "masked pixel, moving on to next image\n",
      "masked pixel, moving on to next image\n",
      "masked pixel, moving on to next image\n",
      "masked pixel, moving on to next image\n",
      "masked pixel, moving on to next image\n",
      "masked pixel, moving on to next image\n",
      "masked pixel, moving on to next image\n",
      "masked pixel, moving on to next image\n",
      "masked pixel, moving on to next image\n",
      "masked pixel, moving on to next image\n",
      "masked pixel, moving on to next image\n",
      "masked pixel, moving on to next image\n",
      "masked pixel, moving on to next image\n",
      "masked pixel, moving on to next image\n",
      "masked pixel, moving on to next image\n",
      "masked pixel, moving on to next image\n",
      "masked pixel, moving on to next image\n",
      "masked pixel, moving on to next image\n",
      "masked pixel, moving on to next image\n",
      "masked pixel, moving on to next image\n",
      "masked pixel, moving on to next image\n",
      "masked pixel, moving on to next image\n",
      "masked pixel, moving on to next image\n",
      "masked pixel, moving on to next image\n",
      "masked pixel, moving on to next image\n",
      "masked pixel, moving on to next image\n",
      "masked pixel, moving on to next image\n",
      "getting pixel values for img from 2019-08-28 05:40:53 ...\n",
      "getting pixel values for img from 2019-08-28 05:40:50 ...\n",
      "getting pixel values for img from 2019-09-02 05:40:55 ...\n",
      "getting pixel values for img from 2019-09-02 05:40:52 ...\n",
      "masked pixel, moving on to next image\n",
      "masked pixel, moving on to next image\n",
      "masked pixel, moving on to next image\n",
      "masked pixel, moving on to next image\n",
      "getting pixel values for img from 2019-09-17 05:40:51 ...\n",
      "getting pixel values for img from 2019-09-17 05:40:48 ...\n",
      "masked pixel, moving on to next image\n",
      "masked pixel, moving on to next image\n",
      "getting pixel values for img from 2019-09-27 05:40:53 ...\n",
      "getting pixel values for img from 2019-09-27 05:40:50 ...\n",
      "getting pixel values for img from 2019-10-02 05:40:52 ...\n",
      "getting pixel values for img from 2019-10-02 05:40:49 ...\n",
      "getting pixel values for img from 2019-10-07 05:40:54 ...\n",
      "getting pixel values for img from 2019-10-07 05:40:51 ...\n",
      "masked pixel, moving on to next image\n",
      "masked pixel, moving on to next image\n",
      "masked pixel, moving on to next image\n",
      "masked pixel, moving on to next image\n",
      "masked pixel, moving on to next image\n",
      "masked pixel, moving on to next image\n",
      "masked pixel, moving on to next image\n",
      "masked pixel, moving on to next image\n",
      "masked pixel, moving on to next image\n",
      "masked pixel, moving on to next image\n",
      "masked pixel, moving on to next image\n",
      "masked pixel, moving on to next image\n",
      "masked pixel, moving on to next image\n",
      "masked pixel, moving on to next image\n",
      "masked pixel, moving on to next image\n",
      "masked pixel, moving on to next image\n",
      "masked pixel, moving on to next image\n",
      "masked pixel, moving on to next image\n",
      "masked pixel, moving on to next image\n",
      "masked pixel, moving on to next image\n"
     ]
    }
   ],
   "source": [
    "gcvi_time_pixel_vals = extract_pixel_vals_dates(s2coll_2a_ext, 'GCVI', ee_point_g)"
   ]
  },
  {
   "cell_type": "markdown",
   "id": "f42ee60a",
   "metadata": {},
   "source": [
    "We can see that a large number of images did not provide values due to cloud cover."
   ]
  },
  {
   "cell_type": "code",
   "execution_count": 39,
   "id": "7161a71b",
   "metadata": {
    "scrolled": true
   },
   "outputs": [
    {
     "data": {
      "text/html": [
       "\n",
       "            <style>\n",
       "                .geemap-dark {\n",
       "                    --jp-widgets-color: white;\n",
       "                    --jp-widgets-label-color: white;\n",
       "                    --jp-ui-font-color1: white;\n",
       "                    --jp-layout-color2: #454545;\n",
       "                    background-color: #383838;\n",
       "                }\n",
       "                    \n",
       "                .geemap-dark .jupyter-button {\n",
       "                    --jp-layout-color3: #383838;\n",
       "                }\n",
       "                \n",
       "                .geemap-colab {\n",
       "                    background-color: var(--colab-primary-surface-color, white);\n",
       "                }\n",
       "                    \n",
       "                .geemap-colab .jupyter-button {\n",
       "                    --jp-layout-color3: var(--colab-primary-surface-color, white);\n",
       "                }\n",
       "            </style>\n",
       "            "
      ],
      "text/plain": [
       "<IPython.core.display.HTML object>"
      ]
     },
     "metadata": {},
     "output_type": "display_data"
    },
    {
     "data": {
      "text/html": [
       "<div>\n",
       "<style scoped>\n",
       "    .dataframe tbody tr th:only-of-type {\n",
       "        vertical-align: middle;\n",
       "    }\n",
       "\n",
       "    .dataframe tbody tr th {\n",
       "        vertical-align: top;\n",
       "    }\n",
       "\n",
       "    .dataframe thead th {\n",
       "        text-align: right;\n",
       "    }\n",
       "</style>\n",
       "<table border=\"1\" class=\"dataframe\">\n",
       "  <thead>\n",
       "    <tr style=\"text-align: right;\">\n",
       "      <th></th>\n",
       "      <th>datetime</th>\n",
       "      <th>GCVI</th>\n",
       "      <th>band_id</th>\n",
       "    </tr>\n",
       "  </thead>\n",
       "  <tbody>\n",
       "    <tr>\n",
       "      <th>11</th>\n",
       "      <td>2019-09-27 05:40:50</td>\n",
       "      <td>2.434211</td>\n",
       "      <td>20190927T052651_20190927T052647_T43RGN_GCVI</td>\n",
       "    </tr>\n",
       "    <tr>\n",
       "      <th>12</th>\n",
       "      <td>2019-10-02 05:40:52</td>\n",
       "      <td>2.037543</td>\n",
       "      <td>20191002T052649_20191002T053801_T43RFN_GCVI</td>\n",
       "    </tr>\n",
       "    <tr>\n",
       "      <th>13</th>\n",
       "      <td>2019-10-02 05:40:49</td>\n",
       "      <td>2.083812</td>\n",
       "      <td>20191002T052649_20191002T053801_T43RGN_GCVI</td>\n",
       "    </tr>\n",
       "    <tr>\n",
       "      <th>14</th>\n",
       "      <td>2019-10-07 05:40:54</td>\n",
       "      <td>2.053211</td>\n",
       "      <td>20191007T052711_20191007T053002_T43RFN_GCVI</td>\n",
       "    </tr>\n",
       "    <tr>\n",
       "      <th>15</th>\n",
       "      <td>2019-10-07 05:40:51</td>\n",
       "      <td>2.019928</td>\n",
       "      <td>20191007T052711_20191007T053002_T43RGN_GCVI</td>\n",
       "    </tr>\n",
       "  </tbody>\n",
       "</table>\n",
       "</div>"
      ],
      "text/plain": [
       "               datetime      GCVI                                      band_id\n",
       "11  2019-09-27 05:40:50  2.434211  20190927T052651_20190927T052647_T43RGN_GCVI\n",
       "12  2019-10-02 05:40:52  2.037543  20191002T052649_20191002T053801_T43RFN_GCVI\n",
       "13  2019-10-02 05:40:49  2.083812  20191002T052649_20191002T053801_T43RGN_GCVI\n",
       "14  2019-10-07 05:40:54  2.053211  20191007T052711_20191007T053002_T43RFN_GCVI\n",
       "15  2019-10-07 05:40:51  2.019928  20191007T052711_20191007T053002_T43RGN_GCVI"
      ]
     },
     "execution_count": 39,
     "metadata": {},
     "output_type": "execute_result"
    }
   ],
   "source": [
    "gcvi_time_pixel_vals.tail()"
   ]
  },
  {
   "cell_type": "markdown",
   "id": "30a5f818",
   "metadata": {},
   "source": [
    "Our sampling idea did not have much of an effect on memory demands - in order to obtain more data we used the function again on a different timeframe."
   ]
  },
  {
   "cell_type": "code",
   "execution_count": 19,
   "id": "53b17f44",
   "metadata": {},
   "outputs": [
    {
     "data": {
      "text/html": [
       "\n",
       "            <style>\n",
       "                .geemap-dark {\n",
       "                    --jp-widgets-color: white;\n",
       "                    --jp-widgets-label-color: white;\n",
       "                    --jp-ui-font-color1: white;\n",
       "                    --jp-layout-color2: #454545;\n",
       "                    background-color: #383838;\n",
       "                }\n",
       "                    \n",
       "                .geemap-dark .jupyter-button {\n",
       "                    --jp-layout-color3: #383838;\n",
       "                }\n",
       "                \n",
       "                .geemap-colab {\n",
       "                    background-color: var(--colab-primary-surface-color, white);\n",
       "                }\n",
       "                    \n",
       "                .geemap-colab .jupyter-button {\n",
       "                    --jp-layout-color3: var(--colab-primary-surface-color, white);\n",
       "                }\n",
       "            </style>\n",
       "            "
      ],
      "text/plain": [
       "<IPython.core.display.HTML object>"
      ]
     },
     "metadata": {},
     "output_type": "display_data"
    },
    {
     "name": "stdout",
     "output_type": "stream",
     "text": [
      "selecting band of interest GCVI from imagecollection\n",
      "filtering for only images containing point\n",
      "adding suffix _GCVI to band name and creating list of bands\n",
      "\n",
      "    number of ids in list:   106\n",
      "    \n",
      "    first 5 ids in list:     ['20191206T053211_20191206T053823_T43RFN_GCVI', '20191206T053211_20191206T053823_T43RGN_GCVI', '20191211T053219_20191211T053623_T43RFN_GCVI', '20191211T053219_20191211T053623_T43RGN_GCVI', '20191216T053231_20191216T053226_T43RFN_GCVI']\n",
      "    \n",
      "creating list of timestamps\n",
      "\n",
      "    number of dates in list:   106\n",
      "\n",
      "    first 5 dates in list:     ['2019-12-06 05:40:49', '2019-12-06 05:40:46', '2019-12-11 05:40:46', '2019-12-11 05:40:43', '2019-12-16 05:40:46']\n",
      "    \n",
      "creating single image from imagecollection\n",
      "created empty dataframe Empty DataFrame\n",
      "Columns: [datetime, GCVI, band_id]\n",
      "Index: []\n",
      "masked pixel, moving on to next image\n",
      "masked pixel, moving on to next image\n",
      "masked pixel, moving on to next image\n",
      "masked pixel, moving on to next image\n",
      "masked pixel, moving on to next image\n",
      "masked pixel, moving on to next image\n",
      "masked pixel, moving on to next image\n",
      "masked pixel, moving on to next image\n",
      "masked pixel, moving on to next image\n",
      "masked pixel, moving on to next image\n",
      "masked pixel, moving on to next image\n",
      "masked pixel, moving on to next image\n",
      "masked pixel, moving on to next image\n",
      "masked pixel, moving on to next image\n",
      "masked pixel, moving on to next image\n",
      "masked pixel, moving on to next image\n",
      "masked pixel, moving on to next image\n",
      "masked pixel, moving on to next image\n",
      "masked pixel, moving on to next image\n",
      "masked pixel, moving on to next image\n",
      "masked pixel, moving on to next image\n",
      "masked pixel, moving on to next image\n",
      "masked pixel, moving on to next image\n",
      "masked pixel, moving on to next image\n",
      "masked pixel, moving on to next image\n",
      "masked pixel, moving on to next image\n",
      "masked pixel, moving on to next image\n",
      "masked pixel, moving on to next image\n",
      "getting pixel values for img from 2020-02-14 05:40:45 ...\n",
      "getting pixel values for img from 2020-02-14 05:40:42 ...\n",
      "masked pixel, moving on to next image\n",
      "masked pixel, moving on to next image\n",
      "masked pixel, moving on to next image\n",
      "masked pixel, moving on to next image\n",
      "masked pixel, moving on to next image\n",
      "masked pixel, moving on to next image\n",
      "masked pixel, moving on to next image\n",
      "masked pixel, moving on to next image\n",
      "getting pixel values for img from 2020-03-10 05:40:50 ...\n",
      "getting pixel values for img from 2020-03-10 05:40:46 ...\n",
      "getting pixel values for img from 2020-03-15 05:40:48 ...\n",
      "getting pixel values for img from 2020-03-15 05:40:45 ...\n",
      "masked pixel, moving on to next image\n",
      "masked pixel, moving on to next image\n",
      "getting pixel values for img from 2020-03-25 05:40:48 ...\n",
      "getting pixel values for img from 2020-03-25 05:40:45 ...\n",
      "getting pixel values for img from 2020-03-30 05:40:49 ...\n",
      "getting pixel values for img from 2020-03-30 05:40:46 ...\n",
      "getting pixel values for img from 2020-04-04 05:40:48 ...\n",
      "getting pixel values for img from 2020-04-04 05:40:45 ...\n",
      "getting pixel values for img from 2020-04-09 05:40:48 ...\n",
      "getting pixel values for img from 2020-04-09 05:40:45 ...\n",
      "masked pixel, moving on to next image\n",
      "masked pixel, moving on to next image\n",
      "masked pixel, moving on to next image\n",
      "masked pixel, moving on to next image\n",
      "getting pixel values for img from 2020-04-24 05:40:53 ...\n",
      "getting pixel values for img from 2020-04-24 05:40:50 ...\n",
      "masked pixel, moving on to next image\n",
      "masked pixel, moving on to next image\n",
      "getting pixel values for img from 2020-05-04 05:40:55 ...\n",
      "getting pixel values for img from 2020-05-04 05:40:52 ...\n",
      "masked pixel, moving on to next image\n",
      "masked pixel, moving on to next image\n",
      "masked pixel, moving on to next image\n",
      "masked pixel, moving on to next image\n",
      "masked pixel, moving on to next image\n",
      "masked pixel, moving on to next image\n",
      "masked pixel, moving on to next image\n",
      "masked pixel, moving on to next image\n",
      "masked pixel, moving on to next image\n",
      "masked pixel, moving on to next image\n",
      "masked pixel, moving on to next image\n",
      "masked pixel, moving on to next image\n",
      "masked pixel, moving on to next image\n",
      "masked pixel, moving on to next image\n",
      "masked pixel, moving on to next image\n",
      "masked pixel, moving on to next image\n",
      "masked pixel, moving on to next image\n",
      "masked pixel, moving on to next image\n",
      "masked pixel, moving on to next image\n",
      "masked pixel, moving on to next image\n",
      "masked pixel, moving on to next image\n",
      "masked pixel, moving on to next image\n",
      "masked pixel, moving on to next image\n",
      "masked pixel, moving on to next image\n",
      "getting pixel values for img from 2020-07-13 05:40:56 ...\n",
      "getting pixel values for img from 2020-07-13 05:40:53 ...\n",
      "masked pixel, moving on to next image\n",
      "masked pixel, moving on to next image\n",
      "masked pixel, moving on to next image\n",
      "masked pixel, moving on to next image\n",
      "masked pixel, moving on to next image\n",
      "masked pixel, moving on to next image\n",
      "getting pixel values for img from 2020-08-02 05:40:58 ...\n",
      "getting pixel values for img from 2020-08-02 05:40:54 ...\n",
      "getting pixel values for img from 2020-08-07 05:40:55 ...\n",
      "getting pixel values for img from 2020-08-07 05:40:52 ...\n",
      "masked pixel, moving on to next image\n",
      "masked pixel, moving on to next image\n",
      "masked pixel, moving on to next image\n",
      "masked pixel, moving on to next image\n",
      "masked pixel, moving on to next image\n",
      "masked pixel, moving on to next image\n",
      "masked pixel, moving on to next image\n",
      "masked pixel, moving on to next image\n"
     ]
    }
   ],
   "source": [
    "gcvi_time_pixel_vals2 = extract_pixel_vals_dates(s2coll_2a_ext2, 'GCVI', ee_point_g)"
   ]
  },
  {
   "cell_type": "code",
   "execution_count": 38,
   "id": "08093716",
   "metadata": {},
   "outputs": [
    {
     "data": {
      "text/html": [
       "\n",
       "            <style>\n",
       "                .geemap-dark {\n",
       "                    --jp-widgets-color: white;\n",
       "                    --jp-widgets-label-color: white;\n",
       "                    --jp-ui-font-color1: white;\n",
       "                    --jp-layout-color2: #454545;\n",
       "                    background-color: #383838;\n",
       "                }\n",
       "                    \n",
       "                .geemap-dark .jupyter-button {\n",
       "                    --jp-layout-color3: #383838;\n",
       "                }\n",
       "                \n",
       "                .geemap-colab {\n",
       "                    background-color: var(--colab-primary-surface-color, white);\n",
       "                }\n",
       "                    \n",
       "                .geemap-colab .jupyter-button {\n",
       "                    --jp-layout-color3: var(--colab-primary-surface-color, white);\n",
       "                }\n",
       "            </style>\n",
       "            "
      ],
      "text/plain": [
       "<IPython.core.display.HTML object>"
      ]
     },
     "metadata": {},
     "output_type": "display_data"
    },
    {
     "data": {
      "text/html": [
       "<div>\n",
       "<style scoped>\n",
       "    .dataframe tbody tr th:only-of-type {\n",
       "        vertical-align: middle;\n",
       "    }\n",
       "\n",
       "    .dataframe tbody tr th {\n",
       "        vertical-align: top;\n",
       "    }\n",
       "\n",
       "    .dataframe thead th {\n",
       "        text-align: right;\n",
       "    }\n",
       "</style>\n",
       "<table border=\"1\" class=\"dataframe\">\n",
       "  <thead>\n",
       "    <tr style=\"text-align: right;\">\n",
       "      <th></th>\n",
       "      <th>datetime</th>\n",
       "      <th>GCVI</th>\n",
       "      <th>band_id</th>\n",
       "    </tr>\n",
       "  </thead>\n",
       "  <tbody>\n",
       "    <tr>\n",
       "      <th>19</th>\n",
       "      <td>2020-07-13 05:40:53</td>\n",
       "      <td>2.434171</td>\n",
       "      <td>20200713T052651_20200713T053533_T43RGN_GCVI</td>\n",
       "    </tr>\n",
       "    <tr>\n",
       "      <th>20</th>\n",
       "      <td>2020-08-02 05:40:58</td>\n",
       "      <td>1.705531</td>\n",
       "      <td>20200802T052651_20200802T053636_T43RFN_GCVI</td>\n",
       "    </tr>\n",
       "    <tr>\n",
       "      <th>21</th>\n",
       "      <td>2020-08-02 05:40:54</td>\n",
       "      <td>1.727139</td>\n",
       "      <td>20200802T052651_20200802T053636_T43RGN_GCVI</td>\n",
       "    </tr>\n",
       "    <tr>\n",
       "      <th>22</th>\n",
       "      <td>2020-08-07 05:40:55</td>\n",
       "      <td>2.691315</td>\n",
       "      <td>20200807T052649_20200807T053148_T43RFN_GCVI</td>\n",
       "    </tr>\n",
       "    <tr>\n",
       "      <th>23</th>\n",
       "      <td>2020-08-07 05:40:52</td>\n",
       "      <td>2.406181</td>\n",
       "      <td>20200807T052649_20200807T053148_T43RGN_GCVI</td>\n",
       "    </tr>\n",
       "  </tbody>\n",
       "</table>\n",
       "</div>"
      ],
      "text/plain": [
       "               datetime      GCVI                                      band_id\n",
       "19  2020-07-13 05:40:53  2.434171  20200713T052651_20200713T053533_T43RGN_GCVI\n",
       "20  2020-08-02 05:40:58  1.705531  20200802T052651_20200802T053636_T43RFN_GCVI\n",
       "21  2020-08-02 05:40:54  1.727139  20200802T052651_20200802T053636_T43RGN_GCVI\n",
       "22  2020-08-07 05:40:55  2.691315  20200807T052649_20200807T053148_T43RFN_GCVI\n",
       "23  2020-08-07 05:40:52  2.406181  20200807T052649_20200807T053148_T43RGN_GCVI"
      ]
     },
     "execution_count": 38,
     "metadata": {},
     "output_type": "execute_result"
    }
   ],
   "source": [
    "gcvi_time_pixel_vals2.tail()"
   ]
  },
  {
   "cell_type": "code",
   "execution_count": 40,
   "id": "633bff7f",
   "metadata": {},
   "outputs": [
    {
     "data": {
      "text/html": [
       "\n",
       "            <style>\n",
       "                .geemap-dark {\n",
       "                    --jp-widgets-color: white;\n",
       "                    --jp-widgets-label-color: white;\n",
       "                    --jp-ui-font-color1: white;\n",
       "                    --jp-layout-color2: #454545;\n",
       "                    background-color: #383838;\n",
       "                }\n",
       "                    \n",
       "                .geemap-dark .jupyter-button {\n",
       "                    --jp-layout-color3: #383838;\n",
       "                }\n",
       "                \n",
       "                .geemap-colab {\n",
       "                    background-color: var(--colab-primary-surface-color, white);\n",
       "                }\n",
       "                    \n",
       "                .geemap-colab .jupyter-button {\n",
       "                    --jp-layout-color3: var(--colab-primary-surface-color, white);\n",
       "                }\n",
       "            </style>\n",
       "            "
      ],
      "text/plain": [
       "<IPython.core.display.HTML object>"
      ]
     },
     "metadata": {},
     "output_type": "display_data"
    },
    {
     "data": {
      "text/html": [
       "<div>\n",
       "<style scoped>\n",
       "    .dataframe tbody tr th:only-of-type {\n",
       "        vertical-align: middle;\n",
       "    }\n",
       "\n",
       "    .dataframe tbody tr th {\n",
       "        vertical-align: top;\n",
       "    }\n",
       "\n",
       "    .dataframe thead th {\n",
       "        text-align: right;\n",
       "    }\n",
       "</style>\n",
       "<table border=\"1\" class=\"dataframe\">\n",
       "  <thead>\n",
       "    <tr style=\"text-align: right;\">\n",
       "      <th></th>\n",
       "      <th>datetime</th>\n",
       "      <th>GCVI</th>\n",
       "      <th>band_id</th>\n",
       "    </tr>\n",
       "  </thead>\n",
       "  <tbody>\n",
       "    <tr>\n",
       "      <th>35</th>\n",
       "      <td>2020-07-13 05:40:53</td>\n",
       "      <td>2.434171</td>\n",
       "      <td>20200713T052651_20200713T053533_T43RGN_GCVI</td>\n",
       "    </tr>\n",
       "    <tr>\n",
       "      <th>36</th>\n",
       "      <td>2020-08-02 05:40:58</td>\n",
       "      <td>1.705531</td>\n",
       "      <td>20200802T052651_20200802T053636_T43RFN_GCVI</td>\n",
       "    </tr>\n",
       "    <tr>\n",
       "      <th>37</th>\n",
       "      <td>2020-08-02 05:40:54</td>\n",
       "      <td>1.727139</td>\n",
       "      <td>20200802T052651_20200802T053636_T43RGN_GCVI</td>\n",
       "    </tr>\n",
       "    <tr>\n",
       "      <th>38</th>\n",
       "      <td>2020-08-07 05:40:55</td>\n",
       "      <td>2.691315</td>\n",
       "      <td>20200807T052649_20200807T053148_T43RFN_GCVI</td>\n",
       "    </tr>\n",
       "    <tr>\n",
       "      <th>39</th>\n",
       "      <td>2020-08-07 05:40:52</td>\n",
       "      <td>2.406181</td>\n",
       "      <td>20200807T052649_20200807T053148_T43RGN_GCVI</td>\n",
       "    </tr>\n",
       "  </tbody>\n",
       "</table>\n",
       "</div>"
      ],
      "text/plain": [
       "               datetime      GCVI                                      band_id\n",
       "35  2020-07-13 05:40:53  2.434171  20200713T052651_20200713T053533_T43RGN_GCVI\n",
       "36  2020-08-02 05:40:58  1.705531  20200802T052651_20200802T053636_T43RFN_GCVI\n",
       "37  2020-08-02 05:40:54  1.727139  20200802T052651_20200802T053636_T43RGN_GCVI\n",
       "38  2020-08-07 05:40:55  2.691315  20200807T052649_20200807T053148_T43RFN_GCVI\n",
       "39  2020-08-07 05:40:52  2.406181  20200807T052649_20200807T053148_T43RGN_GCVI"
      ]
     },
     "execution_count": 40,
     "metadata": {},
     "output_type": "execute_result"
    }
   ],
   "source": [
    "gcvi_time_pixel_vals_comb = pd.concat([gcvi_time_pixel_vals, gcvi_time_pixel_vals2], ignore_index=True)\n",
    "gcvi_time_pixel_vals_comb.tail()"
   ]
  },
  {
   "cell_type": "code",
   "execution_count": 17,
   "id": "9163e3c1",
   "metadata": {},
   "outputs": [
    {
     "data": {
      "text/html": [
       "\n",
       "            <style>\n",
       "                .geemap-dark {\n",
       "                    --jp-widgets-color: white;\n",
       "                    --jp-widgets-label-color: white;\n",
       "                    --jp-ui-font-color1: white;\n",
       "                    --jp-layout-color2: #454545;\n",
       "                    background-color: #383838;\n",
       "                }\n",
       "                    \n",
       "                .geemap-dark .jupyter-button {\n",
       "                    --jp-layout-color3: #383838;\n",
       "                }\n",
       "                \n",
       "                .geemap-colab {\n",
       "                    background-color: var(--colab-primary-surface-color, white);\n",
       "                }\n",
       "                    \n",
       "                .geemap-colab .jupyter-button {\n",
       "                    --jp-layout-color3: var(--colab-primary-surface-color, white);\n",
       "                }\n",
       "            </style>\n",
       "            "
      ],
      "text/plain": [
       "<IPython.core.display.HTML object>"
      ]
     },
     "metadata": {},
     "output_type": "display_data"
    }
   ],
   "source": [
    "import dill\n",
    "dill.dump_session('notebook_env.db')"
   ]
  },
  {
   "cell_type": "code",
   "execution_count": 34,
   "id": "e9943be5",
   "metadata": {},
   "outputs": [
    {
     "data": {
      "text/html": [
       "\n",
       "            <style>\n",
       "                .geemap-dark {\n",
       "                    --jp-widgets-color: white;\n",
       "                    --jp-widgets-label-color: white;\n",
       "                    --jp-ui-font-color1: white;\n",
       "                    --jp-layout-color2: #454545;\n",
       "                    background-color: #383838;\n",
       "                }\n",
       "                    \n",
       "                .geemap-dark .jupyter-button {\n",
       "                    --jp-layout-color3: #383838;\n",
       "                }\n",
       "                \n",
       "                .geemap-colab {\n",
       "                    background-color: var(--colab-primary-surface-color, white);\n",
       "                }\n",
       "                    \n",
       "                .geemap-colab .jupyter-button {\n",
       "                    --jp-layout-color3: var(--colab-primary-surface-color, white);\n",
       "                }\n",
       "            </style>\n",
       "            "
      ],
      "text/plain": [
       "<IPython.core.display.HTML object>"
      ]
     },
     "metadata": {},
     "output_type": "display_data"
    }
   ],
   "source": [
    "gcvi_time_pixel_vals_comb.to_csv('gcvi_time_pixel_vals_ext_pointg.csv',index=False)"
   ]
  },
  {
   "cell_type": "markdown",
   "id": "43fdc57d",
   "metadata": {},
   "source": [
    "We use some code for changing the granularity of our data to be per day. (the code in the cell below is not mine)"
   ]
  },
  {
   "cell_type": "code",
   "execution_count": 36,
   "id": "0c8824bd",
   "metadata": {},
   "outputs": [
    {
     "data": {
      "text/html": [
       "\n",
       "            <style>\n",
       "                .geemap-dark {\n",
       "                    --jp-widgets-color: white;\n",
       "                    --jp-widgets-label-color: white;\n",
       "                    --jp-ui-font-color1: white;\n",
       "                    --jp-layout-color2: #454545;\n",
       "                    background-color: #383838;\n",
       "                }\n",
       "                    \n",
       "                .geemap-dark .jupyter-button {\n",
       "                    --jp-layout-color3: #383838;\n",
       "                }\n",
       "                \n",
       "                .geemap-colab {\n",
       "                    background-color: var(--colab-primary-surface-color, white);\n",
       "                }\n",
       "                    \n",
       "                .geemap-colab .jupyter-button {\n",
       "                    --jp-layout-color3: var(--colab-primary-surface-color, white);\n",
       "                }\n",
       "            </style>\n",
       "            "
      ],
      "text/plain": [
       "<IPython.core.display.HTML object>"
      ]
     },
     "metadata": {},
     "output_type": "display_data"
    },
    {
     "data": {
      "text/html": [
       "<div>\n",
       "<style scoped>\n",
       "    .dataframe tbody tr th:only-of-type {\n",
       "        vertical-align: middle;\n",
       "    }\n",
       "\n",
       "    .dataframe tbody tr th {\n",
       "        vertical-align: top;\n",
       "    }\n",
       "\n",
       "    .dataframe thead th {\n",
       "        text-align: right;\n",
       "    }\n",
       "</style>\n",
       "<table border=\"1\" class=\"dataframe\">\n",
       "  <thead>\n",
       "    <tr style=\"text-align: right;\">\n",
       "      <th></th>\n",
       "      <th>date</th>\n",
       "      <th>GCVI</th>\n",
       "    </tr>\n",
       "  </thead>\n",
       "  <tbody>\n",
       "    <tr>\n",
       "      <th>15</th>\n",
       "      <td>2020-04-24</td>\n",
       "      <td>2.269485</td>\n",
       "    </tr>\n",
       "    <tr>\n",
       "      <th>16</th>\n",
       "      <td>2020-05-04</td>\n",
       "      <td>2.988868</td>\n",
       "    </tr>\n",
       "    <tr>\n",
       "      <th>17</th>\n",
       "      <td>2020-07-13</td>\n",
       "      <td>2.219868</td>\n",
       "    </tr>\n",
       "    <tr>\n",
       "      <th>18</th>\n",
       "      <td>2020-08-02</td>\n",
       "      <td>1.716335</td>\n",
       "    </tr>\n",
       "    <tr>\n",
       "      <th>19</th>\n",
       "      <td>2020-08-07</td>\n",
       "      <td>2.548748</td>\n",
       "    </tr>\n",
       "  </tbody>\n",
       "</table>\n",
       "</div>"
      ],
      "text/plain": [
       "          date      GCVI\n",
       "15  2020-04-24  2.269485\n",
       "16  2020-05-04  2.988868\n",
       "17  2020-07-13  2.219868\n",
       "18  2020-08-02  1.716335\n",
       "19  2020-08-07  2.548748"
      ]
     },
     "execution_count": 36,
     "metadata": {},
     "output_type": "execute_result"
    }
   ],
   "source": [
    "from datetime import date\n",
    "\n",
    "# convert to datetime type\n",
    "gcvi_time_pixel_vals_comb['datetime'] = pd.to_datetime(gcvi_time_pixel_vals_comb['datetime'])\n",
    "\n",
    "# create date field from datetime\n",
    "gcvi_time_pixel_vals_comb['date'] = gcvi_time_pixel_vals_comb['datetime'].dt.date\n",
    "# group by date and take mean GCVI for each day\n",
    "gcvi_day_pixel_df = gcvi_time_pixel_vals_comb.groupby('date')['GCVI'].mean().reset_index()\n",
    "# view newly created dataset by day\n",
    "gcvi_day_pixel_df.tail()"
   ]
  },
  {
   "cell_type": "code",
   "execution_count": 37,
   "id": "870ae689",
   "metadata": {},
   "outputs": [
    {
     "data": {
      "text/html": [
       "\n",
       "            <style>\n",
       "                .geemap-dark {\n",
       "                    --jp-widgets-color: white;\n",
       "                    --jp-widgets-label-color: white;\n",
       "                    --jp-ui-font-color1: white;\n",
       "                    --jp-layout-color2: #454545;\n",
       "                    background-color: #383838;\n",
       "                }\n",
       "                    \n",
       "                .geemap-dark .jupyter-button {\n",
       "                    --jp-layout-color3: #383838;\n",
       "                }\n",
       "                \n",
       "                .geemap-colab {\n",
       "                    background-color: var(--colab-primary-surface-color, white);\n",
       "                }\n",
       "                    \n",
       "                .geemap-colab .jupyter-button {\n",
       "                    --jp-layout-color3: var(--colab-primary-surface-color, white);\n",
       "                }\n",
       "            </style>\n",
       "            "
      ],
      "text/plain": [
       "<IPython.core.display.HTML object>"
      ]
     },
     "metadata": {},
     "output_type": "display_data"
    },
    {
     "data": {
      "text/plain": [
       "Text(0.5, 0, 'Date')"
      ]
     },
     "execution_count": 37,
     "metadata": {},
     "output_type": "execute_result"
    },
    {
     "data": {
      "image/png": "[encoded data removed]",
      "text/plain": [
       "<Figure size 1200x800 with 1 Axes>"
      ]
     },
     "metadata": {},
     "output_type": "display_data"
    }
   ],
   "source": [
    "import matplotlib.pyplot as plt\n",
    "import seaborn as sb\n",
    "import matplotlib.dates as mdates\n",
    "sb.set(style='whitegrid')\n",
    "\n",
    "f,ax=plt.subplots(1,1, figsize=(12,8))\n",
    "\n",
    "line = sb.lineplot(x='date',y='GCVI',data=gcvi_day_pixel_df,ax=ax)\n",
    "ax.set_title('GCVI for Point over Time Frame')\n",
    "\n",
    "ax.set_ylabel('GCVI')\n",
    "ax.set_xlabel('Date')"
   ]
  },
  {
   "cell_type": "code",
   "execution_count": 23,
   "id": "7b0eb82f",
   "metadata": {},
   "outputs": [
    {
     "data": {
      "text/html": [
       "\n",
       "            <style>\n",
       "                .geemap-dark {\n",
       "                    --jp-widgets-color: white;\n",
       "                    --jp-widgets-label-color: white;\n",
       "                    --jp-ui-font-color1: white;\n",
       "                    --jp-layout-color2: #454545;\n",
       "                    background-color: #383838;\n",
       "                }\n",
       "                    \n",
       "                .geemap-dark .jupyter-button {\n",
       "                    --jp-layout-color3: #383838;\n",
       "                }\n",
       "                \n",
       "                .geemap-colab {\n",
       "                    background-color: var(--colab-primary-surface-color, white);\n",
       "                }\n",
       "                    \n",
       "                .geemap-colab .jupyter-button {\n",
       "                    --jp-layout-color3: var(--colab-primary-surface-color, white);\n",
       "                }\n",
       "            </style>\n",
       "            "
      ],
      "text/plain": [
       "<IPython.core.display.HTML object>"
      ]
     },
     "metadata": {},
     "output_type": "display_data"
    }
   ],
   "source": [
    "dill.dump_session('notebook_env.db')"
   ]
  },
  {
   "cell_type": "markdown",
   "id": "596eaa19",
   "metadata": {},
   "source": [
    "We want to fit a model to the time series of each band. We choose a harmonic regression model, which some literature suggests is successful in representing crop behaviour."
   ]
  },
  {
   "cell_type": "markdown",
   "id": "8f3b401d",
   "metadata": {},
   "source": [
    "We run the following regression with two harmonic pairs:\n",
    "$$GCVI_t=\\beta_0+\\beta1t+\\beta_2 cos(2\\pi\\omega_1t)+\\beta_3 sin(2\\pi\\omega_1t)+\\beta_4 cos(2\\pi\\omega_2t)+\\beta_5 sin(2\\pi\\omega_2t)+\\epsilon$$ with $\\omega_1=1$ and $\\omega_2=2$."
   ]
  },
  {
   "cell_type": "markdown",
   "id": "69d30a61",
   "metadata": {},
   "source": [
    "We use a function (run_std_regressions, found on github as part of a module for harmonic regression) to compute the variance, the root mean square error, and a measure of how much of our outcome of interest is successfully captured by the model.\n",
    "It works by us providing a collection of images corresponding to our band of interest, the band we wish to regress on, and the number of harmonic pairs;"
   ]
  },
  {
   "cell_type": "code",
   "execution_count": 22,
   "id": "8d160f6b",
   "metadata": {},
   "outputs": [
    {
     "data": {
      "text/html": [
       "\n",
       "            <style>\n",
       "                .geemap-dark {\n",
       "                    --jp-widgets-color: white;\n",
       "                    --jp-widgets-label-color: white;\n",
       "                    --jp-ui-font-color1: white;\n",
       "                    --jp-layout-color2: #454545;\n",
       "                    background-color: #383838;\n",
       "                }\n",
       "                    \n",
       "                .geemap-dark .jupyter-button {\n",
       "                    --jp-layout-color3: #383838;\n",
       "                }\n",
       "                \n",
       "                .geemap-colab {\n",
       "                    background-color: var(--colab-primary-surface-color, white);\n",
       "                }\n",
       "                    \n",
       "                .geemap-colab .jupyter-button {\n",
       "                    --jp-layout-color3: var(--colab-primary-surface-color, white);\n",
       "                }\n",
       "            </style>\n",
       "            "
      ],
      "text/plain": [
       "<IPython.core.display.HTML object>"
      ]
     },
     "metadata": {},
     "output_type": "display_data"
    }
   ],
   "source": [
    "import harmonics\n",
    "\n",
    "s2coll_2a_2 = s2_2a.Sentinel2SR(india_geom.geometry(), start_date = ee.Date('2019-02-01'), end_date = ee.Date('2019-02-02'), addVIs=True, addCloudMasks=False).get_img_coll()\n",
    "gcvi = s2coll_2a_2.select('GCVI')\n",
    "dep_bands = ['GCVI']\n",
    "\n",
    "hrmregr_coefs_gcvi = harmonics.run_std_regressions(gcvi,dep_bands,refdate='2018-10-20')"
   ]
  },
  {
   "cell_type": "markdown",
   "id": "b15dbf57",
   "metadata": {},
   "source": [
    "(The reference date is chosen at the beginning of the Rabi season)"
   ]
  },
  {
   "cell_type": "code",
   "execution_count": 97,
   "id": "b7ec2da3",
   "metadata": {},
   "outputs": [
    {
     "data": {
      "text/html": [
       "\n",
       "            <style>\n",
       "                .geemap-dark {\n",
       "                    --jp-widgets-color: white;\n",
       "                    --jp-widgets-label-color: white;\n",
       "                    --jp-ui-font-color1: white;\n",
       "                    --jp-layout-color2: #454545;\n",
       "                    background-color: #383838;\n",
       "                }\n",
       "                    \n",
       "                .geemap-dark .jupyter-button {\n",
       "                    --jp-layout-color3: #383838;\n",
       "                }\n",
       "                \n",
       "                .geemap-colab {\n",
       "                    background-color: var(--colab-primary-surface-color, white);\n",
       "                }\n",
       "                    \n",
       "                .geemap-colab .jupyter-button {\n",
       "                    --jp-layout-color3: var(--colab-primary-surface-color, white);\n",
       "                }\n",
       "            </style>\n",
       "            "
      ],
      "text/plain": [
       "<IPython.core.display.HTML object>"
      ]
     },
     "metadata": {},
     "output_type": "display_data"
    }
   ],
   "source": [
    "s2coll_2a_plot_a = s2_2a.Sentinel2SR(ee_plot_a, start_date = ee.Date('2018-10-19'), end_date = ee.Date('2019-02-02'), addVIs=True, addCloudMasks=False).get_img_coll()\n",
    "\n",
    "gcvi_a = s2coll_2a_plot_a.select('GCVI')\n",
    "dep_bands = ['GCVI']\n",
    "\n",
    "hrmregr_coefs_gcvi = harmonics.run_std_regressions(gcvi_a,dep_bands,refdate='2018-10-20')"
   ]
  },
  {
   "cell_type": "code",
   "execution_count": 98,
   "id": "69686dec",
   "metadata": {},
   "outputs": [
    {
     "data": {
      "text/html": [
       "\n",
       "            <style>\n",
       "                .geemap-dark {\n",
       "                    --jp-widgets-color: white;\n",
       "                    --jp-widgets-label-color: white;\n",
       "                    --jp-ui-font-color1: white;\n",
       "                    --jp-layout-color2: #454545;\n",
       "                    background-color: #383838;\n",
       "                }\n",
       "                    \n",
       "                .geemap-dark .jupyter-button {\n",
       "                    --jp-layout-color3: #383838;\n",
       "                }\n",
       "                \n",
       "                .geemap-colab {\n",
       "                    background-color: var(--colab-primary-surface-color, white);\n",
       "                }\n",
       "                    \n",
       "                .geemap-colab .jupyter-button {\n",
       "                    --jp-layout-color3: var(--colab-primary-surface-color, white);\n",
       "                }\n",
       "            </style>\n",
       "            "
      ],
      "text/plain": [
       "<IPython.core.display.HTML object>"
      ]
     },
     "metadata": {},
     "output_type": "display_data"
    },
    {
     "name": "stdout",
     "output_type": "stream",
     "text": [
      "GCVI_sin2\n",
      "GCVI_cos2\n",
      "GCVI_sin1\n",
      "GCVI_cos1\n",
      "GCVI_t\n",
      "GCVI_constant\n",
      "GCVI_variance\n",
      "GCVI_count\n",
      "GCVI_mean\n",
      "GCVI_rmse\n",
      "GCVI_r2\n"
     ]
    }
   ],
   "source": [
    "for band in hrmregr_coefs_gcvi.getInfo()['bands']:\n",
    "    print(band['id'])"
   ]
  },
  {
   "cell_type": "markdown",
   "id": "4f87409e",
   "metadata": {},
   "source": [
    "We've obtained the correct coefficients - we wanted two sine terms, two cosine terms, a constant, t (time), the variance, mean, rmse, and $R^2$ which is our measure for the model."
   ]
  },
  {
   "cell_type": "code",
   "execution_count": 7,
   "id": "62eface6",
   "metadata": {
    "scrolled": true
   },
   "outputs": [
    {
     "data": {
      "text/html": [
       "\n",
       "            <style>\n",
       "                .geemap-dark {\n",
       "                    --jp-widgets-color: white;\n",
       "                    --jp-widgets-label-color: white;\n",
       "                    --jp-ui-font-color1: white;\n",
       "                    --jp-layout-color2: #454545;\n",
       "                    background-color: #383838;\n",
       "                }\n",
       "                    \n",
       "                .geemap-dark .jupyter-button {\n",
       "                    --jp-layout-color3: #383838;\n",
       "                }\n",
       "                \n",
       "                .geemap-colab {\n",
       "                    background-color: var(--colab-primary-surface-color, white);\n",
       "                }\n",
       "                    \n",
       "                .geemap-colab .jupyter-button {\n",
       "                    --jp-layout-color3: var(--colab-primary-surface-color, white);\n",
       "                }\n",
       "            </style>\n",
       "            "
      ],
      "text/plain": [
       "<IPython.core.display.HTML object>"
      ]
     },
     "metadata": {},
     "output_type": "display_data"
    }
   ],
   "source": [
    "import dill\n",
    "dill.load_module('notebook_env.db')"
   ]
  },
  {
   "cell_type": "code",
   "execution_count": 101,
   "id": "a8d64d44",
   "metadata": {},
   "outputs": [
    {
     "data": {
      "text/html": [
       "\n",
       "            <style>\n",
       "                .geemap-dark {\n",
       "                    --jp-widgets-color: white;\n",
       "                    --jp-widgets-label-color: white;\n",
       "                    --jp-ui-font-color1: white;\n",
       "                    --jp-layout-color2: #454545;\n",
       "                    background-color: #383838;\n",
       "                }\n",
       "                    \n",
       "                .geemap-dark .jupyter-button {\n",
       "                    --jp-layout-color3: #383838;\n",
       "                }\n",
       "                \n",
       "                .geemap-colab {\n",
       "                    background-color: var(--colab-primary-surface-color, white);\n",
       "                }\n",
       "                    \n",
       "                .geemap-colab .jupyter-button {\n",
       "                    --jp-layout-color3: var(--colab-primary-surface-color, white);\n",
       "                }\n",
       "            </style>\n",
       "            "
      ],
      "text/plain": [
       "<IPython.core.display.HTML object>"
      ]
     },
     "metadata": {},
     "output_type": "display_data"
    },
    {
     "data": {
      "text/html": [
       "<div>\n",
       "<style scoped>\n",
       "    .dataframe tbody tr th:only-of-type {\n",
       "        vertical-align: middle;\n",
       "    }\n",
       "\n",
       "    .dataframe tbody tr th {\n",
       "        vertical-align: top;\n",
       "    }\n",
       "\n",
       "    .dataframe thead th {\n",
       "        text-align: right;\n",
       "    }\n",
       "</style>\n",
       "<table border=\"1\" class=\"dataframe\">\n",
       "  <thead>\n",
       "    <tr style=\"text-align: right;\">\n",
       "      <th></th>\n",
       "      <th>index</th>\n",
       "      <th>plot</th>\n",
       "      <th>geometry</th>\n",
       "    </tr>\n",
       "  </thead>\n",
       "  <tbody>\n",
       "    <tr>\n",
       "      <th>0</th>\n",
       "      <td>0</td>\n",
       "      <td>plot_a</td>\n",
       "      <td>POLYGON ((77.11623 28.94701, 77.12063 28.94708...</td>\n",
       "    </tr>\n",
       "    <tr>\n",
       "      <th>1</th>\n",
       "      <td>1</td>\n",
       "      <td>plot_b</td>\n",
       "      <td>POLYGON ((77.08160 28.95033, 77.08588 28.95027...</td>\n",
       "    </tr>\n",
       "    <tr>\n",
       "      <th>2</th>\n",
       "      <td>2</td>\n",
       "      <td>plot_c</td>\n",
       "      <td>POLYGON ((77.11193 28.93939, 77.11491 28.93941...</td>\n",
       "    </tr>\n",
       "  </tbody>\n",
       "</table>\n",
       "</div>"
      ],
      "text/plain": [
       "   index    plot                                           geometry\n",
       "0      0  plot_a  POLYGON ((77.11623 28.94701, 77.12063 28.94708...\n",
       "1      1  plot_b  POLYGON ((77.08160 28.95033, 77.08588 28.95027...\n",
       "2      2  plot_c  POLYGON ((77.11193 28.93939, 77.11491 28.93941..."
      ]
     },
     "execution_count": 101,
     "metadata": {},
     "output_type": "execute_result"
    }
   ],
   "source": [
    "from shapely.geometry import Polygon\n",
    "\n",
    "# define 3 random plots\n",
    "plot_a = gpd.GeoDataFrame(pd.DataFrame({'plot':'plot_a'}, index=[0]), geometry = [Polygon([(77.11623,28.94701),(77.12063,28.94708),(77.12066,28.93148),(77.11614,28.93163)])], crs=4326)\n",
    "plot_b = gpd.GeoDataFrame(pd.DataFrame({'plot':'plot_b'}, index=[1]), geometry = [Polygon([(77.08160, 28.95033),(77.08588, 28.95027),(77.08588, 28.94501),(77.08158, 28.94595)])], crs=4326)\n",
    "plot_c = gpd.GeoDataFrame(pd.DataFrame({'plot':'plot_c'}, index=[2]), geometry = [Polygon([(77.111930, 28.939392),(77.114906, 28.939411),(77.114925, 28.93727),(77.111909, 28.93727)])], crs=4326)\n",
    "# Combine sample plots into single geodataframe\n",
    "plots_gdf = pd.concat([plot_a,plot_b,plot_c]).reset_index()\n",
    "# Visualize data at intermediate stage\n",
    "plots_gdf.head()"
   ]
  },
  {
   "cell_type": "code",
   "execution_count": 157,
   "id": "e08b1f27",
   "metadata": {},
   "outputs": [
    {
     "data": {
      "text/html": [
       "\n",
       "            <style>\n",
       "                .geemap-dark {\n",
       "                    --jp-widgets-color: white;\n",
       "                    --jp-widgets-label-color: white;\n",
       "                    --jp-ui-font-color1: white;\n",
       "                    --jp-layout-color2: #454545;\n",
       "                    background-color: #383838;\n",
       "                }\n",
       "                    \n",
       "                .geemap-dark .jupyter-button {\n",
       "                    --jp-layout-color3: #383838;\n",
       "                }\n",
       "                \n",
       "                .geemap-colab {\n",
       "                    background-color: var(--colab-primary-surface-color, white);\n",
       "                }\n",
       "                    \n",
       "                .geemap-colab .jupyter-button {\n",
       "                    --jp-layout-color3: var(--colab-primary-surface-color, white);\n",
       "                }\n",
       "            </style>\n",
       "            "
      ],
      "text/plain": [
       "<IPython.core.display.HTML object>"
      ]
     },
     "metadata": {},
     "output_type": "display_data"
    },
    {
     "data": {
      "text/html": [
       "<div>\n",
       "<style scoped>\n",
       "    .dataframe tbody tr th:only-of-type {\n",
       "        vertical-align: middle;\n",
       "    }\n",
       "\n",
       "    .dataframe tbody tr th {\n",
       "        vertical-align: top;\n",
       "    }\n",
       "\n",
       "    .dataframe thead th {\n",
       "        text-align: right;\n",
       "    }\n",
       "</style>\n",
       "<table border=\"1\" class=\"dataframe\">\n",
       "  <thead>\n",
       "    <tr style=\"text-align: right;\">\n",
       "      <th></th>\n",
       "      <th>plot</th>\n",
       "      <th>geometry</th>\n",
       "    </tr>\n",
       "  </thead>\n",
       "  <tbody>\n",
       "    <tr>\n",
       "      <th>0</th>\n",
       "      <td>plot_1</td>\n",
       "      <td>POLYGON ((76.20601 27.92034, 77.79399 27.92034...</td>\n",
       "    </tr>\n",
       "    <tr>\n",
       "      <th>1</th>\n",
       "      <td>plot_2</td>\n",
       "      <td>POLYGON ((76.33937 27.67411, 77.66063 27.67411...</td>\n",
       "    </tr>\n",
       "    <tr>\n",
       "      <th>2</th>\n",
       "      <td>plot_3</td>\n",
       "      <td>POLYGON ((76.72997 27.68886, 77.27003 27.68886...</td>\n",
       "    </tr>\n",
       "    <tr>\n",
       "      <th>3</th>\n",
       "      <td>plot_4</td>\n",
       "      <td>POLYGON ((76.78040 27.89896, 77.21960 27.89896...</td>\n",
       "    </tr>\n",
       "    <tr>\n",
       "      <th>4</th>\n",
       "      <td>plot_5</td>\n",
       "      <td>POLYGON ((76.33467 27.30826, 77.66533 27.30826...</td>\n",
       "    </tr>\n",
       "  </tbody>\n",
       "</table>\n",
       "</div>"
      ],
      "text/plain": [
       "     plot                                           geometry\n",
       "0  plot_1  POLYGON ((76.20601 27.92034, 77.79399 27.92034...\n",
       "1  plot_2  POLYGON ((76.33937 27.67411, 77.66063 27.67411...\n",
       "2  plot_3  POLYGON ((76.72997 27.68886, 77.27003 27.68886...\n",
       "3  plot_4  POLYGON ((76.78040 27.89896, 77.21960 27.89896...\n",
       "4  plot_5  POLYGON ((76.33467 27.30826, 77.66533 27.30826..."
      ]
     },
     "execution_count": 157,
     "metadata": {},
     "output_type": "execute_result"
    }
   ],
   "source": [
    "import numpy as np\n",
    "df = pd.DataFrame()\n",
    "\n",
    "def generatePlots(n, center_lat, center_lon):\n",
    "\n",
    "    for i in range(1, n+1):\n",
    "        delta_lat = np.random.uniform(low=0.0,high=0.01)\n",
    "        delta_lon = np.random.uniform(low=0.0,high=0.01)\n",
    "        lat1 = center_lat - delta_lat\n",
    "        lat2 = center_lat + delta_lat\n",
    "        lon1 = center_lon - delta_lon\n",
    "        lon2 = center_lon + delta_lon\n",
    "        \n",
    "        gdf = gpd.GeoDataFrame(pd.DataFrame({'plot': [f'plot_{i}']}, index=[i-1]), geometry=[Polygon([(lon1, lat1), (lon2, lat1), (lon2, lat2), (lon1, lat2)])], crs=4326)\n",
    "        df = pd.concat([df, gdf])\n",
    "\n",
    "    return df\n",
    "\n",
    "plots = generatePlots(5, 28, 77)\n",
    "\n",
    "plots"
   ]
  },
  {
   "cell_type": "code",
   "execution_count": 148,
   "id": "5cdeeb8d",
   "metadata": {},
   "outputs": [
    {
     "data": {
      "text/html": [
       "\n",
       "            <style>\n",
       "                .geemap-dark {\n",
       "                    --jp-widgets-color: white;\n",
       "                    --jp-widgets-label-color: white;\n",
       "                    --jp-ui-font-color1: white;\n",
       "                    --jp-layout-color2: #454545;\n",
       "                    background-color: #383838;\n",
       "                }\n",
       "                    \n",
       "                .geemap-dark .jupyter-button {\n",
       "                    --jp-layout-color3: #383838;\n",
       "                }\n",
       "                \n",
       "                .geemap-colab {\n",
       "                    background-color: var(--colab-primary-surface-color, white);\n",
       "                }\n",
       "                    \n",
       "                .geemap-colab .jupyter-button {\n",
       "                    --jp-layout-color3: var(--colab-primary-surface-color, white);\n",
       "                }\n",
       "            </style>\n",
       "            "
      ],
      "text/plain": [
       "<IPython.core.display.HTML object>"
      ]
     },
     "metadata": {},
     "output_type": "display_data"
    },
    {
     "data": {
      "text/html": [
       "<iframe srcdoc=\"&lt;!DOCTYPE html&gt;\n",
       "&lt;html&gt;\n",
       "&lt;head&gt;\n",
       "    \n",
       "    &lt;meta http-equiv=&quot;content-type&quot; content=&quot;text/html; charset=UTF-8&quot; /&gt;\n",
       "    \n",
       "        &lt;script&gt;\n",
       "            L_NO_TOUCH = false;\n",
       "            L_DISABLE_3D = false;\n",
       "        &lt;/script&gt;\n",
       "    \n",
       "    &lt;style&gt;html, body {width: 100%;height: 100%;margin: 0;padding: 0;}&lt;/style&gt;\n",
       "    &lt;style&gt;#map {position:absolute;top:0;bottom:0;right:0;left:0;}&lt;/style&gt;\n",
       "    &lt;script src=&quot;https://cdn.jsdelivr.net/npm/leaflet@1.9.3/dist/leaflet.js&quot;&gt;&lt;/script&gt;\n",
       "    &lt;script src=&quot;https://code.jquery.com/jquery-3.7.1.min.js&quot;&gt;&lt;/script&gt;\n",
       "    &lt;script src=&quot;https://cdn.jsdelivr.net/npm/bootstrap@5.2.2/dist/js/bootstrap.bundle.min.js&quot;&gt;&lt;/script&gt;\n",
       "    &lt;script src=&quot;https://cdnjs.cloudflare.com/ajax/libs/Leaflet.awesome-markers/2.0.2/leaflet.awesome-markers.js&quot;&gt;&lt;/script&gt;\n",
       "    &lt;link rel=&quot;stylesheet&quot; href=&quot;https://cdn.jsdelivr.net/npm/leaflet@1.9.3/dist/leaflet.css&quot;/&gt;\n",
       "    &lt;link rel=&quot;stylesheet&quot; href=&quot;https://cdn.jsdelivr.net/npm/bootstrap@5.2.2/dist/css/bootstrap.min.css&quot;/&gt;\n",
       "    &lt;link rel=&quot;stylesheet&quot; href=&quot;https://netdna.bootstrapcdn.com/bootstrap/3.0.0/css/bootstrap.min.css&quot;/&gt;\n",
       "    &lt;link rel=&quot;stylesheet&quot; href=&quot;https://cdn.jsdelivr.net/npm/@fortawesome/fontawesome-free@6.2.0/css/all.min.css&quot;/&gt;\n",
       "    &lt;link rel=&quot;stylesheet&quot; href=&quot;https://cdnjs.cloudflare.com/ajax/libs/Leaflet.awesome-markers/2.0.2/leaflet.awesome-markers.css&quot;/&gt;\n",
       "    &lt;link rel=&quot;stylesheet&quot; href=&quot;https://cdn.jsdelivr.net/gh/python-visualization/folium/folium/templates/leaflet.awesome.rotate.min.css&quot;/&gt;\n",
       "    \n",
       "            &lt;meta name=&quot;viewport&quot; content=&quot;width=device-width,\n",
       "                initial-scale=1.0, maximum-scale=1.0, user-scalable=no&quot; /&gt;\n",
       "            &lt;style&gt;\n",
       "                #map_b4ee2988a2016dc9b35a1a57453b7f43 {\n",
       "                    position: relative;\n",
       "                    width: 100.0%;\n",
       "                    height: 100.0%;\n",
       "                    left: 0.0%;\n",
       "                    top: 0.0%;\n",
       "                }\n",
       "                .leaflet-container { font-size: 1rem; }\n",
       "            &lt;/style&gt;\n",
       "        \n",
       "    &lt;script src=&quot;https://cdn.jsdelivr.net/npm/leaflet.fullscreen@3.0.0/Control.FullScreen.min.js&quot;&gt;&lt;/script&gt;\n",
       "    &lt;link rel=&quot;stylesheet&quot; href=&quot;https://cdn.jsdelivr.net/npm/leaflet.fullscreen@3.0.0/Control.FullScreen.css&quot;/&gt;\n",
       "    &lt;script src=&quot;https://cdnjs.cloudflare.com/ajax/libs/leaflet.draw/1.0.2/leaflet.draw.js&quot;&gt;&lt;/script&gt;\n",
       "    &lt;link rel=&quot;stylesheet&quot; href=&quot;https://cdnjs.cloudflare.com/ajax/libs/leaflet.draw/1.0.2/leaflet.draw.css&quot;/&gt;\n",
       "    &lt;script src=&quot;https://unpkg.com/leaflet-control-geocoder/dist/Control.Geocoder.js&quot;&gt;&lt;/script&gt;\n",
       "    &lt;link rel=&quot;stylesheet&quot; href=&quot;https://unpkg.com/leaflet-control-geocoder/dist/Control.Geocoder.css&quot;/&gt;\n",
       "&lt;/head&gt;\n",
       "&lt;body&gt;\n",
       "    \n",
       "    \n",
       "            &lt;div class=&quot;folium-map&quot; id=&quot;map_b4ee2988a2016dc9b35a1a57453b7f43&quot; &gt;&lt;/div&gt;\n",
       "        \n",
       "&lt;/body&gt;\n",
       "&lt;script&gt;\n",
       "    \n",
       "    \n",
       "            var map_b4ee2988a2016dc9b35a1a57453b7f43 = L.map(\n",
       "                &quot;map_b4ee2988a2016dc9b35a1a57453b7f43&quot;,\n",
       "                {\n",
       "                    center: [28.905434, 77.15748],\n",
       "                    crs: L.CRS.EPSG3857,\n",
       "                    zoom: 15,\n",
       "                    zoomControl: true,\n",
       "                    preferCanvas: false,\n",
       "                    eeInitialize: true,\n",
       "                    addGoogleMap: false,\n",
       "                    pluginLatlngpopup: false,\n",
       "                    pluginFullscreen: true,\n",
       "                    pluginDraw: true,\n",
       "                    DrawExport: false,\n",
       "                    pluginMinimap: false,\n",
       "                    locateControl: false,\n",
       "                    searchControl: true,\n",
       "                    layersControl: true,\n",
       "                }\n",
       "            );\n",
       "\n",
       "            \n",
       "\n",
       "        \n",
       "    \n",
       "            var tile_layer_838fca8b77c95896ad447e5970fc56c1 = L.tileLayer(\n",
       "                &quot;https://tile.openstreetmap.org/{z}/{x}/{y}.png&quot;,\n",
       "                {&quot;attribution&quot;: &quot;\\u0026copy; \\u003ca href=\\&quot;https://www.openstreetmap.org/copyright\\&quot;\\u003eOpenStreetMap\\u003c/a\\u003e contributors&quot;, &quot;detectRetina&quot;: false, &quot;maxNativeZoom&quot;: 19, &quot;maxZoom&quot;: 19, &quot;minZoom&quot;: 0, &quot;noWrap&quot;: false, &quot;opacity&quot;: 1, &quot;subdomains&quot;: &quot;abc&quot;, &quot;tms&quot;: false}\n",
       "            );\n",
       "        \n",
       "    \n",
       "            tile_layer_838fca8b77c95896ad447e5970fc56c1.addTo(map_b4ee2988a2016dc9b35a1a57453b7f43);\n",
       "        \n",
       "    \n",
       "            L.control.fullscreen(\n",
       "                {&quot;forceSeparateButton&quot;: false, &quot;position&quot;: &quot;topleft&quot;, &quot;title&quot;: &quot;Full Screen&quot;, &quot;titleCancel&quot;: &quot;Exit Full Screen&quot;}\n",
       "            ).addTo(map_b4ee2988a2016dc9b35a1a57453b7f43);\n",
       "        \n",
       "    \n",
       "            var options = {\n",
       "              position: &quot;topleft&quot;,\n",
       "              draw: {},\n",
       "              edit: {},\n",
       "            }\n",
       "            // FeatureGroup is to store editable layers.\n",
       "            var drawnItems_draw_control_6f17e22a84ce885e0d810ec476c2e9d5 = new L.featureGroup().addTo(\n",
       "                map_b4ee2988a2016dc9b35a1a57453b7f43\n",
       "            );\n",
       "            options.edit.featureGroup = drawnItems_draw_control_6f17e22a84ce885e0d810ec476c2e9d5;\n",
       "            var draw_control_6f17e22a84ce885e0d810ec476c2e9d5 = new L.Control.Draw(\n",
       "                options\n",
       "            ).addTo( map_b4ee2988a2016dc9b35a1a57453b7f43 );\n",
       "            map_b4ee2988a2016dc9b35a1a57453b7f43.on(L.Draw.Event.CREATED, function(e) {\n",
       "                var layer = e.layer,\n",
       "                    type = e.layerType;\n",
       "                var coords = JSON.stringify(layer.toGeoJSON());\n",
       "                layer.on(&#x27;click&#x27;, function() {\n",
       "                    alert(coords);\n",
       "                    console.log(coords);\n",
       "                });\n",
       "                drawnItems_draw_control_6f17e22a84ce885e0d810ec476c2e9d5.addLayer(layer);\n",
       "             });\n",
       "            map_b4ee2988a2016dc9b35a1a57453b7f43.on(&#x27;draw:created&#x27;, function(e) {\n",
       "                drawnItems_draw_control_6f17e22a84ce885e0d810ec476c2e9d5.addLayer(e.layer);\n",
       "            });\n",
       "            \n",
       "        \n",
       "    \n",
       "            L.Control.geocoder(\n",
       "                {&quot;collapsed&quot;: true, &quot;defaultMarkGeocode&quot;: true, &quot;position&quot;: &quot;topleft&quot;}\n",
       "            ).on(&#x27;markgeocode&#x27;, function(e) {\n",
       "                map_b4ee2988a2016dc9b35a1a57453b7f43.setView(e.geocode.center, 11);\n",
       "            }).addTo(map_b4ee2988a2016dc9b35a1a57453b7f43);\n",
       "\n",
       "        \n",
       "    \n",
       "            map_b4ee2988a2016dc9b35a1a57453b7f43.fitBounds(\n",
       "                [[28.905434, 77.15748], [28.905434, 77.15748]],\n",
       "                {&quot;maxZoom&quot;: 15}\n",
       "            );\n",
       "        \n",
       "    \n",
       "            var tile_layer_fa1637018b2e01e4e880b24e3b2ebe3d = L.tileLayer(\n",
       "                &quot;https://server.arcgisonline.com/ArcGIS/rest/services/World_Imagery/MapServer/tile/{z}/{y}/{x}&quot;,\n",
       "                {&quot;attribution&quot;: &quot;Esri&quot;, &quot;detectRetina&quot;: false, &quot;maxNativeZoom&quot;: 22, &quot;maxZoom&quot;: 22, &quot;minZoom&quot;: 0, &quot;noWrap&quot;: false, &quot;opacity&quot;: 1, &quot;subdomains&quot;: &quot;abc&quot;, &quot;tms&quot;: false}\n",
       "            );\n",
       "        \n",
       "    \n",
       "            tile_layer_fa1637018b2e01e4e880b24e3b2ebe3d.addTo(map_b4ee2988a2016dc9b35a1a57453b7f43);\n",
       "        \n",
       "    \n",
       "            var tile_layer_59ec6fbfa0c4e4ab75fd25d878458c11 = L.tileLayer(\n",
       "                &quot;https://earthengine.googleapis.com/v1/projects/earthengine-legacy/maps/6126cb54787335d8f30f210e4a4b12c5-ddc1e9df8bba3bfec6e2d0121d1b1bee/tiles/{z}/{x}/{y}&quot;,\n",
       "                {&quot;attribution&quot;: &quot;Google Earth Engine&quot;, &quot;detectRetina&quot;: false, &quot;maxNativeZoom&quot;: 24, &quot;maxZoom&quot;: 24, &quot;minZoom&quot;: 0, &quot;noWrap&quot;: false, &quot;opacity&quot;: 0.8, &quot;subdomains&quot;: &quot;abc&quot;, &quot;tms&quot;: false}\n",
       "            );\n",
       "        \n",
       "    \n",
       "            tile_layer_59ec6fbfa0c4e4ab75fd25d878458c11.addTo(map_b4ee2988a2016dc9b35a1a57453b7f43);\n",
       "        \n",
       "    \n",
       "            var layer_control_1d94392869f5e3a3bb0df1f5da74d3c4_layers = {\n",
       "                base_layers : {\n",
       "                    &quot;openstreetmap&quot; : tile_layer_838fca8b77c95896ad447e5970fc56c1,\n",
       "                },\n",
       "                overlays :  {\n",
       "                    &quot;Esri.WorldImagery&quot; : tile_layer_fa1637018b2e01e4e880b24e3b2ebe3d,\n",
       "                    &quot;Layer untitled&quot; : tile_layer_59ec6fbfa0c4e4ab75fd25d878458c11,\n",
       "                },\n",
       "            };\n",
       "            let layer_control_1d94392869f5e3a3bb0df1f5da74d3c4 = L.control.layers(\n",
       "                layer_control_1d94392869f5e3a3bb0df1f5da74d3c4_layers.base_layers,\n",
       "                layer_control_1d94392869f5e3a3bb0df1f5da74d3c4_layers.overlays,\n",
       "                {&quot;autoZIndex&quot;: true, &quot;collapsed&quot;: true, &quot;position&quot;: &quot;topright&quot;}\n",
       "            ).addTo(map_b4ee2988a2016dc9b35a1a57453b7f43);\n",
       "\n",
       "        \n",
       "&lt;/script&gt;\n",
       "&lt;/html&gt;\" width=\"100%\" height=\"600\"style=\"border:none !important;\" \"allowfullscreen\" \"webkitallowfullscreen\" \"mozallowfullscreen\"></iframe>"
      ],
      "text/plain": [
       "<geemap.foliumap.Map at 0x27ce912a160>"
      ]
     },
     "execution_count": 148,
     "metadata": {},
     "output_type": "execute_result"
    }
   ],
   "source": [
    "ee_plot_a = geemap.geopandas_to_ee(plot_a).geometry()\n",
    "ee_plot_b = geemap.geopandas_to_ee(plot_b).geometry()\n",
    "ee_plot_c = geemap.geopandas_to_ee(plot_c).geometry()\n",
    "center_lat = 28.905434\n",
    "center_lon = 77.157480\n",
    "\n",
    "# this is not a real plot from any survey data; it was randomly selected for demonstration\n",
    "map_plot_a = geemap.foliumap.Map(center=[center_lat,center_lon],zoom=15)\n",
    "map_plot_a.add_basemap('SATELLITE')\n",
    "map_plot_a.addLayer(ee_plot_a,vis_params={'color':'a4c639'},opacity=0.8)\n",
    "map_plot_a"
   ]
  },
  {
   "cell_type": "code",
   "execution_count": 45,
   "id": "ee70f6be",
   "metadata": {},
   "outputs": [
    {
     "data": {
      "text/html": [
       "\n",
       "            <style>\n",
       "                .geemap-dark {\n",
       "                    --jp-widgets-color: white;\n",
       "                    --jp-widgets-label-color: white;\n",
       "                    --jp-ui-font-color1: white;\n",
       "                    --jp-layout-color2: #454545;\n",
       "                    background-color: #383838;\n",
       "                }\n",
       "                    \n",
       "                .geemap-dark .jupyter-button {\n",
       "                    --jp-layout-color3: #383838;\n",
       "                }\n",
       "                \n",
       "                .geemap-colab {\n",
       "                    background-color: var(--colab-primary-surface-color, white);\n",
       "                }\n",
       "                    \n",
       "                .geemap-colab .jupyter-button {\n",
       "                    --jp-layout-color3: var(--colab-primary-surface-color, white);\n",
       "                }\n",
       "            </style>\n",
       "            "
      ],
      "text/plain": [
       "<IPython.core.display.HTML object>"
      ]
     },
     "metadata": {},
     "output_type": "display_data"
    }
   ],
   "source": [
    "dill.dump_session('notebook_env.db')"
   ]
  },
  {
   "cell_type": "markdown",
   "id": "3d270857",
   "metadata": {},
   "source": [
    "Earth Engine provides the reduceRegion() method to compute statistics for images over a given area. For each of our GCVI features, we want to find the mean value for each plot. We'll use a reducer which allows aggregation over areas, time, and bands, among other Image characteristics. The ee.Reducer.mean() is used to calculate the mean values of an image."
   ]
  },
  {
   "cell_type": "code",
   "execution_count": 103,
   "id": "55ef8216",
   "metadata": {},
   "outputs": [
    {
     "data": {
      "text/html": [
       "\n",
       "            <style>\n",
       "                .geemap-dark {\n",
       "                    --jp-widgets-color: white;\n",
       "                    --jp-widgets-label-color: white;\n",
       "                    --jp-ui-font-color1: white;\n",
       "                    --jp-layout-color2: #454545;\n",
       "                    background-color: #383838;\n",
       "                }\n",
       "                    \n",
       "                .geemap-dark .jupyter-button {\n",
       "                    --jp-layout-color3: #383838;\n",
       "                }\n",
       "                \n",
       "                .geemap-colab {\n",
       "                    background-color: var(--colab-primary-surface-color, white);\n",
       "                }\n",
       "                    \n",
       "                .geemap-colab .jupyter-button {\n",
       "                    --jp-layout-color3: var(--colab-primary-surface-color, white);\n",
       "                }\n",
       "            </style>\n",
       "            "
      ],
      "text/plain": [
       "<IPython.core.display.HTML object>"
      ]
     },
     "metadata": {},
     "output_type": "display_data"
    },
    {
     "name": "stdout",
     "output_type": "stream",
     "text": [
      "Mean constant from GCVI harmonic regression for plot c: 15002.484077991394\n"
     ]
    }
   ],
   "source": [
    "gcvi_a2 = hrmregr_coefs_gcvi.reduceRegion(\n",
    "    reducer = ee.Reducer.mean(),\n",
    "    geometry = ee_plot_a,\n",
    "    scale = 30\n",
    ")\n",
    "mean_gcvi_constant = gcvi_a2.get('GCVI_constant')\n",
    "print('Mean constant from GCVI harmonic regression for plot c:',mean_gcvi_constant.getInfo())"
   ]
  },
  {
   "cell_type": "code",
   "execution_count": 104,
   "id": "ce5272ac",
   "metadata": {
    "scrolled": true
   },
   "outputs": [
    {
     "data": {
      "text/html": [
       "\n",
       "            <style>\n",
       "                .geemap-dark {\n",
       "                    --jp-widgets-color: white;\n",
       "                    --jp-widgets-label-color: white;\n",
       "                    --jp-ui-font-color1: white;\n",
       "                    --jp-layout-color2: #454545;\n",
       "                    background-color: #383838;\n",
       "                }\n",
       "                    \n",
       "                .geemap-dark .jupyter-button {\n",
       "                    --jp-layout-color3: #383838;\n",
       "                }\n",
       "                \n",
       "                .geemap-colab {\n",
       "                    background-color: var(--colab-primary-surface-color, white);\n",
       "                }\n",
       "                    \n",
       "                .geemap-colab .jupyter-button {\n",
       "                    --jp-layout-color3: var(--colab-primary-surface-color, white);\n",
       "                }\n",
       "            </style>\n",
       "            "
      ],
      "text/plain": [
       "<IPython.core.display.HTML object>"
      ]
     },
     "metadata": {},
     "output_type": "display_data"
    },
    {
     "data": {
      "text/plain": [
       "{'type': 'FeatureCollection',\n",
       " 'columns': {'index': 'Integer', 'plot': 'String', 'system:index': 'String'},\n",
       " 'features': [{'type': 'Feature',\n",
       "   'geometry': {'type': 'Polygon',\n",
       "    'coordinates': [[[77.11623, 28.94701],\n",
       "      [77.11614, 28.93163],\n",
       "      [77.12066, 28.93148],\n",
       "      [77.12063, 28.94708],\n",
       "      [77.11623, 28.94701]]]},\n",
       "   'id': '0',\n",
       "   'properties': {'index': 0, 'plot': 'plot_a'}},\n",
       "  {'type': 'Feature',\n",
       "   'geometry': {'type': 'Polygon',\n",
       "    'coordinates': [[[77.0816, 28.95033],\n",
       "      [77.08158, 28.94595],\n",
       "      [77.08588, 28.94501],\n",
       "      [77.08588, 28.95027],\n",
       "      [77.0816, 28.95033]]]},\n",
       "   'id': '1',\n",
       "   'properties': {'index': 1, 'plot': 'plot_b'}},\n",
       "  {'type': 'Feature',\n",
       "   'geometry': {'type': 'Polygon',\n",
       "    'coordinates': [[[77.11193, 28.939392],\n",
       "      [77.111909, 28.93727],\n",
       "      [77.114925, 28.93727],\n",
       "      [77.114906, 28.939411],\n",
       "      [77.11193, 28.939392]]]},\n",
       "   'id': '2',\n",
       "   'properties': {'index': 2, 'plot': 'plot_c'}}]}"
      ]
     },
     "execution_count": 104,
     "metadata": {},
     "output_type": "execute_result"
    }
   ],
   "source": [
    "ee_plots_gdf = geemap.geopandas_to_ee(plots_gdf)\n",
    "ee_plots_gdf.getInfo()"
   ]
  },
  {
   "cell_type": "markdown",
   "id": "372dffef",
   "metadata": {},
   "source": [
    "Above we calculated values for an individual plot, but w ewant to obtain the values for all points of interest at once.. We can use ee.Image.reduceRegions() to perform the same calculations of the mean for multiple areas. Note that reduceRegions() takes a FeatureCollection as input, not a GeoDataFrame, hence the conversion above."
   ]
  },
  {
   "cell_type": "code",
   "execution_count": 107,
   "id": "88fe24b2",
   "metadata": {
    "scrolled": true
   },
   "outputs": [
    {
     "data": {
      "text/html": [
       "\n",
       "            <style>\n",
       "                .geemap-dark {\n",
       "                    --jp-widgets-color: white;\n",
       "                    --jp-widgets-label-color: white;\n",
       "                    --jp-ui-font-color1: white;\n",
       "                    --jp-layout-color2: #454545;\n",
       "                    background-color: #383838;\n",
       "                }\n",
       "                    \n",
       "                .geemap-dark .jupyter-button {\n",
       "                    --jp-layout-color3: #383838;\n",
       "                }\n",
       "                \n",
       "                .geemap-colab {\n",
       "                    background-color: var(--colab-primary-surface-color, white);\n",
       "                }\n",
       "                    \n",
       "                .geemap-colab .jupyter-button {\n",
       "                    --jp-layout-color3: var(--colab-primary-surface-color, white);\n",
       "                }\n",
       "            </style>\n",
       "            "
      ],
      "text/plain": [
       "<IPython.core.display.HTML object>"
      ]
     },
     "metadata": {},
     "output_type": "display_data"
    },
    {
     "data": {
      "text/html": [
       "<div>\n",
       "<style scoped>\n",
       "    .dataframe tbody tr th:only-of-type {\n",
       "        vertical-align: middle;\n",
       "    }\n",
       "\n",
       "    .dataframe tbody tr th {\n",
       "        vertical-align: top;\n",
       "    }\n",
       "\n",
       "    .dataframe thead th {\n",
       "        text-align: right;\n",
       "    }\n",
       "</style>\n",
       "<table border=\"1\" class=\"dataframe\">\n",
       "  <thead>\n",
       "    <tr style=\"text-align: right;\">\n",
       "      <th></th>\n",
       "      <th>GCVI_constant</th>\n",
       "      <th>GCVI_cos1</th>\n",
       "      <th>GCVI_cos2</th>\n",
       "      <th>GCVI_count</th>\n",
       "      <th>GCVI_mean</th>\n",
       "      <th>GCVI_r2</th>\n",
       "      <th>GCVI_rmse</th>\n",
       "      <th>GCVI_sin1</th>\n",
       "      <th>GCVI_sin2</th>\n",
       "      <th>GCVI_t</th>\n",
       "      <th>GCVI_variance</th>\n",
       "      <th>index</th>\n",
       "      <th>plot</th>\n",
       "    </tr>\n",
       "  </thead>\n",
       "  <tbody>\n",
       "    <tr>\n",
       "      <th>0</th>\n",
       "      <td>15002.484078</td>\n",
       "      <td>-14720.069761</td>\n",
       "      <td>896.151797</td>\n",
       "      <td>20</td>\n",
       "      <td>1.188686</td>\n",
       "      <td>0.439218</td>\n",
       "      <td>0.413560</td>\n",
       "      <td>3584.654108</td>\n",
       "      <td>1726.679272</td>\n",
       "      <td>-70758.282747</td>\n",
       "      <td>0.371355</td>\n",
       "      <td>0</td>\n",
       "      <td>plot_a</td>\n",
       "    </tr>\n",
       "    <tr>\n",
       "      <th>1</th>\n",
       "      <td>8216.006326</td>\n",
       "      <td>-8036.488830</td>\n",
       "      <td>476.627965</td>\n",
       "      <td>20</td>\n",
       "      <td>1.328845</td>\n",
       "      <td>0.382872</td>\n",
       "      <td>0.487067</td>\n",
       "      <td>1902.047428</td>\n",
       "      <td>948.768266</td>\n",
       "      <td>-38560.769750</td>\n",
       "      <td>0.468165</td>\n",
       "      <td>1</td>\n",
       "      <td>plot_b</td>\n",
       "    </tr>\n",
       "    <tr>\n",
       "      <th>2</th>\n",
       "      <td>14525.034674</td>\n",
       "      <td>-14281.496673</td>\n",
       "      <td>885.589527</td>\n",
       "      <td>20</td>\n",
       "      <td>1.142219</td>\n",
       "      <td>0.435011</td>\n",
       "      <td>0.412602</td>\n",
       "      <td>3548.843228</td>\n",
       "      <td>1667.351661</td>\n",
       "      <td>-68747.260579</td>\n",
       "      <td>0.333018</td>\n",
       "      <td>2</td>\n",
       "      <td>plot_c</td>\n",
       "    </tr>\n",
       "  </tbody>\n",
       "</table>\n",
       "</div>"
      ],
      "text/plain": [
       "   GCVI_constant     GCVI_cos1   GCVI_cos2  GCVI_count  GCVI_mean   GCVI_r2  \\\n",
       "0   15002.484078 -14720.069761  896.151797          20   1.188686  0.439218   \n",
       "1    8216.006326  -8036.488830  476.627965          20   1.328845  0.382872   \n",
       "2   14525.034674 -14281.496673  885.589527          20   1.142219  0.435011   \n",
       "\n",
       "   GCVI_rmse    GCVI_sin1    GCVI_sin2        GCVI_t  GCVI_variance  index  \\\n",
       "0   0.413560  3584.654108  1726.679272 -70758.282747       0.371355      0   \n",
       "1   0.487067  1902.047428   948.768266 -38560.769750       0.468165      1   \n",
       "2   0.412602  3548.843228  1667.351661 -68747.260579       0.333018      2   \n",
       "\n",
       "     plot  \n",
       "0  plot_a  \n",
       "1  plot_b  \n",
       "2  plot_c  "
      ]
     },
     "execution_count": 107,
     "metadata": {},
     "output_type": "execute_result"
    }
   ],
   "source": [
    "# Calculate mean GCVI values for areas\n",
    "ee_plots_gcvi = hrmregr_coefs_gcvi.reduceRegions(\n",
    "    reducer = ee.Reducer.mean(),\n",
    "    collection = ee_plots_gdf,\n",
    "    scale = 30\n",
    ")\n",
    "# convert to DataFrame\n",
    "plots_with_gcvi = geemap.ee_to_pandas(ee_plots_gcvi)\n",
    "plots_with_gcvi"
   ]
  },
  {
   "cell_type": "markdown",
   "id": "af198169",
   "metadata": {},
   "source": [
    "Finally, we piece all this information together to obtain the mean values for all of our bands of interest for each of our plots. We use a loop to cycle through each band of interest, run the harmonic regression, obtain the coefficient values, calculate the mean for each plot, and return the results as a single DataFrame."
   ]
  },
  {
   "cell_type": "code",
   "execution_count": 112,
   "id": "c0177d49",
   "metadata": {},
   "outputs": [
    {
     "data": {
      "text/html": [
       "\n",
       "            <style>\n",
       "                .geemap-dark {\n",
       "                    --jp-widgets-color: white;\n",
       "                    --jp-widgets-label-color: white;\n",
       "                    --jp-ui-font-color1: white;\n",
       "                    --jp-layout-color2: #454545;\n",
       "                    background-color: #383838;\n",
       "                }\n",
       "                    \n",
       "                .geemap-dark .jupyter-button {\n",
       "                    --jp-layout-color3: #383838;\n",
       "                }\n",
       "                \n",
       "                .geemap-colab {\n",
       "                    background-color: var(--colab-primary-surface-color, white);\n",
       "                }\n",
       "                    \n",
       "                .geemap-colab .jupyter-button {\n",
       "                    --jp-layout-color3: var(--colab-primary-surface-color, white);\n",
       "                }\n",
       "            </style>\n",
       "            "
      ],
      "text/plain": [
       "<IPython.core.display.HTML object>"
      ]
     },
     "metadata": {},
     "output_type": "display_data"
    },
    {
     "data": {
      "text/html": [
       "<div>\n",
       "<style scoped>\n",
       "    .dataframe tbody tr th:only-of-type {\n",
       "        vertical-align: middle;\n",
       "    }\n",
       "\n",
       "    .dataframe tbody tr th {\n",
       "        vertical-align: top;\n",
       "    }\n",
       "\n",
       "    .dataframe thead th {\n",
       "        text-align: right;\n",
       "    }\n",
       "</style>\n",
       "<table border=\"1\" class=\"dataframe\">\n",
       "  <thead>\n",
       "    <tr style=\"text-align: right;\">\n",
       "      <th></th>\n",
       "      <th>RDED4_constant</th>\n",
       "      <th>RDED4_cos1</th>\n",
       "      <th>RDED4_cos2</th>\n",
       "      <th>RDED4_count</th>\n",
       "      <th>RDED4_mean</th>\n",
       "      <th>RDED4_r2</th>\n",
       "      <th>RDED4_rmse</th>\n",
       "      <th>RDED4_sin1</th>\n",
       "      <th>RDED4_sin2</th>\n",
       "      <th>RDED4_t</th>\n",
       "      <th>...</th>\n",
       "      <th>SNDVI_cos2</th>\n",
       "      <th>SNDVI_count</th>\n",
       "      <th>SNDVI_mean</th>\n",
       "      <th>SNDVI_r2</th>\n",
       "      <th>SNDVI_rmse</th>\n",
       "      <th>SNDVI_sin1</th>\n",
       "      <th>SNDVI_sin2</th>\n",
       "      <th>SNDVI_t</th>\n",
       "      <th>SNDVI_variance</th>\n",
       "      <th>plotSNDVI</th>\n",
       "    </tr>\n",
       "  </thead>\n",
       "  <tbody>\n",
       "    <tr>\n",
       "      <th>0</th>\n",
       "      <td>-9843.987097</td>\n",
       "      <td>164.475198</td>\n",
       "      <td>-42.068327</td>\n",
       "      <td>20</td>\n",
       "      <td>0.289936</td>\n",
       "      <td>0.918320</td>\n",
       "      <td>0.016022</td>\n",
       "      <td>-2076.289213</td>\n",
       "      <td>264.703199</td>\n",
       "      <td>9721.832716</td>\n",
       "      <td>...</td>\n",
       "      <td>36.526974</td>\n",
       "      <td>20</td>\n",
       "      <td>0.292768</td>\n",
       "      <td>0.547725</td>\n",
       "      <td>0.046204</td>\n",
       "      <td>1829.886680</td>\n",
       "      <td>-233.441808</td>\n",
       "      <td>-8565.061345</td>\n",
       "      <td>0.005606</td>\n",
       "      <td>plot_a</td>\n",
       "    </tr>\n",
       "    <tr>\n",
       "      <th>1</th>\n",
       "      <td>-3153.135307</td>\n",
       "      <td>51.815795</td>\n",
       "      <td>-13.249386</td>\n",
       "      <td>20</td>\n",
       "      <td>0.305015</td>\n",
       "      <td>0.883955</td>\n",
       "      <td>0.018970</td>\n",
       "      <td>-664.437691</td>\n",
       "      <td>84.447594</td>\n",
       "      <td>3114.846398</td>\n",
       "      <td>...</td>\n",
       "      <td>4.655198</td>\n",
       "      <td>20</td>\n",
       "      <td>0.318990</td>\n",
       "      <td>0.467755</td>\n",
       "      <td>0.059705</td>\n",
       "      <td>291.777530</td>\n",
       "      <td>-38.067553</td>\n",
       "      <td>-1356.107458</td>\n",
       "      <td>0.007670</td>\n",
       "      <td>plot_b</td>\n",
       "    </tr>\n",
       "    <tr>\n",
       "      <th>2</th>\n",
       "      <td>-8570.425343</td>\n",
       "      <td>144.236141</td>\n",
       "      <td>-36.949751</td>\n",
       "      <td>20</td>\n",
       "      <td>0.282829</td>\n",
       "      <td>0.933771</td>\n",
       "      <td>0.014748</td>\n",
       "      <td>-1807.516557</td>\n",
       "      <td>230.449805</td>\n",
       "      <td>8463.378900</td>\n",
       "      <td>...</td>\n",
       "      <td>39.190031</td>\n",
       "      <td>20</td>\n",
       "      <td>0.290918</td>\n",
       "      <td>0.515928</td>\n",
       "      <td>0.049299</td>\n",
       "      <td>2022.492356</td>\n",
       "      <td>-257.842047</td>\n",
       "      <td>-9468.265691</td>\n",
       "      <td>0.005289</td>\n",
       "      <td>plot_c</td>\n",
       "    </tr>\n",
       "  </tbody>\n",
       "</table>\n",
       "<p>3 rows × 49 columns</p>\n",
       "</div>"
      ],
      "text/plain": [
       "   RDED4_constant  RDED4_cos1  RDED4_cos2  RDED4_count  RDED4_mean  RDED4_r2  \\\n",
       "0    -9843.987097  164.475198  -42.068327           20    0.289936  0.918320   \n",
       "1    -3153.135307   51.815795  -13.249386           20    0.305015  0.883955   \n",
       "2    -8570.425343  144.236141  -36.949751           20    0.282829  0.933771   \n",
       "\n",
       "   RDED4_rmse   RDED4_sin1  RDED4_sin2      RDED4_t  ...  SNDVI_cos2  \\\n",
       "0    0.016022 -2076.289213  264.703199  9721.832716  ...   36.526974   \n",
       "1    0.018970  -664.437691   84.447594  3114.846398  ...    4.655198   \n",
       "2    0.014748 -1807.516557  230.449805  8463.378900  ...   39.190031   \n",
       "\n",
       "   SNDVI_count SNDVI_mean  SNDVI_r2  SNDVI_rmse   SNDVI_sin1  SNDVI_sin2  \\\n",
       "0           20   0.292768  0.547725    0.046204  1829.886680 -233.441808   \n",
       "1           20   0.318990  0.467755    0.059705   291.777530  -38.067553   \n",
       "2           20   0.290918  0.515928    0.049299  2022.492356 -257.842047   \n",
       "\n",
       "       SNDVI_t  SNDVI_variance  plotSNDVI  \n",
       "0 -8565.061345        0.005606     plot_a  \n",
       "1 -1356.107458        0.007670     plot_b  \n",
       "2 -9468.265691        0.005289     plot_c  \n",
       "\n",
       "[3 rows x 49 columns]"
      ]
     },
     "execution_count": 112,
     "metadata": {},
     "output_type": "execute_result"
    }
   ],
   "source": [
    "bands = ['RDED4','GCVI','NDVI','SNDVI']\n",
    "s2_2a_df = pd.DataFrame()\n",
    "\n",
    "for band in bands:\n",
    "    dep_bands = [band]\n",
    "    imgcoll = s2coll_2a_2.select(dep_bands)\n",
    "\n",
    "    hrmregr_img = harmonics.run_std_regressions(imgcoll,dep_bands,None)\n",
    "\n",
    "    means = hrmregr_img.reduceRegions(\n",
    "        reducer = ee.Reducer.mean(),\n",
    "        collection = ee_plots_gdf,\n",
    "        scale = 30\n",
    "    )\n",
    "    means_df = geemap.ee_to_pandas(means)\n",
    "\n",
    "    if s2_2a_df.size == 0:\n",
    "        s2_2a_df = means_df.copy()\n",
    "    else:\n",
    "        s2_2a_df = s2_2a_df.merge(means_df, on='index',suffixes=(None,band))\n",
    "\n",
    "s2_2a_df"
   ]
  },
  {
   "cell_type": "code",
   "execution_count": 113,
   "id": "7bf9bdbc",
   "metadata": {},
   "outputs": [
    {
     "data": {
      "text/html": [
       "\n",
       "            <style>\n",
       "                .geemap-dark {\n",
       "                    --jp-widgets-color: white;\n",
       "                    --jp-widgets-label-color: white;\n",
       "                    --jp-ui-font-color1: white;\n",
       "                    --jp-layout-color2: #454545;\n",
       "                    background-color: #383838;\n",
       "                }\n",
       "                    \n",
       "                .geemap-dark .jupyter-button {\n",
       "                    --jp-layout-color3: #383838;\n",
       "                }\n",
       "                \n",
       "                .geemap-colab {\n",
       "                    background-color: var(--colab-primary-surface-color, white);\n",
       "                }\n",
       "                    \n",
       "                .geemap-colab .jupyter-button {\n",
       "                    --jp-layout-color3: var(--colab-primary-surface-color, white);\n",
       "                }\n",
       "            </style>\n",
       "            "
      ],
      "text/plain": [
       "<IPython.core.display.HTML object>"
      ]
     },
     "metadata": {},
     "output_type": "display_data"
    },
    {
     "data": {
      "text/plain": [
       "Index(['RDED4_constant', 'RDED4_cos1', 'RDED4_cos2', 'RDED4_count',\n",
       "       'RDED4_mean', 'RDED4_r2', 'RDED4_rmse', 'RDED4_sin1', 'RDED4_sin2',\n",
       "       'RDED4_t', 'RDED4_variance', 'index', 'plot', 'GCVI_constant',\n",
       "       'GCVI_cos1', 'GCVI_cos2', 'GCVI_count', 'GCVI_mean', 'GCVI_r2',\n",
       "       'GCVI_rmse', 'GCVI_sin1', 'GCVI_sin2', 'GCVI_t', 'GCVI_variance',\n",
       "       'plotGCVI', 'NDVI_constant', 'NDVI_cos1', 'NDVI_cos2', 'NDVI_count',\n",
       "       'NDVI_mean', 'NDVI_r2', 'NDVI_rmse', 'NDVI_sin1', 'NDVI_sin2', 'NDVI_t',\n",
       "       'NDVI_variance', 'plotNDVI', 'SNDVI_constant', 'SNDVI_cos1',\n",
       "       'SNDVI_cos2', 'SNDVI_count', 'SNDVI_mean', 'SNDVI_r2', 'SNDVI_rmse',\n",
       "       'SNDVI_sin1', 'SNDVI_sin2', 'SNDVI_t', 'SNDVI_variance', 'plotSNDVI'],\n",
       "      dtype='object')"
      ]
     },
     "execution_count": 113,
     "metadata": {},
     "output_type": "execute_result"
    }
   ],
   "source": [
    "s2_2a_df.columns"
   ]
  },
  {
   "cell_type": "code",
   "execution_count": 123,
   "id": "0917e557",
   "metadata": {},
   "outputs": [
    {
     "data": {
      "text/html": [
       "\n",
       "            <style>\n",
       "                .geemap-dark {\n",
       "                    --jp-widgets-color: white;\n",
       "                    --jp-widgets-label-color: white;\n",
       "                    --jp-ui-font-color1: white;\n",
       "                    --jp-layout-color2: #454545;\n",
       "                    background-color: #383838;\n",
       "                }\n",
       "                    \n",
       "                .geemap-dark .jupyter-button {\n",
       "                    --jp-layout-color3: #383838;\n",
       "                }\n",
       "                \n",
       "                .geemap-colab {\n",
       "                    background-color: var(--colab-primary-surface-color, white);\n",
       "                }\n",
       "                    \n",
       "                .geemap-colab .jupyter-button {\n",
       "                    --jp-layout-color3: var(--colab-primary-surface-color, white);\n",
       "                }\n",
       "            </style>\n",
       "            "
      ],
      "text/plain": [
       "<IPython.core.display.HTML object>"
      ]
     },
     "metadata": {},
     "output_type": "display_data"
    }
   ],
   "source": [
    "s2_2a_df = s2_2a_df.drop(['plotGCVI', 'plotNDVI', 'plotSNDVI'], axis=1)"
   ]
  },
  {
   "cell_type": "code",
   "execution_count": 124,
   "id": "4ed16870",
   "metadata": {},
   "outputs": [
    {
     "data": {
      "text/html": [
       "\n",
       "            <style>\n",
       "                .geemap-dark {\n",
       "                    --jp-widgets-color: white;\n",
       "                    --jp-widgets-label-color: white;\n",
       "                    --jp-ui-font-color1: white;\n",
       "                    --jp-layout-color2: #454545;\n",
       "                    background-color: #383838;\n",
       "                }\n",
       "                    \n",
       "                .geemap-dark .jupyter-button {\n",
       "                    --jp-layout-color3: #383838;\n",
       "                }\n",
       "                \n",
       "                .geemap-colab {\n",
       "                    background-color: var(--colab-primary-surface-color, white);\n",
       "                }\n",
       "                    \n",
       "                .geemap-colab .jupyter-button {\n",
       "                    --jp-layout-color3: var(--colab-primary-surface-color, white);\n",
       "                }\n",
       "            </style>\n",
       "            "
      ],
      "text/plain": [
       "<IPython.core.display.HTML object>"
      ]
     },
     "metadata": {},
     "output_type": "display_data"
    },
    {
     "data": {
      "text/plain": [
       "['RDED4_constant',\n",
       " 'RDED4_cos1',\n",
       " 'RDED4_cos2',\n",
       " 'RDED4_count',\n",
       " 'RDED4_mean',\n",
       " 'RDED4_r2',\n",
       " 'RDED4_rmse',\n",
       " 'RDED4_sin1',\n",
       " 'RDED4_sin2',\n",
       " 'RDED4_t',\n",
       " 'RDED4_variance',\n",
       " 'index',\n",
       " 'plot',\n",
       " 'GCVI_constant',\n",
       " 'GCVI_cos1',\n",
       " 'GCVI_cos2',\n",
       " 'GCVI_count',\n",
       " 'GCVI_mean',\n",
       " 'GCVI_r2',\n",
       " 'GCVI_rmse',\n",
       " 'GCVI_sin1',\n",
       " 'GCVI_sin2',\n",
       " 'GCVI_t',\n",
       " 'GCVI_variance',\n",
       " 'NDVI_constant',\n",
       " 'NDVI_cos1',\n",
       " 'NDVI_cos2',\n",
       " 'NDVI_count',\n",
       " 'NDVI_mean',\n",
       " 'NDVI_r2',\n",
       " 'NDVI_rmse',\n",
       " 'NDVI_sin1',\n",
       " 'NDVI_sin2',\n",
       " 'NDVI_t',\n",
       " 'NDVI_variance',\n",
       " 'SNDVI_constant',\n",
       " 'SNDVI_cos1',\n",
       " 'SNDVI_cos2',\n",
       " 'SNDVI_count',\n",
       " 'SNDVI_mean',\n",
       " 'SNDVI_r2',\n",
       " 'SNDVI_rmse',\n",
       " 'SNDVI_sin1',\n",
       " 'SNDVI_sin2',\n",
       " 'SNDVI_t',\n",
       " 'SNDVI_variance']"
      ]
     },
     "execution_count": 124,
     "metadata": {},
     "output_type": "execute_result"
    }
   ],
   "source": [
    "s2_2a_df.columns.tolist()"
   ]
  },
  {
   "cell_type": "code",
   "execution_count": null,
   "id": "1bde80d1",
   "metadata": {},
   "outputs": [],
   "source": [
    "cols = ['index',\n",
    " 'plot',\n",
    " 'RDED4_constant',\n",
    " 'RDED4_cos1',\n",
    " 'RDED4_cos2',\n",
    " 'RDED4_count',\n",
    " 'RDED4_mean',\n",
    " 'RDED4_r2',\n",
    " 'RDED4_rmse',\n",
    " 'RDED4_sin1',\n",
    " 'RDED4_sin2',\n",
    " 'RDED4_t',\n",
    " 'RDED4_variance',\n",
    " 'GCVI_constant',\n",
    " 'GCVI_cos1',\n",
    " 'GCVI_cos2',\n",
    " 'GCVI_count',\n",
    " 'GCVI_mean',\n",
    " 'GCVI_r2',\n",
    " 'GCVI_rmse',\n",
    " 'GCVI_sin1',\n",
    " 'GCVI_sin2',\n",
    " 'GCVI_t',\n",
    " 'GCVI_variance',\n",
    " 'NDVI_constant',\n",
    " 'NDVI_cos1',\n",
    " 'NDVI_cos2',\n",
    " 'NDVI_count',\n",
    " 'NDVI_mean',\n",
    " 'NDVI_r2',\n",
    " 'NDVI_rmse',\n",
    " 'NDVI_sin1',\n",
    " 'NDVI_sin2',\n",
    " 'NDVI_t',\n",
    " 'NDVI_variance',\n",
    " 'SNDVI_constant',\n",
    " 'SNDVI_cos1',\n",
    " 'SNDVI_cos2',\n",
    " 'SNDVI_count',\n",
    " 'SNDVI_mean',\n",
    " 'SNDVI_r2',\n",
    " 'SNDVI_rmse',\n",
    " 'SNDVI_sin1',\n",
    " 'SNDVI_sin2',\n",
    " 'SNDVI_t',\n",
    " 'SNDVI_variance']\n",
    "s2_2a_df = s2_2a_df[cols]"
   ]
  },
  {
   "cell_type": "code",
   "execution_count": 128,
   "id": "d46ed43f",
   "metadata": {},
   "outputs": [
    {
     "data": {
      "text/html": [
       "\n",
       "            <style>\n",
       "                .geemap-dark {\n",
       "                    --jp-widgets-color: white;\n",
       "                    --jp-widgets-label-color: white;\n",
       "                    --jp-ui-font-color1: white;\n",
       "                    --jp-layout-color2: #454545;\n",
       "                    background-color: #383838;\n",
       "                }\n",
       "                    \n",
       "                .geemap-dark .jupyter-button {\n",
       "                    --jp-layout-color3: #383838;\n",
       "                }\n",
       "                \n",
       "                .geemap-colab {\n",
       "                    background-color: var(--colab-primary-surface-color, white);\n",
       "                }\n",
       "                    \n",
       "                .geemap-colab .jupyter-button {\n",
       "                    --jp-layout-color3: var(--colab-primary-surface-color, white);\n",
       "                }\n",
       "            </style>\n",
       "            "
      ],
      "text/plain": [
       "<IPython.core.display.HTML object>"
      ]
     },
     "metadata": {},
     "output_type": "display_data"
    },
    {
     "data": {
      "text/plain": [
       "Index(['index', 'plot', 'RDED4_constant', 'RDED4_cos1', 'RDED4_cos2',\n",
       "       'RDED4_count', 'RDED4_mean', 'RDED4_r2', 'RDED4_rmse', 'RDED4_sin1',\n",
       "       'RDED4_sin2', 'RDED4_t', 'RDED4_variance', 'GCVI_constant', 'GCVI_cos1',\n",
       "       'GCVI_cos2', 'GCVI_count', 'GCVI_mean', 'GCVI_r2', 'GCVI_rmse',\n",
       "       'GCVI_sin1', 'GCVI_sin2', 'GCVI_t', 'GCVI_variance', 'NDVI_constant',\n",
       "       'NDVI_cos1', 'NDVI_cos2', 'NDVI_count', 'NDVI_mean', 'NDVI_r2',\n",
       "       'NDVI_rmse', 'NDVI_sin1', 'NDVI_sin2', 'NDVI_t', 'NDVI_variance',\n",
       "       'SNDVI_constant', 'SNDVI_cos1', 'SNDVI_cos2', 'SNDVI_count',\n",
       "       'SNDVI_mean', 'SNDVI_r2', 'SNDVI_rmse', 'SNDVI_sin1', 'SNDVI_sin2',\n",
       "       'SNDVI_t', 'SNDVI_variance'],\n",
       "      dtype='object')"
      ]
     },
     "execution_count": 128,
     "metadata": {},
     "output_type": "execute_result"
    }
   ],
   "source": [
    "s2_2a_df.columns"
   ]
  },
  {
   "cell_type": "code",
   "execution_count": 129,
   "id": "8a79d28e",
   "metadata": {},
   "outputs": [
    {
     "data": {
      "text/html": [
       "\n",
       "            <style>\n",
       "                .geemap-dark {\n",
       "                    --jp-widgets-color: white;\n",
       "                    --jp-widgets-label-color: white;\n",
       "                    --jp-ui-font-color1: white;\n",
       "                    --jp-layout-color2: #454545;\n",
       "                    background-color: #383838;\n",
       "                }\n",
       "                    \n",
       "                .geemap-dark .jupyter-button {\n",
       "                    --jp-layout-color3: #383838;\n",
       "                }\n",
       "                \n",
       "                .geemap-colab {\n",
       "                    background-color: var(--colab-primary-surface-color, white);\n",
       "                }\n",
       "                    \n",
       "                .geemap-colab .jupyter-button {\n",
       "                    --jp-layout-color3: var(--colab-primary-surface-color, white);\n",
       "                }\n",
       "            </style>\n",
       "            "
      ],
      "text/plain": [
       "<IPython.core.display.HTML object>"
      ]
     },
     "metadata": {},
     "output_type": "display_data"
    }
   ],
   "source": [
    "dill.dump_session('notebook_env.db')"
   ]
  },
  {
   "cell_type": "code",
   "execution_count": 131,
   "id": "0f87d607",
   "metadata": {},
   "outputs": [
    {
     "data": {
      "text/html": [
       "\n",
       "            <style>\n",
       "                .geemap-dark {\n",
       "                    --jp-widgets-color: white;\n",
       "                    --jp-widgets-label-color: white;\n",
       "                    --jp-ui-font-color1: white;\n",
       "                    --jp-layout-color2: #454545;\n",
       "                    background-color: #383838;\n",
       "                }\n",
       "                    \n",
       "                .geemap-dark .jupyter-button {\n",
       "                    --jp-layout-color3: #383838;\n",
       "                }\n",
       "                \n",
       "                .geemap-colab {\n",
       "                    background-color: var(--colab-primary-surface-color, white);\n",
       "                }\n",
       "                    \n",
       "                .geemap-colab .jupyter-button {\n",
       "                    --jp-layout-color3: var(--colab-primary-surface-color, white);\n",
       "                }\n",
       "            </style>\n",
       "            "
      ],
      "text/plain": [
       "<IPython.core.display.HTML object>"
      ]
     },
     "metadata": {},
     "output_type": "display_data"
    }
   ],
   "source": [
    "preselected = s2_2a_df.loc[:,('GCVI_cos2', 'GCVI_r2', 'GCVI_rmse', 'GCVI_variance', 'NDVI_cos1', 'NDVI_cos2', 'NDVI_mean', 'NDVI_sin1', 'NDVI_sin2', 'RDED4_constant', 'RDED4_cos1', 'RDED4_r2', 'RDED4_rmse', 'RDED4_sin1', 'RDED4_sin2', 'RDED4_t', 'SNDVI_r2', 'SNDVI_rmse', 'SNDVI_variance')]"
   ]
  },
  {
   "cell_type": "code",
   "execution_count": 132,
   "id": "312c2827",
   "metadata": {},
   "outputs": [
    {
     "data": {
      "text/html": [
       "\n",
       "            <style>\n",
       "                .geemap-dark {\n",
       "                    --jp-widgets-color: white;\n",
       "                    --jp-widgets-label-color: white;\n",
       "                    --jp-ui-font-color1: white;\n",
       "                    --jp-layout-color2: #454545;\n",
       "                    background-color: #383838;\n",
       "                }\n",
       "                    \n",
       "                .geemap-dark .jupyter-button {\n",
       "                    --jp-layout-color3: #383838;\n",
       "                }\n",
       "                \n",
       "                .geemap-colab {\n",
       "                    background-color: var(--colab-primary-surface-color, white);\n",
       "                }\n",
       "                    \n",
       "                .geemap-colab .jupyter-button {\n",
       "                    --jp-layout-color3: var(--colab-primary-surface-color, white);\n",
       "                }\n",
       "            </style>\n",
       "            "
      ],
      "text/plain": [
       "<IPython.core.display.HTML object>"
      ]
     },
     "metadata": {},
     "output_type": "display_data"
    },
    {
     "data": {
      "text/html": [
       "<div>\n",
       "<style scoped>\n",
       "    .dataframe tbody tr th:only-of-type {\n",
       "        vertical-align: middle;\n",
       "    }\n",
       "\n",
       "    .dataframe tbody tr th {\n",
       "        vertical-align: top;\n",
       "    }\n",
       "\n",
       "    .dataframe thead th {\n",
       "        text-align: right;\n",
       "    }\n",
       "</style>\n",
       "<table border=\"1\" class=\"dataframe\">\n",
       "  <thead>\n",
       "    <tr style=\"text-align: right;\">\n",
       "      <th></th>\n",
       "      <th>GCVI_cos2</th>\n",
       "      <th>GCVI_r2</th>\n",
       "      <th>GCVI_rmse</th>\n",
       "      <th>GCVI_variance</th>\n",
       "      <th>NDVI_cos1</th>\n",
       "      <th>NDVI_cos2</th>\n",
       "      <th>NDVI_mean</th>\n",
       "      <th>NDVI_sin1</th>\n",
       "      <th>NDVI_sin2</th>\n",
       "      <th>RDED4_constant</th>\n",
       "      <th>RDED4_cos1</th>\n",
       "      <th>RDED4_r2</th>\n",
       "      <th>RDED4_rmse</th>\n",
       "      <th>RDED4_sin1</th>\n",
       "      <th>RDED4_sin2</th>\n",
       "      <th>RDED4_t</th>\n",
       "      <th>SNDVI_r2</th>\n",
       "      <th>SNDVI_rmse</th>\n",
       "      <th>SNDVI_variance</th>\n",
       "    </tr>\n",
       "  </thead>\n",
       "  <tbody>\n",
       "    <tr>\n",
       "      <th>0</th>\n",
       "      <td>277.073137</td>\n",
       "      <td>0.439220</td>\n",
       "      <td>0.413559</td>\n",
       "      <td>0.371355</td>\n",
       "      <td>-289.913389</td>\n",
       "      <td>74.138325</td>\n",
       "      <td>0.410069</td>\n",
       "      <td>3620.193914</td>\n",
       "      <td>-461.519691</td>\n",
       "      <td>-9843.987097</td>\n",
       "      <td>164.475198</td>\n",
       "      <td>0.918320</td>\n",
       "      <td>0.016022</td>\n",
       "      <td>-2076.289213</td>\n",
       "      <td>264.703199</td>\n",
       "      <td>9721.832716</td>\n",
       "      <td>0.547725</td>\n",
       "      <td>0.046204</td>\n",
       "      <td>0.005606</td>\n",
       "    </tr>\n",
       "    <tr>\n",
       "      <th>1</th>\n",
       "      <td>165.076898</td>\n",
       "      <td>0.382873</td>\n",
       "      <td>0.487067</td>\n",
       "      <td>0.468165</td>\n",
       "      <td>-79.757364</td>\n",
       "      <td>20.625944</td>\n",
       "      <td>0.444180</td>\n",
       "      <td>1034.469035</td>\n",
       "      <td>-132.809993</td>\n",
       "      <td>-3153.135307</td>\n",
       "      <td>51.815795</td>\n",
       "      <td>0.883955</td>\n",
       "      <td>0.018970</td>\n",
       "      <td>-664.437691</td>\n",
       "      <td>84.447594</td>\n",
       "      <td>3114.846398</td>\n",
       "      <td>0.467755</td>\n",
       "      <td>0.059705</td>\n",
       "      <td>0.007670</td>\n",
       "    </tr>\n",
       "    <tr>\n",
       "      <th>2</th>\n",
       "      <td>251.108597</td>\n",
       "      <td>0.435013</td>\n",
       "      <td>0.412602</td>\n",
       "      <td>0.333018</td>\n",
       "      <td>-300.001447</td>\n",
       "      <td>76.708663</td>\n",
       "      <td>0.409237</td>\n",
       "      <td>3837.092379</td>\n",
       "      <td>-489.042323</td>\n",
       "      <td>-8570.425343</td>\n",
       "      <td>144.236141</td>\n",
       "      <td>0.933771</td>\n",
       "      <td>0.014748</td>\n",
       "      <td>-1807.516557</td>\n",
       "      <td>230.449805</td>\n",
       "      <td>8463.378900</td>\n",
       "      <td>0.515928</td>\n",
       "      <td>0.049299</td>\n",
       "      <td>0.005289</td>\n",
       "    </tr>\n",
       "  </tbody>\n",
       "</table>\n",
       "</div>"
      ],
      "text/plain": [
       "    GCVI_cos2   GCVI_r2  GCVI_rmse  GCVI_variance   NDVI_cos1  NDVI_cos2  \\\n",
       "0  277.073137  0.439220   0.413559       0.371355 -289.913389  74.138325   \n",
       "1  165.076898  0.382873   0.487067       0.468165  -79.757364  20.625944   \n",
       "2  251.108597  0.435013   0.412602       0.333018 -300.001447  76.708663   \n",
       "\n",
       "   NDVI_mean    NDVI_sin1   NDVI_sin2  RDED4_constant  RDED4_cos1  RDED4_r2  \\\n",
       "0   0.410069  3620.193914 -461.519691    -9843.987097  164.475198  0.918320   \n",
       "1   0.444180  1034.469035 -132.809993    -3153.135307   51.815795  0.883955   \n",
       "2   0.409237  3837.092379 -489.042323    -8570.425343  144.236141  0.933771   \n",
       "\n",
       "   RDED4_rmse   RDED4_sin1  RDED4_sin2      RDED4_t  SNDVI_r2  SNDVI_rmse  \\\n",
       "0    0.016022 -2076.289213  264.703199  9721.832716  0.547725    0.046204   \n",
       "1    0.018970  -664.437691   84.447594  3114.846398  0.467755    0.059705   \n",
       "2    0.014748 -1807.516557  230.449805  8463.378900  0.515928    0.049299   \n",
       "\n",
       "   SNDVI_variance  \n",
       "0        0.005606  \n",
       "1        0.007670  \n",
       "2        0.005289  "
      ]
     },
     "execution_count": 132,
     "metadata": {},
     "output_type": "execute_result"
    }
   ],
   "source": [
    "preselected"
   ]
  },
  {
   "cell_type": "code",
   "execution_count": 155,
   "id": "6f142e2f",
   "metadata": {},
   "outputs": [
    {
     "data": {
      "text/html": [
       "\n",
       "            <style>\n",
       "                .geemap-dark {\n",
       "                    --jp-widgets-color: white;\n",
       "                    --jp-widgets-label-color: white;\n",
       "                    --jp-ui-font-color1: white;\n",
       "                    --jp-layout-color2: #454545;\n",
       "                    background-color: #383838;\n",
       "                }\n",
       "                    \n",
       "                .geemap-dark .jupyter-button {\n",
       "                    --jp-layout-color3: #383838;\n",
       "                }\n",
       "                \n",
       "                .geemap-colab {\n",
       "                    background-color: var(--colab-primary-surface-color, white);\n",
       "                }\n",
       "                    \n",
       "                .geemap-colab .jupyter-button {\n",
       "                    --jp-layout-color3: var(--colab-primary-surface-color, white);\n",
       "                }\n",
       "            </style>\n",
       "            "
      ],
      "text/plain": [
       "<IPython.core.display.HTML object>"
      ]
     },
     "metadata": {},
     "output_type": "display_data"
    },
    {
     "name": "stderr",
     "output_type": "stream",
     "text": [
      "C:\\Users\\prani\\anaconda3\\envs\\cv\\lib\\site-packages\\sklearn\\cluster\\_kmeans.py:870: FutureWarning: The default value of `n_init` will change from 10 to 'auto' in 1.4. Set the value of `n_init` explicitly to suppress the warning\n",
      "  warnings.warn(\n"
     ]
    },
    {
     "name": "stdout",
     "output_type": "stream",
     "text": [
      "     plot  Cluster\n",
      "0  plot_a        1\n",
      "1  plot_b        0\n",
      "2  plot_c        1\n"
     ]
    },
    {
     "data": {
      "image/png": "[encoded data removed]",
      "text/plain": [
       "<Figure size 640x480 with 1 Axes>"
      ]
     },
     "metadata": {},
     "output_type": "display_data"
    }
   ],
   "source": [
    "from sklearn.cluster import KMeans\n",
    "\n",
    "model = KMeans(n_clusters=2)\n",
    "model.fit(preselected)\n",
    "\n",
    "s2_2a_df['Cluster'] = model.labels_\n",
    "print(s2_2a_df[['plot', 'Cluster']])\n",
    "\n",
    "plt.scatter(preselected['GCVI_cos2'], preselected['GCVI_r2'], c=preselected['Cluster'], cmap='viridis')\n",
    "plt.xlabel('GCVI_cos2')\n",
    "plt.ylabel('GCVI_r2')\n",
    "plt.show()"
   ]
  },
  {
   "cell_type": "code",
   "execution_count": 173,
   "id": "2a4112ba",
   "metadata": {
    "scrolled": true
   },
   "outputs": [
    {
     "data": {
      "text/html": [
       "\n",
       "            <style>\n",
       "                .geemap-dark {\n",
       "                    --jp-widgets-color: white;\n",
       "                    --jp-widgets-label-color: white;\n",
       "                    --jp-ui-font-color1: white;\n",
       "                    --jp-layout-color2: #454545;\n",
       "                    background-color: #383838;\n",
       "                }\n",
       "                    \n",
       "                .geemap-dark .jupyter-button {\n",
       "                    --jp-layout-color3: #383838;\n",
       "                }\n",
       "                \n",
       "                .geemap-colab {\n",
       "                    background-color: var(--colab-primary-surface-color, white);\n",
       "                }\n",
       "                    \n",
       "                .geemap-colab .jupyter-button {\n",
       "                    --jp-layout-color3: var(--colab-primary-surface-color, white);\n",
       "                }\n",
       "            </style>\n",
       "            "
      ],
      "text/plain": [
       "<IPython.core.display.HTML object>"
      ]
     },
     "metadata": {},
     "output_type": "display_data"
    }
   ],
   "source": [
    "dill.dump_session('notebook_env.db')"
   ]
  },
  {
   "cell_type": "code",
   "execution_count": 5,
   "id": "a90a80f8",
   "metadata": {},
   "outputs": [
    {
     "data": {
      "text/html": [
       "\n",
       "            <style>\n",
       "                .geemap-dark {\n",
       "                    --jp-widgets-color: white;\n",
       "                    --jp-widgets-label-color: white;\n",
       "                    --jp-ui-font-color1: white;\n",
       "                    --jp-layout-color2: #454545;\n",
       "                    background-color: #383838;\n",
       "                }\n",
       "                    \n",
       "                .geemap-dark .jupyter-button {\n",
       "                    --jp-layout-color3: #383838;\n",
       "                }\n",
       "                \n",
       "                .geemap-colab {\n",
       "                    background-color: var(--colab-primary-surface-color, white);\n",
       "                }\n",
       "                    \n",
       "                .geemap-colab .jupyter-button {\n",
       "                    --jp-layout-color3: var(--colab-primary-surface-color, white);\n",
       "                }\n",
       "            </style>\n",
       "            "
      ],
      "text/plain": [
       "<IPython.core.display.HTML object>"
      ]
     },
     "metadata": {},
     "output_type": "display_data"
    }
   ],
   "source": [
    "import dill"
   ]
  },
  {
   "cell_type": "code",
   "execution_count": 6,
   "id": "c1d2cde4",
   "metadata": {},
   "outputs": [
    {
     "data": {
      "text/html": [
       "\n",
       "            <style>\n",
       "                .geemap-dark {\n",
       "                    --jp-widgets-color: white;\n",
       "                    --jp-widgets-label-color: white;\n",
       "                    --jp-ui-font-color1: white;\n",
       "                    --jp-layout-color2: #454545;\n",
       "                    background-color: #383838;\n",
       "                }\n",
       "                    \n",
       "                .geemap-dark .jupyter-button {\n",
       "                    --jp-layout-color3: #383838;\n",
       "                }\n",
       "                \n",
       "                .geemap-colab {\n",
       "                    background-color: var(--colab-primary-surface-color, white);\n",
       "                }\n",
       "                    \n",
       "                .geemap-colab .jupyter-button {\n",
       "                    --jp-layout-color3: var(--colab-primary-surface-color, white);\n",
       "                }\n",
       "            </style>\n",
       "            "
      ],
      "text/plain": [
       "<IPython.core.display.HTML object>"
      ]
     },
     "metadata": {},
     "output_type": "display_data"
    }
   ],
   "source": [
    "dill.load_session('notebook_env.db')"
   ]
  },
  {
   "cell_type": "code",
   "execution_count": 15,
   "id": "31d23bd5",
   "metadata": {},
   "outputs": [
    {
     "data": {
      "text/html": [
       "\n",
       "            <style>\n",
       "                .geemap-dark {\n",
       "                    --jp-widgets-color: white;\n",
       "                    --jp-widgets-label-color: white;\n",
       "                    --jp-ui-font-color1: white;\n",
       "                    --jp-layout-color2: #454545;\n",
       "                    background-color: #383838;\n",
       "                }\n",
       "                    \n",
       "                .geemap-dark .jupyter-button {\n",
       "                    --jp-layout-color3: #383838;\n",
       "                }\n",
       "                \n",
       "                .geemap-colab {\n",
       "                    background-color: var(--colab-primary-surface-color, white);\n",
       "                }\n",
       "                    \n",
       "                .geemap-colab .jupyter-button {\n",
       "                    --jp-layout-color3: var(--colab-primary-surface-color, white);\n",
       "                }\n",
       "            </style>\n",
       "            "
      ],
      "text/plain": [
       "<IPython.core.display.HTML object>"
      ]
     },
     "metadata": {},
     "output_type": "display_data"
    },
    {
     "ename": "Exception",
     "evalue": "Computation timed out.",
     "output_type": "error",
     "traceback": [
      "\u001b[1;31m---------------------------------------------------------------------------\u001b[0m",
      "\u001b[1;31mHttpError\u001b[0m                                 Traceback (most recent call last)",
      "File \u001b[1;32m~\\anaconda3\\envs\\cv\\lib\\site-packages\\ee\\data.py:372\u001b[0m, in \u001b[0;36m_execute_cloud_call\u001b[1;34m(call, num_retries)\u001b[0m\n\u001b[0;32m    371\u001b[0m \u001b[38;5;28;01mtry\u001b[39;00m:\n\u001b[1;32m--> 372\u001b[0m   \u001b[38;5;28;01mreturn\u001b[39;00m \u001b[43mcall\u001b[49m\u001b[38;5;241;43m.\u001b[39;49m\u001b[43mexecute\u001b[49m\u001b[43m(\u001b[49m\u001b[43mnum_retries\u001b[49m\u001b[38;5;241;43m=\u001b[39;49m\u001b[43mnum_retries\u001b[49m\u001b[43m)\u001b[49m\n\u001b[0;32m    373\u001b[0m \u001b[38;5;28;01mexcept\u001b[39;00m googleapiclient\u001b[38;5;241m.\u001b[39merrors\u001b[38;5;241m.\u001b[39mHttpError \u001b[38;5;28;01mas\u001b[39;00m e:\n",
      "File \u001b[1;32m~\\anaconda3\\envs\\cv\\lib\\site-packages\\googleapiclient\\_helpers.py:130\u001b[0m, in \u001b[0;36mpositional.<locals>.positional_decorator.<locals>.positional_wrapper\u001b[1;34m(*args, **kwargs)\u001b[0m\n\u001b[0;32m    129\u001b[0m         logger\u001b[38;5;241m.\u001b[39mwarning(message)\n\u001b[1;32m--> 130\u001b[0m \u001b[38;5;28;01mreturn\u001b[39;00m \u001b[43mwrapped\u001b[49m\u001b[43m(\u001b[49m\u001b[38;5;241;43m*\u001b[39;49m\u001b[43margs\u001b[49m\u001b[43m,\u001b[49m\u001b[43m \u001b[49m\u001b[38;5;241;43m*\u001b[39;49m\u001b[38;5;241;43m*\u001b[39;49m\u001b[43mkwargs\u001b[49m\u001b[43m)\u001b[49m\n",
      "File \u001b[1;32m~\\anaconda3\\envs\\cv\\lib\\site-packages\\googleapiclient\\http.py:938\u001b[0m, in \u001b[0;36mHttpRequest.execute\u001b[1;34m(self, http, num_retries)\u001b[0m\n\u001b[0;32m    937\u001b[0m \u001b[38;5;28;01mif\u001b[39;00m resp\u001b[38;5;241m.\u001b[39mstatus \u001b[38;5;241m>\u001b[39m\u001b[38;5;241m=\u001b[39m \u001b[38;5;241m300\u001b[39m:\n\u001b[1;32m--> 938\u001b[0m     \u001b[38;5;28;01mraise\u001b[39;00m HttpError(resp, content, uri\u001b[38;5;241m=\u001b[39m\u001b[38;5;28mself\u001b[39m\u001b[38;5;241m.\u001b[39muri)\n\u001b[0;32m    939\u001b[0m \u001b[38;5;28;01mreturn\u001b[39;00m \u001b[38;5;28mself\u001b[39m\u001b[38;5;241m.\u001b[39mpostproc(resp, content)\n",
      "\u001b[1;31mHttpError\u001b[0m: <HttpError 400 when requesting https://earthengine.googleapis.com/v1/projects/earthengine-legacy/value:compute?prettyPrint=false&alt=json returned \"Computation timed out.\". Details: \"Computation timed out.\">",
      "\nDuring handling of the above exception, another exception occurred:\n",
      "\u001b[1;31mEEException\u001b[0m                               Traceback (most recent call last)",
      "File \u001b[1;32m~\\anaconda3\\envs\\cv\\lib\\site-packages\\geemap\\common.py:8947\u001b[0m, in \u001b[0;36mee_to_df\u001b[1;34m(ee_object, col_names, sort_columns, **kwargs)\u001b[0m\n\u001b[0;32m   8946\u001b[0m \u001b[38;5;28;01mtry\u001b[39;00m:\n\u001b[1;32m-> 8947\u001b[0m     property_names \u001b[38;5;241m=\u001b[39m \u001b[43mee_object\u001b[49m\u001b[38;5;241;43m.\u001b[39;49m\u001b[43mfirst\u001b[49m\u001b[43m(\u001b[49m\u001b[43m)\u001b[49m\u001b[38;5;241;43m.\u001b[39;49m\u001b[43mpropertyNames\u001b[49m\u001b[43m(\u001b[49m\u001b[43m)\u001b[49m\u001b[38;5;241;43m.\u001b[39;49m\u001b[43msort\u001b[49m\u001b[43m(\u001b[49m\u001b[43m)\u001b[49m\u001b[38;5;241;43m.\u001b[39;49m\u001b[43mgetInfo\u001b[49m\u001b[43m(\u001b[49m\u001b[43m)\u001b[49m\n\u001b[0;32m   8948\u001b[0m     data \u001b[38;5;241m=\u001b[39m ee_object\u001b[38;5;241m.\u001b[39mmap(\u001b[38;5;28;01mlambda\u001b[39;00m f: ee\u001b[38;5;241m.\u001b[39mFeature(\u001b[38;5;28;01mNone\u001b[39;00m, f\u001b[38;5;241m.\u001b[39mtoDictionary(property_names)))\n",
      "File \u001b[1;32m~\\anaconda3\\envs\\cv\\lib\\site-packages\\ee\\computedobject.py:108\u001b[0m, in \u001b[0;36mComputedObject.getInfo\u001b[1;34m(self)\u001b[0m\n\u001b[0;32m    103\u001b[0m \u001b[38;5;250m\u001b[39m\u001b[38;5;124;03m\"\"\"Fetch and return information about this object.\u001b[39;00m\n\u001b[0;32m    104\u001b[0m \n\u001b[0;32m    105\u001b[0m \u001b[38;5;124;03mReturns:\u001b[39;00m\n\u001b[0;32m    106\u001b[0m \u001b[38;5;124;03m  The object can evaluate to anything.\u001b[39;00m\n\u001b[0;32m    107\u001b[0m \u001b[38;5;124;03m\"\"\"\u001b[39;00m\n\u001b[1;32m--> 108\u001b[0m \u001b[38;5;28;01mreturn\u001b[39;00m \u001b[43mdata\u001b[49m\u001b[38;5;241;43m.\u001b[39;49m\u001b[43mcomputeValue\u001b[49m\u001b[43m(\u001b[49m\u001b[38;5;28;43mself\u001b[39;49m\u001b[43m)\u001b[49m\n",
      "File \u001b[1;32m~\\anaconda3\\envs\\cv\\lib\\site-packages\\ee\\data.py:1071\u001b[0m, in \u001b[0;36mcomputeValue\u001b[1;34m(obj)\u001b[0m\n\u001b[0;32m   1069\u001b[0m _maybe_populate_workload_tag(body)\n\u001b[1;32m-> 1071\u001b[0m \u001b[38;5;28;01mreturn\u001b[39;00m \u001b[43m_execute_cloud_call\u001b[49m\u001b[43m(\u001b[49m\n\u001b[0;32m   1072\u001b[0m \u001b[43m    \u001b[49m\u001b[43m_get_cloud_projects\u001b[49m\u001b[43m(\u001b[49m\u001b[43m)\u001b[49m\n\u001b[0;32m   1073\u001b[0m \u001b[43m    \u001b[49m\u001b[38;5;241;43m.\u001b[39;49m\u001b[43mvalue\u001b[49m\u001b[43m(\u001b[49m\u001b[43m)\u001b[49m\n\u001b[0;32m   1074\u001b[0m \u001b[43m    \u001b[49m\u001b[38;5;241;43m.\u001b[39;49m\u001b[43mcompute\u001b[49m\u001b[43m(\u001b[49m\u001b[43mbody\u001b[49m\u001b[38;5;241;43m=\u001b[39;49m\u001b[43mbody\u001b[49m\u001b[43m,\u001b[49m\u001b[43m \u001b[49m\u001b[43mproject\u001b[49m\u001b[38;5;241;43m=\u001b[39;49m\u001b[43m_get_projects_path\u001b[49m\u001b[43m(\u001b[49m\u001b[43m)\u001b[49m\u001b[43m,\u001b[49m\u001b[43m \u001b[49m\u001b[43mprettyPrint\u001b[49m\u001b[38;5;241;43m=\u001b[39;49m\u001b[38;5;28;43;01mFalse\u001b[39;49;00m\u001b[43m)\u001b[49m\n\u001b[0;32m   1075\u001b[0m \u001b[43m\u001b[49m\u001b[43m)\u001b[49m[\u001b[38;5;124m'\u001b[39m\u001b[38;5;124mresult\u001b[39m\u001b[38;5;124m'\u001b[39m]\n",
      "File \u001b[1;32m~\\anaconda3\\envs\\cv\\lib\\site-packages\\ee\\data.py:374\u001b[0m, in \u001b[0;36m_execute_cloud_call\u001b[1;34m(call, num_retries)\u001b[0m\n\u001b[0;32m    373\u001b[0m \u001b[38;5;28;01mexcept\u001b[39;00m googleapiclient\u001b[38;5;241m.\u001b[39merrors\u001b[38;5;241m.\u001b[39mHttpError \u001b[38;5;28;01mas\u001b[39;00m e:\n\u001b[1;32m--> 374\u001b[0m   \u001b[38;5;28;01mraise\u001b[39;00m _translate_cloud_exception(e)\n",
      "\u001b[1;31mEEException\u001b[0m: Computation timed out.",
      "\nDuring handling of the above exception, another exception occurred:\n",
      "\u001b[1;31mException\u001b[0m                                 Traceback (most recent call last)",
      "\u001b[1;32m~\\AppData\\Local\\Temp\\ipykernel_17480\\1972513115.py\u001b[0m in \u001b[0;36m?\u001b[1;34m()\u001b[0m\n\u001b[0;32m     14\u001b[0m     \u001b[0mdep_bands\u001b[0m \u001b[1;33m=\u001b[0m \u001b[1;33m[\u001b[0m\u001b[0mband\u001b[0m\u001b[1;33m]\u001b[0m\u001b[1;33m\u001b[0m\u001b[1;33m\u001b[0m\u001b[0m\n\u001b[0;32m     15\u001b[0m     \u001b[0mimgcoll2\u001b[0m \u001b[1;33m=\u001b[0m \u001b[0ms2coll_2a_2\u001b[0m\u001b[1;33m.\u001b[0m\u001b[0mselect\u001b[0m\u001b[1;33m(\u001b[0m\u001b[0mdep_bands\u001b[0m\u001b[1;33m)\u001b[0m\u001b[1;33m\u001b[0m\u001b[1;33m\u001b[0m\u001b[0m\n\u001b[0;32m     16\u001b[0m \u001b[1;33m\u001b[0m\u001b[0m\n\u001b[0;32m     17\u001b[0m     \u001b[0mhrmregr_img\u001b[0m \u001b[1;33m=\u001b[0m \u001b[0mharmonics\u001b[0m\u001b[1;33m.\u001b[0m\u001b[0mrun_std_regressions\u001b[0m\u001b[1;33m(\u001b[0m\u001b[0mimgcoll2\u001b[0m\u001b[1;33m,\u001b[0m\u001b[0mdep_bands\u001b[0m\u001b[1;33m,\u001b[0m\u001b[1;32mNone\u001b[0m\u001b[1;33m)\u001b[0m\u001b[1;33m\u001b[0m\u001b[1;33m\u001b[0m\u001b[0m\n\u001b[1;32m---> 18\u001b[1;33m \u001b[1;33m\u001b[0m\u001b[0m\n\u001b[0m\u001b[0;32m     19\u001b[0m     means2 = hrmregr_img.reduceRegions(\n\u001b[0;32m     20\u001b[0m         \u001b[0mreducer\u001b[0m \u001b[1;33m=\u001b[0m \u001b[0mee\u001b[0m\u001b[1;33m.\u001b[0m\u001b[0mReducer\u001b[0m\u001b[1;33m.\u001b[0m\u001b[0mmean\u001b[0m\u001b[1;33m(\u001b[0m\u001b[1;33m)\u001b[0m\u001b[1;33m,\u001b[0m\u001b[1;33m\u001b[0m\u001b[1;33m\u001b[0m\u001b[0m\n\u001b[0;32m     21\u001b[0m         \u001b[0mcollection\u001b[0m \u001b[1;33m=\u001b[0m \u001b[0mee_plot_data_gdf\u001b[0m\u001b[1;33m,\u001b[0m\u001b[1;33m\u001b[0m\u001b[1;33m\u001b[0m\u001b[0m\n",
      "\u001b[1;32m~\\anaconda3\\envs\\cv\\lib\\site-packages\\geemap\\common.py\u001b[0m in \u001b[0;36m?\u001b[1;34m(ee_object, col_names, sort_columns, **kwargs)\u001b[0m\n\u001b[0;32m   8964\u001b[0m             \u001b[0mdf\u001b[0m \u001b[1;33m=\u001b[0m \u001b[0mdf\u001b[0m\u001b[1;33m.\u001b[0m\u001b[0mreindex\u001b[0m\u001b[1;33m(\u001b[0m\u001b[0msorted\u001b[0m\u001b[1;33m(\u001b[0m\u001b[0mdf\u001b[0m\u001b[1;33m.\u001b[0m\u001b[0mcolumns\u001b[0m\u001b[1;33m)\u001b[0m\u001b[1;33m,\u001b[0m \u001b[0maxis\u001b[0m\u001b[1;33m=\u001b[0m\u001b[1;36m1\u001b[0m\u001b[1;33m)\u001b[0m\u001b[1;33m\u001b[0m\u001b[1;33m\u001b[0m\u001b[0m\n\u001b[0;32m   8965\u001b[0m \u001b[1;33m\u001b[0m\u001b[0m\n\u001b[0;32m   8966\u001b[0m         \u001b[1;32mreturn\u001b[0m \u001b[0mdf\u001b[0m\u001b[1;33m\u001b[0m\u001b[1;33m\u001b[0m\u001b[0m\n\u001b[0;32m   8967\u001b[0m     \u001b[1;32mexcept\u001b[0m \u001b[0mException\u001b[0m \u001b[1;32mas\u001b[0m \u001b[0me\u001b[0m\u001b[1;33m:\u001b[0m\u001b[1;33m\u001b[0m\u001b[1;33m\u001b[0m\u001b[0m\n\u001b[1;32m-> 8968\u001b[1;33m         \u001b[1;32mraise\u001b[0m \u001b[0mException\u001b[0m\u001b[1;33m(\u001b[0m\u001b[0me\u001b[0m\u001b[1;33m)\u001b[0m\u001b[1;33m\u001b[0m\u001b[1;33m\u001b[0m\u001b[0m\n\u001b[0m",
      "\u001b[1;31mException\u001b[0m: Computation timed out."
     ]
    }
   ],
   "source": [
    "plot_data = generatePlots(1000, 28, 77)\n",
    "ee_plot_data_gdf = geemap.geopandas_to_ee(plot_data)\n",
    "\n",
    "bands = ['RDED4','GCVI','NDVI','SNDVI']\n",
    "s2_2a_df2 = pd.DataFrame()\n",
    "\n",
    "for band in bands:\n",
    "    dep_bands = [band]\n",
    "    imgcoll2 = s2coll_2a_2.select(dep_bands)\n",
    "\n",
    "    hrmregr_img = harmonics.run_std_regressions(imgcoll2,dep_bands,None)\n",
    "\n",
    "    means2 = hrmregr_img.reduceRegions(\n",
    "        reducer = ee.Reducer.mean(),\n",
    "        collection = ee_plot_data_gdf,\n",
    "        scale = 30\n",
    "    )\n",
    "    means_df2 = geemap.ee_to_pandas(means2)\n",
    "\n",
    "    if s2_2a_df2.size == 0:\n",
    "        s2_2a_df2 = means_df2.copy()\n",
    "    else:\n",
    "        s2_2a_df2 = s2_2a_df2.merge(means_df2, on='index',suffixes=(None,band))\n",
    "\n",
    "s2_2a_df2"
   ]
  },
  {
   "cell_type": "code",
   "execution_count": 26,
   "id": "55aff9b9",
   "metadata": {},
   "outputs": [
    {
     "data": {
      "text/html": [
       "\n",
       "            <style>\n",
       "                .geemap-dark {\n",
       "                    --jp-widgets-color: white;\n",
       "                    --jp-widgets-label-color: white;\n",
       "                    --jp-ui-font-color1: white;\n",
       "                    --jp-layout-color2: #454545;\n",
       "                    background-color: #383838;\n",
       "                }\n",
       "                    \n",
       "                .geemap-dark .jupyter-button {\n",
       "                    --jp-layout-color3: #383838;\n",
       "                }\n",
       "                \n",
       "                .geemap-colab {\n",
       "                    background-color: var(--colab-primary-surface-color, white);\n",
       "                }\n",
       "                    \n",
       "                .geemap-colab .jupyter-button {\n",
       "                    --jp-layout-color3: var(--colab-primary-surface-color, white);\n",
       "                }\n",
       "            </style>\n",
       "            "
      ],
      "text/plain": [
       "<IPython.core.display.HTML object>"
      ]
     },
     "metadata": {},
     "output_type": "display_data"
    },
    {
     "ename": "Exception",
     "evalue": "Output of image computation is too large (3 bands for 7039510 pixels = 134.3 MiB > 80.0 MiB).\nIf this is a reduction, try specifying a larger 'tileScale' parameter.",
     "output_type": "error",
     "traceback": [
      "\u001b[1;31m---------------------------------------------------------------------------\u001b[0m",
      "\u001b[1;31mHttpError\u001b[0m                                 Traceback (most recent call last)",
      "File \u001b[1;32m~\\anaconda3\\envs\\cv\\lib\\site-packages\\ee\\data.py:372\u001b[0m, in \u001b[0;36m_execute_cloud_call\u001b[1;34m(call, num_retries)\u001b[0m\n\u001b[0;32m    371\u001b[0m \u001b[38;5;28;01mtry\u001b[39;00m:\n\u001b[1;32m--> 372\u001b[0m   \u001b[38;5;28;01mreturn\u001b[39;00m \u001b[43mcall\u001b[49m\u001b[38;5;241;43m.\u001b[39;49m\u001b[43mexecute\u001b[49m\u001b[43m(\u001b[49m\u001b[43mnum_retries\u001b[49m\u001b[38;5;241;43m=\u001b[39;49m\u001b[43mnum_retries\u001b[49m\u001b[43m)\u001b[49m\n\u001b[0;32m    373\u001b[0m \u001b[38;5;28;01mexcept\u001b[39;00m googleapiclient\u001b[38;5;241m.\u001b[39merrors\u001b[38;5;241m.\u001b[39mHttpError \u001b[38;5;28;01mas\u001b[39;00m e:\n",
      "File \u001b[1;32m~\\anaconda3\\envs\\cv\\lib\\site-packages\\googleapiclient\\_helpers.py:130\u001b[0m, in \u001b[0;36mpositional.<locals>.positional_decorator.<locals>.positional_wrapper\u001b[1;34m(*args, **kwargs)\u001b[0m\n\u001b[0;32m    129\u001b[0m         logger\u001b[38;5;241m.\u001b[39mwarning(message)\n\u001b[1;32m--> 130\u001b[0m \u001b[38;5;28;01mreturn\u001b[39;00m \u001b[43mwrapped\u001b[49m\u001b[43m(\u001b[49m\u001b[38;5;241;43m*\u001b[39;49m\u001b[43margs\u001b[49m\u001b[43m,\u001b[49m\u001b[43m \u001b[49m\u001b[38;5;241;43m*\u001b[39;49m\u001b[38;5;241;43m*\u001b[39;49m\u001b[43mkwargs\u001b[49m\u001b[43m)\u001b[49m\n",
      "File \u001b[1;32m~\\anaconda3\\envs\\cv\\lib\\site-packages\\googleapiclient\\http.py:938\u001b[0m, in \u001b[0;36mHttpRequest.execute\u001b[1;34m(self, http, num_retries)\u001b[0m\n\u001b[0;32m    937\u001b[0m \u001b[38;5;28;01mif\u001b[39;00m resp\u001b[38;5;241m.\u001b[39mstatus \u001b[38;5;241m>\u001b[39m\u001b[38;5;241m=\u001b[39m \u001b[38;5;241m300\u001b[39m:\n\u001b[1;32m--> 938\u001b[0m     \u001b[38;5;28;01mraise\u001b[39;00m HttpError(resp, content, uri\u001b[38;5;241m=\u001b[39m\u001b[38;5;28mself\u001b[39m\u001b[38;5;241m.\u001b[39muri)\n\u001b[0;32m    939\u001b[0m \u001b[38;5;28;01mreturn\u001b[39;00m \u001b[38;5;28mself\u001b[39m\u001b[38;5;241m.\u001b[39mpostproc(resp, content)\n",
      "\u001b[1;31mHttpError\u001b[0m: <HttpError 400 when requesting https://earthengine.googleapis.com/v1/projects/earthengine-legacy/value:compute?prettyPrint=false&alt=json returned \"Output of image computation is too large (3 bands for 7039510 pixels = 134.3 MiB > 80.0 MiB).\nIf this is a reduction, try specifying a larger 'tileScale' parameter.\". Details: \"Output of image computation is too large (3 bands for 7039510 pixels = 134.3 MiB > 80.0 MiB).\nIf this is a reduction, try specifying a larger 'tileScale' parameter.\">",
      "\nDuring handling of the above exception, another exception occurred:\n",
      "\u001b[1;31mEEException\u001b[0m                               Traceback (most recent call last)",
      "File \u001b[1;32m~\\anaconda3\\envs\\cv\\lib\\site-packages\\geemap\\common.py:8947\u001b[0m, in \u001b[0;36mee_to_df\u001b[1;34m(ee_object, col_names, sort_columns, **kwargs)\u001b[0m\n\u001b[0;32m   8946\u001b[0m \u001b[38;5;28;01mtry\u001b[39;00m:\n\u001b[1;32m-> 8947\u001b[0m     property_names \u001b[38;5;241m=\u001b[39m \u001b[43mee_object\u001b[49m\u001b[38;5;241;43m.\u001b[39;49m\u001b[43mfirst\u001b[49m\u001b[43m(\u001b[49m\u001b[43m)\u001b[49m\u001b[38;5;241;43m.\u001b[39;49m\u001b[43mpropertyNames\u001b[49m\u001b[43m(\u001b[49m\u001b[43m)\u001b[49m\u001b[38;5;241;43m.\u001b[39;49m\u001b[43msort\u001b[49m\u001b[43m(\u001b[49m\u001b[43m)\u001b[49m\u001b[38;5;241;43m.\u001b[39;49m\u001b[43mgetInfo\u001b[49m\u001b[43m(\u001b[49m\u001b[43m)\u001b[49m\n\u001b[0;32m   8948\u001b[0m     data \u001b[38;5;241m=\u001b[39m ee_object\u001b[38;5;241m.\u001b[39mmap(\u001b[38;5;28;01mlambda\u001b[39;00m f: ee\u001b[38;5;241m.\u001b[39mFeature(\u001b[38;5;28;01mNone\u001b[39;00m, f\u001b[38;5;241m.\u001b[39mtoDictionary(property_names)))\n",
      "File \u001b[1;32m~\\anaconda3\\envs\\cv\\lib\\site-packages\\ee\\computedobject.py:108\u001b[0m, in \u001b[0;36mComputedObject.getInfo\u001b[1;34m(self)\u001b[0m\n\u001b[0;32m    103\u001b[0m \u001b[38;5;250m\u001b[39m\u001b[38;5;124;03m\"\"\"Fetch and return information about this object.\u001b[39;00m\n\u001b[0;32m    104\u001b[0m \n\u001b[0;32m    105\u001b[0m \u001b[38;5;124;03mReturns:\u001b[39;00m\n\u001b[0;32m    106\u001b[0m \u001b[38;5;124;03m  The object can evaluate to anything.\u001b[39;00m\n\u001b[0;32m    107\u001b[0m \u001b[38;5;124;03m\"\"\"\u001b[39;00m\n\u001b[1;32m--> 108\u001b[0m \u001b[38;5;28;01mreturn\u001b[39;00m \u001b[43mdata\u001b[49m\u001b[38;5;241;43m.\u001b[39;49m\u001b[43mcomputeValue\u001b[49m\u001b[43m(\u001b[49m\u001b[38;5;28;43mself\u001b[39;49m\u001b[43m)\u001b[49m\n",
      "File \u001b[1;32m~\\anaconda3\\envs\\cv\\lib\\site-packages\\ee\\data.py:1071\u001b[0m, in \u001b[0;36mcomputeValue\u001b[1;34m(obj)\u001b[0m\n\u001b[0;32m   1069\u001b[0m _maybe_populate_workload_tag(body)\n\u001b[1;32m-> 1071\u001b[0m \u001b[38;5;28;01mreturn\u001b[39;00m \u001b[43m_execute_cloud_call\u001b[49m\u001b[43m(\u001b[49m\n\u001b[0;32m   1072\u001b[0m \u001b[43m    \u001b[49m\u001b[43m_get_cloud_projects\u001b[49m\u001b[43m(\u001b[49m\u001b[43m)\u001b[49m\n\u001b[0;32m   1073\u001b[0m \u001b[43m    \u001b[49m\u001b[38;5;241;43m.\u001b[39;49m\u001b[43mvalue\u001b[49m\u001b[43m(\u001b[49m\u001b[43m)\u001b[49m\n\u001b[0;32m   1074\u001b[0m \u001b[43m    \u001b[49m\u001b[38;5;241;43m.\u001b[39;49m\u001b[43mcompute\u001b[49m\u001b[43m(\u001b[49m\u001b[43mbody\u001b[49m\u001b[38;5;241;43m=\u001b[39;49m\u001b[43mbody\u001b[49m\u001b[43m,\u001b[49m\u001b[43m \u001b[49m\u001b[43mproject\u001b[49m\u001b[38;5;241;43m=\u001b[39;49m\u001b[43m_get_projects_path\u001b[49m\u001b[43m(\u001b[49m\u001b[43m)\u001b[49m\u001b[43m,\u001b[49m\u001b[43m \u001b[49m\u001b[43mprettyPrint\u001b[49m\u001b[38;5;241;43m=\u001b[39;49m\u001b[38;5;28;43;01mFalse\u001b[39;49;00m\u001b[43m)\u001b[49m\n\u001b[0;32m   1075\u001b[0m \u001b[43m\u001b[49m\u001b[43m)\u001b[49m[\u001b[38;5;124m'\u001b[39m\u001b[38;5;124mresult\u001b[39m\u001b[38;5;124m'\u001b[39m]\n",
      "File \u001b[1;32m~\\anaconda3\\envs\\cv\\lib\\site-packages\\ee\\data.py:374\u001b[0m, in \u001b[0;36m_execute_cloud_call\u001b[1;34m(call, num_retries)\u001b[0m\n\u001b[0;32m    373\u001b[0m \u001b[38;5;28;01mexcept\u001b[39;00m googleapiclient\u001b[38;5;241m.\u001b[39merrors\u001b[38;5;241m.\u001b[39mHttpError \u001b[38;5;28;01mas\u001b[39;00m e:\n\u001b[1;32m--> 374\u001b[0m   \u001b[38;5;28;01mraise\u001b[39;00m _translate_cloud_exception(e)\n",
      "\u001b[1;31mEEException\u001b[0m: Output of image computation is too large (3 bands for 7039510 pixels = 134.3 MiB > 80.0 MiB).\nIf this is a reduction, try specifying a larger 'tileScale' parameter.",
      "\nDuring handling of the above exception, another exception occurred:\n",
      "\u001b[1;31mException\u001b[0m                                 Traceback (most recent call last)",
      "\u001b[1;32m~\\AppData\\Local\\Temp\\ipykernel_17480\\1785944248.py\u001b[0m in \u001b[0;36m?\u001b[1;34m()\u001b[0m\n\u001b[0;32m     21\u001b[0m \u001b[1;33m\u001b[0m\u001b[0m\n\u001b[0;32m     22\u001b[0m     \u001b[1;32mfor\u001b[0m \u001b[0mband\u001b[0m \u001b[1;32min\u001b[0m \u001b[0mbands\u001b[0m\u001b[1;33m:\u001b[0m\u001b[1;33m\u001b[0m\u001b[1;33m\u001b[0m\u001b[0m\n\u001b[0;32m     23\u001b[0m         \u001b[0mdep_bands\u001b[0m \u001b[1;33m=\u001b[0m \u001b[1;33m[\u001b[0m\u001b[0mband\u001b[0m\u001b[1;33m]\u001b[0m\u001b[1;33m\u001b[0m\u001b[1;33m\u001b[0m\u001b[0m\n\u001b[0;32m     24\u001b[0m         \u001b[0mimgcoll2\u001b[0m \u001b[1;33m=\u001b[0m \u001b[0ms2coll_2a_2\u001b[0m\u001b[1;33m.\u001b[0m\u001b[0mselect\u001b[0m\u001b[1;33m(\u001b[0m\u001b[0mdep_bands\u001b[0m\u001b[1;33m)\u001b[0m\u001b[1;33m\u001b[0m\u001b[1;33m\u001b[0m\u001b[0m\n\u001b[1;32m---> 25\u001b[1;33m \u001b[1;33m\u001b[0m\u001b[0m\n\u001b[0m\u001b[0;32m     26\u001b[0m         \u001b[0mhrmregr_img\u001b[0m \u001b[1;33m=\u001b[0m \u001b[0mharmonics\u001b[0m\u001b[1;33m.\u001b[0m\u001b[0mrun_std_regressions\u001b[0m\u001b[1;33m(\u001b[0m\u001b[0mimgcoll2\u001b[0m\u001b[1;33m,\u001b[0m \u001b[0mdep_bands\u001b[0m\u001b[1;33m,\u001b[0m \u001b[1;32mNone\u001b[0m\u001b[1;33m)\u001b[0m\u001b[1;33m\u001b[0m\u001b[1;33m\u001b[0m\u001b[0m\n\u001b[0;32m     27\u001b[0m \u001b[1;33m\u001b[0m\u001b[0m\n\u001b[0;32m     28\u001b[0m         means2 = hrmregr_img.reduceRegions(\n",
      "\u001b[1;32m~\\anaconda3\\envs\\cv\\lib\\site-packages\\geemap\\common.py\u001b[0m in \u001b[0;36m?\u001b[1;34m(ee_object, col_names, sort_columns, **kwargs)\u001b[0m\n\u001b[0;32m   8964\u001b[0m             \u001b[0mdf\u001b[0m \u001b[1;33m=\u001b[0m \u001b[0mdf\u001b[0m\u001b[1;33m.\u001b[0m\u001b[0mreindex\u001b[0m\u001b[1;33m(\u001b[0m\u001b[0msorted\u001b[0m\u001b[1;33m(\u001b[0m\u001b[0mdf\u001b[0m\u001b[1;33m.\u001b[0m\u001b[0mcolumns\u001b[0m\u001b[1;33m)\u001b[0m\u001b[1;33m,\u001b[0m \u001b[0maxis\u001b[0m\u001b[1;33m=\u001b[0m\u001b[1;36m1\u001b[0m\u001b[1;33m)\u001b[0m\u001b[1;33m\u001b[0m\u001b[1;33m\u001b[0m\u001b[0m\n\u001b[0;32m   8965\u001b[0m \u001b[1;33m\u001b[0m\u001b[0m\n\u001b[0;32m   8966\u001b[0m         \u001b[1;32mreturn\u001b[0m \u001b[0mdf\u001b[0m\u001b[1;33m\u001b[0m\u001b[1;33m\u001b[0m\u001b[0m\n\u001b[0;32m   8967\u001b[0m     \u001b[1;32mexcept\u001b[0m \u001b[0mException\u001b[0m \u001b[1;32mas\u001b[0m \u001b[0me\u001b[0m\u001b[1;33m:\u001b[0m\u001b[1;33m\u001b[0m\u001b[1;33m\u001b[0m\u001b[0m\n\u001b[1;32m-> 8968\u001b[1;33m         \u001b[1;32mraise\u001b[0m \u001b[0mException\u001b[0m\u001b[1;33m(\u001b[0m\u001b[0me\u001b[0m\u001b[1;33m)\u001b[0m\u001b[1;33m\u001b[0m\u001b[1;33m\u001b[0m\u001b[0m\n\u001b[0m",
      "\u001b[1;31mException\u001b[0m: Output of image computation is too large (3 bands for 7039510 pixels = 134.3 MiB > 80.0 MiB).\nIf this is a reduction, try specifying a larger 'tileScale' parameter."
     ]
    }
   ],
   "source": [
    "plot_data = generatePlots(50, 28, 77)\n",
    "\n",
    "bands = ['RDED4','GCVI','NDVI','SNDVI']\n",
    "s2_2a_df2 = pd.DataFrame()\n",
    "\n",
    "batch_size = 5\n",
    "num_batches = 10\n",
    "\n",
    "for i in range(num_batches):\n",
    "    start = i * batch_size\n",
    "    end = (i + 1) * batch_size\n",
    "    ee_batch_data_gdf = geemap.geopandas_to_ee(plot_data[start:end])\n",
    "\n",
    "    for band in bands:\n",
    "        dep_bands = [band]\n",
    "        imgcoll2 = s2coll_2a_2.select(dep_bands)\n",
    "\n",
    "        hrmregr_img = harmonics.run_std_regressions(imgcoll2, dep_bands, None)\n",
    "\n",
    "        means2 = hrmregr_img.reduceRegions(\n",
    "            reducer=ee.Reducer.mean(),\n",
    "            collection=ee_batch_data_gdf,\n",
    "            scale=30,\n",
    "        )\n",
    "        means_df2 = geemap.ee_to_pandas(means2)\n",
    "\n",
    "        if s2_2a_df2.size == 0:\n",
    "            s2_2a_df2 = means_df2.copy()\n",
    "        else:\n",
    "            s2_2a_df2 = s2_2a_df2.merge(means_df2, on='index', suffixes=(None, band))\n",
    "\n",
    "s2_2a_df2"
   ]
  },
  {
   "cell_type": "code",
   "execution_count": null,
   "id": "cfd5d70e",
   "metadata": {},
   "outputs": [],
   "source": []
  }
 ],
 "metadata": {
  "kernelspec": {
   "display_name": "cv_kernel",
   "language": "python",
   "name": "cv_kernel"
  },
  "language_info": {
   "codemirror_mode": {
    "name": "ipython",
    "version": 3
   },
   "file_extension": ".py",
   "mimetype": "text/x-python",
   "name": "python",
   "nbconvert_exporter": "python",
   "pygments_lexer": "ipython3",
   "version": "3.8.18"
  }
 },
 "nbformat": 4,
 "nbformat_minor": 5
}
